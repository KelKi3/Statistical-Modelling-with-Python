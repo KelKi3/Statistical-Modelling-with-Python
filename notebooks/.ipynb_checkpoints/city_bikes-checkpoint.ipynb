{
 "cells": [
  {
   "cell_type": "markdown",
   "metadata": {},
   "source": [
    "\n",
    "# CityBikes\n"
   ]
  },
  {
   "cell_type": "markdown",
   "metadata": {},
   "source": [
    "### Send a request to CityBikes for the city of your choice. "
   ]
  },
  {
   "cell_type": "code",
   "execution_count": 1,
   "metadata": {},
   "outputs": [],
   "source": [
    "import requests\n",
    "import json\n",
    "import pandas as pd"
   ]
  },
  {
   "cell_type": "markdown",
   "metadata": {},
   "source": [
    "#### API request to CityBikes"
   ]
  },
  {
   "cell_type": "code",
   "execution_count": 2,
   "metadata": {},
   "outputs": [],
   "source": [
    "\"\"\"\n",
    "#API call for citybikes\n",
    "\n",
    "base_url = r'http://api.citybik.es/v2/networks/'\n",
    "response = requests.get(base_url)\n",
    "\"\"\""
   ]
  },
  {
   "cell_type": "code",
   "execution_count": 29,
   "metadata": {},
   "outputs": [],
   "source": [
    "data = response.json()"
   ]
  },
  {
   "cell_type": "code",
   "execution_count": 30,
   "metadata": {},
   "outputs": [],
   "source": [
    "#saving json file\n",
    "\n",
    "with open('../citybike_data.json', 'w') as json_file:\n",
    "        json.dump(data, json_file, indent=4)"
   ]
  },
  {
   "cell_type": "code",
   "execution_count": 8,
   "metadata": {
    "tags": []
   },
   "outputs": [],
   "source": [
    "#open json file\n",
    "\n",
    "with open('../data/citybike_data.json', 'r') as json_file:\n",
    "    data = json.load(json_file)"
   ]
  },
  {
   "cell_type": "markdown",
   "metadata": {
    "tags": []
   },
   "source": [
    "Initial data parsing done only to be lead to another link in order to request the actual data about the bikes stations that I wanted."
   ]
  },
  {
   "cell_type": "code",
   "execution_count": 9,
   "metadata": {},
   "outputs": [
    {
     "data": {
      "text/plain": [
       "dict_keys(['networks'])"
      ]
     },
     "execution_count": 9,
     "metadata": {},
     "output_type": "execute_result"
    }
   ],
   "source": [
    "data.keys()"
   ]
  },
  {
   "cell_type": "code",
   "execution_count": 10,
   "metadata": {},
   "outputs": [
    {
     "data": {
      "text/plain": [
       "dict_keys(['city', 'country', 'latitude', 'longitude'])"
      ]
     },
     "execution_count": 10,
     "metadata": {},
     "output_type": "execute_result"
    }
   ],
   "source": [
    "data['networks'][0]['location'].keys()"
   ]
  },
  {
   "cell_type": "code",
   "execution_count": 11,
   "metadata": {},
   "outputs": [
    {
     "data": {
      "text/plain": [
       "'RU'"
      ]
     },
     "execution_count": 11,
     "metadata": {},
     "output_type": "execute_result"
    }
   ],
   "source": [
    "data['networks'][0]['location']['country']"
   ]
  },
  {
   "cell_type": "code",
   "execution_count": 12,
   "metadata": {},
   "outputs": [
    {
     "name": "stdout",
     "output_type": "stream",
     "text": [
      "[{'company': ['Motivate International, Inc.', 'PBSC Urban Solutions'], 'gbfs_href': 'https://tor.publicbikesystem.net/ube/gbfs/v1/', 'href': '/v2/networks/bixi-toronto', 'id': 'bixi-toronto', 'location': {'city': 'Toronto, ON', 'country': 'CA', 'latitude': 43.653226, 'longitude': -79.3831843}, 'name': 'Bike Share Toronto'}]\n"
     ]
    }
   ],
   "source": [
    "#Iterating through 'data' to find information related to Toronto, ON\n",
    "\n",
    "data_canada = []\n",
    "\n",
    "for network in data['networks']:\n",
    "    if network['location']['country'] == 'CA' and network['location']['city']== 'Toronto, ON':\n",
    "        data_canada.append(network)\n",
    "\n",
    "print(data_canada)"
   ]
  },
  {
   "cell_type": "markdown",
   "metadata": {},
   "source": [
    "<br>\n",
    "Above data provided another link to retrieve data for Toronto bike stations."
   ]
  },
  {
   "cell_type": "code",
   "execution_count": 13,
   "metadata": {},
   "outputs": [],
   "source": [
    "\"\"\"\n",
    "#Second API Request to get Toronto information\n",
    "\n",
    "station_information = requests.get('https://toronto.publicbikesystem.net/customer/ube/gbfs/v1/en/station_information').json()\n",
    "station_status = requests.get('https://toronto.publicbikesystem.net/customer/ube/gbfs/v1/en/station_status').json()\n",
    "system_information = requests.get('https://toronto.publicbikesystem.net/customer/ube/gbfs/v1/en/system_information').json()\n",
    "\"\"\""
   ]
  },
  {
   "cell_type": "code",
   "execution_count": 21,
   "metadata": {},
   "outputs": [],
   "source": [
    "#open json file\n",
    "\n",
    "with open('../data/station_information.json', 'r') as json_file:\n",
    "    station_information = json.load(json_file)"
   ]
  },
  {
   "cell_type": "code",
   "execution_count": 22,
   "metadata": {},
   "outputs": [],
   "source": [
    "#open json file\n",
    "\n",
    "with open('../data/station_status.json', 'r') as json_file:\n",
    "    station_status = json.load(json_file)"
   ]
  },
  {
   "cell_type": "markdown",
   "metadata": {},
   "source": [
    "### Parse through the response to get the details you want for the bike stations in that city (latitude, longitude, number of bikes). "
   ]
  },
  {
   "cell_type": "code",
   "execution_count": 23,
   "metadata": {
    "tags": []
   },
   "outputs": [
    {
     "data": {
      "text/plain": [
       "{'station_id': '7000',\n",
       " 'name': 'Fort York  Blvd / Capreol Ct',\n",
       " 'physical_configuration': 'REGULAR',\n",
       " 'lat': 43.639832,\n",
       " 'lon': -79.395954,\n",
       " 'altitude': 0.0,\n",
       " 'address': 'Fort York  Blvd / Capreol Ct',\n",
       " 'capacity': 35,\n",
       " 'is_charging_station': False,\n",
       " 'rental_methods': ['KEY', 'TRANSITCARD', 'CREDITCARD', 'PHONE'],\n",
       " 'groups': [],\n",
       " 'obcn': '647-643-9607',\n",
       " 'nearby_distance': 500.0,\n",
       " '_ride_code_support': True,\n",
       " 'rental_uris': {}}"
      ]
     },
     "execution_count": 23,
     "metadata": {},
     "output_type": "execute_result"
    }
   ],
   "source": [
    "#sifting through the data in order to understand how it is laid out.\n",
    "\n",
    "station_information['data']['stations'][0]"
   ]
  },
  {
   "cell_type": "code",
   "execution_count": 37,
   "metadata": {
    "tags": []
   },
   "outputs": [
    {
     "name": "stdout",
     "output_type": "stream",
     "text": [
      "[('7000', 'Fort York  Blvd / Capreol Ct', 43.639832, -79.395954), ('7001', 'Wellesley Station Green P', 43.66496415990742, -79.38355031526893), ('7002', 'St. George St / Bloor St W', 43.667333, -79.399429), ('7003', 'Madison Ave / Bloor St W', 43.667158, -79.402761), ('7004', 'University Ave / Elm St', 43.656518, -79.389099)]\n"
     ]
    }
   ],
   "source": [
    "#grabbing the required information from the station information data\n",
    "\n",
    "bike_station_data = []\n",
    "\n",
    "for station in station_information['data']['stations']:\n",
    "    station_id= station['station_id']\n",
    "    station_name = station['name']\n",
    "    station_lat = station['lat']\n",
    "    station_lon = station['lon']\n",
    "    bike_station_data.append((station_id, station_name, station_lat, station_lon))\n",
    "\n",
    "print(bike_station_data[:5])"
   ]
  },
  {
   "cell_type": "markdown",
   "metadata": {},
   "source": [
    "<br>\n",
    "Note: The bike numbers used for this project are a snapshop from when the data was acquired."
   ]
  },
  {
   "cell_type": "code",
   "execution_count": 28,
   "metadata": {
    "tags": []
   },
   "outputs": [
    {
     "name": "stdout",
     "output_type": "stream",
     "text": [
      "[('7000', 6), ('7001', 11), ('7002', 9), ('7003', 2), ('7004', 6)]\n"
     ]
    }
   ],
   "source": [
    "#collecting number of bikes from the station status data\n",
    "\n",
    "bike_numbers = []\n",
    "\n",
    "for bike in station_status['data']['stations']:\n",
    "    station_id = bike['station_id']\n",
    "    num_bikes = bike['num_bikes_available']\n",
    "    bike_numbers.append((station_id, num_bikes))\n",
    "\n",
    "print(bike_numbers[:5])"
   ]
  },
  {
   "cell_type": "markdown",
   "metadata": {},
   "source": [
    "### Put your parsed results into a DataFrame."
   ]
  },
  {
   "cell_type": "code",
   "execution_count": 29,
   "metadata": {},
   "outputs": [],
   "source": [
    "station_df=pd.DataFrame(bike_station_data)\n",
    "numbers_df=pd.DataFrame(bike_numbers)"
   ]
  },
  {
   "cell_type": "code",
   "execution_count": 30,
   "metadata": {},
   "outputs": [],
   "source": [
    "#fixing column headers\n",
    "\n",
    "station_df.columns = ['station_id', 'name', 'lat', 'lon' ]\n",
    "numbers_df.columns = ['station_id', 'num_of_bikes']"
   ]
  },
  {
   "cell_type": "code",
   "execution_count": 31,
   "metadata": {},
   "outputs": [
    {
     "data": {
      "text/html": [
       "<div>\n",
       "<style scoped>\n",
       "    .dataframe tbody tr th:only-of-type {\n",
       "        vertical-align: middle;\n",
       "    }\n",
       "\n",
       "    .dataframe tbody tr th {\n",
       "        vertical-align: top;\n",
       "    }\n",
       "\n",
       "    .dataframe thead th {\n",
       "        text-align: right;\n",
       "    }\n",
       "</style>\n",
       "<table border=\"1\" class=\"dataframe\">\n",
       "  <thead>\n",
       "    <tr style=\"text-align: right;\">\n",
       "      <th></th>\n",
       "      <th>station_id</th>\n",
       "      <th>num_of_bikes</th>\n",
       "    </tr>\n",
       "  </thead>\n",
       "  <tbody>\n",
       "    <tr>\n",
       "      <th>0</th>\n",
       "      <td>7000</td>\n",
       "      <td>6</td>\n",
       "    </tr>\n",
       "  </tbody>\n",
       "</table>\n",
       "</div>"
      ],
      "text/plain": [
       "  station_id  num_of_bikes\n",
       "0       7000             6"
      ]
     },
     "execution_count": 31,
     "metadata": {},
     "output_type": "execute_result"
    }
   ],
   "source": [
    "numbers_df.head(1)"
   ]
  },
  {
   "cell_type": "code",
   "execution_count": 32,
   "metadata": {},
   "outputs": [
    {
     "data": {
      "text/html": [
       "<div>\n",
       "<style scoped>\n",
       "    .dataframe tbody tr th:only-of-type {\n",
       "        vertical-align: middle;\n",
       "    }\n",
       "\n",
       "    .dataframe tbody tr th {\n",
       "        vertical-align: top;\n",
       "    }\n",
       "\n",
       "    .dataframe thead th {\n",
       "        text-align: right;\n",
       "    }\n",
       "</style>\n",
       "<table border=\"1\" class=\"dataframe\">\n",
       "  <thead>\n",
       "    <tr style=\"text-align: right;\">\n",
       "      <th></th>\n",
       "      <th>station_id</th>\n",
       "      <th>name</th>\n",
       "      <th>lat</th>\n",
       "      <th>lon</th>\n",
       "    </tr>\n",
       "  </thead>\n",
       "  <tbody>\n",
       "    <tr>\n",
       "      <th>0</th>\n",
       "      <td>7000</td>\n",
       "      <td>Fort York  Blvd / Capreol Ct</td>\n",
       "      <td>43.639832</td>\n",
       "      <td>-79.395954</td>\n",
       "    </tr>\n",
       "  </tbody>\n",
       "</table>\n",
       "</div>"
      ],
      "text/plain": [
       "  station_id                          name        lat        lon\n",
       "0       7000  Fort York  Blvd / Capreol Ct  43.639832 -79.395954"
      ]
     },
     "execution_count": 32,
     "metadata": {},
     "output_type": "execute_result"
    }
   ],
   "source": [
    "station_df.head(1)"
   ]
  },
  {
   "cell_type": "code",
   "execution_count": 33,
   "metadata": {},
   "outputs": [],
   "source": [
    "#merging above dataframes into one\n",
    "\n",
    "bike_df = pd.merge(station_df, numbers_df, on='station_id')"
   ]
  },
  {
   "cell_type": "code",
   "execution_count": 34,
   "metadata": {},
   "outputs": [
    {
     "data": {
      "text/html": [
       "<div>\n",
       "<style scoped>\n",
       "    .dataframe tbody tr th:only-of-type {\n",
       "        vertical-align: middle;\n",
       "    }\n",
       "\n",
       "    .dataframe tbody tr th {\n",
       "        vertical-align: top;\n",
       "    }\n",
       "\n",
       "    .dataframe thead th {\n",
       "        text-align: right;\n",
       "    }\n",
       "</style>\n",
       "<table border=\"1\" class=\"dataframe\">\n",
       "  <thead>\n",
       "    <tr style=\"text-align: right;\">\n",
       "      <th></th>\n",
       "      <th>station_id</th>\n",
       "      <th>name</th>\n",
       "      <th>lat</th>\n",
       "      <th>lon</th>\n",
       "      <th>num_of_bikes</th>\n",
       "    </tr>\n",
       "  </thead>\n",
       "  <tbody>\n",
       "    <tr>\n",
       "      <th>0</th>\n",
       "      <td>7000</td>\n",
       "      <td>Fort York  Blvd / Capreol Ct</td>\n",
       "      <td>43.639832</td>\n",
       "      <td>-79.395954</td>\n",
       "      <td>6</td>\n",
       "    </tr>\n",
       "  </tbody>\n",
       "</table>\n",
       "</div>"
      ],
      "text/plain": [
       "  station_id                          name        lat        lon  num_of_bikes\n",
       "0       7000  Fort York  Blvd / Capreol Ct  43.639832 -79.395954             6"
      ]
     },
     "execution_count": 34,
     "metadata": {},
     "output_type": "execute_result"
    }
   ],
   "source": [
    "bike_df.head(1)"
   ]
  },
  {
   "cell_type": "code",
   "execution_count": 36,
   "metadata": {},
   "outputs": [],
   "source": [
    "#saving dataframe to csv\n",
    "\n",
    "bike_df.to_csv(r'..\\data\\bike_df.csv', index=False)"
   ]
  }
 ],
 "metadata": {
  "kernelspec": {
   "display_name": "Python 3 (ipykernel)",
   "language": "python",
   "name": "python3"
  },
  "language_info": {
   "codemirror_mode": {
    "name": "ipython",
    "version": 3
   },
   "file_extension": ".py",
   "mimetype": "text/x-python",
   "name": "python",
   "nbconvert_exporter": "python",
   "pygments_lexer": "ipython3",
   "version": "3.11.5"
  }
 },
 "nbformat": 4,
 "nbformat_minor": 4
}

{
 "cells": [
  {
   "cell_type": "markdown",
   "metadata": {},
   "source": [
    "# Yelp Foursquare EDA"
   ]
  },
  {
   "cell_type": "code",
   "execution_count": 28,
   "metadata": {},
   "outputs": [],
   "source": [
    "import requests\n",
    "import json\n",
    "import pandas as pd\n",
    "import os"
   ]
  },
  {
   "cell_type": "markdown",
   "metadata": {},
   "source": [
    "#### Importing CityBike dataframe"
   ]
  },
  {
   "cell_type": "code",
   "execution_count": 29,
   "metadata": {
    "tags": []
   },
   "outputs": [],
   "source": [
    "df_bike = pd.read_csv(r'../data/bike_df.csv')"
   ]
  },
  {
   "cell_type": "code",
   "execution_count": 30,
   "metadata": {},
   "outputs": [
    {
     "data": {
      "text/html": [
       "<div>\n",
       "<style scoped>\n",
       "    .dataframe tbody tr th:only-of-type {\n",
       "        vertical-align: middle;\n",
       "    }\n",
       "\n",
       "    .dataframe tbody tr th {\n",
       "        vertical-align: top;\n",
       "    }\n",
       "\n",
       "    .dataframe thead th {\n",
       "        text-align: right;\n",
       "    }\n",
       "</style>\n",
       "<table border=\"1\" class=\"dataframe\">\n",
       "  <thead>\n",
       "    <tr style=\"text-align: right;\">\n",
       "      <th></th>\n",
       "      <th>station_id</th>\n",
       "      <th>name</th>\n",
       "      <th>lat</th>\n",
       "      <th>lon</th>\n",
       "      <th>num_of_bikes</th>\n",
       "    </tr>\n",
       "  </thead>\n",
       "  <tbody>\n",
       "    <tr>\n",
       "      <th>0</th>\n",
       "      <td>7000</td>\n",
       "      <td>Fort York  Blvd / Capreol Ct</td>\n",
       "      <td>43.639832</td>\n",
       "      <td>-79.395954</td>\n",
       "      <td>6</td>\n",
       "    </tr>\n",
       "  </tbody>\n",
       "</table>\n",
       "</div>"
      ],
      "text/plain": [
       "   station_id                          name        lat        lon  \\\n",
       "0        7000  Fort York  Blvd / Capreol Ct  43.639832 -79.395954   \n",
       "\n",
       "   num_of_bikes  \n",
       "0             6  "
      ]
     },
     "execution_count": 30,
     "metadata": {},
     "output_type": "execute_result"
    }
   ],
   "source": [
    "df_bike.head(1)"
   ]
  },
  {
   "cell_type": "code",
   "execution_count": 31,
   "metadata": {},
   "outputs": [
    {
     "data": {
      "text/plain": [
       "(691, 5)"
      ]
     },
     "execution_count": 31,
     "metadata": {},
     "output_type": "execute_result"
    }
   ],
   "source": [
    "df_bike.shape"
   ]
  },
  {
   "cell_type": "markdown",
   "metadata": {},
   "source": [
    "#### Cleaning CityBikes"
   ]
  },
  {
   "cell_type": "code",
   "execution_count": 32,
   "metadata": {},
   "outputs": [],
   "source": [
    "#fixing column headers\n",
    "\n",
    "df_bike.columns = ['Station Id', 'Name', 'Latitude', 'Longitude', 'Number of Bikes']"
   ]
  },
  {
   "cell_type": "code",
   "execution_count": 33,
   "metadata": {},
   "outputs": [
    {
     "data": {
      "text/html": [
       "<div>\n",
       "<style scoped>\n",
       "    .dataframe tbody tr th:only-of-type {\n",
       "        vertical-align: middle;\n",
       "    }\n",
       "\n",
       "    .dataframe tbody tr th {\n",
       "        vertical-align: top;\n",
       "    }\n",
       "\n",
       "    .dataframe thead th {\n",
       "        text-align: right;\n",
       "    }\n",
       "</style>\n",
       "<table border=\"1\" class=\"dataframe\">\n",
       "  <thead>\n",
       "    <tr style=\"text-align: right;\">\n",
       "      <th></th>\n",
       "      <th>Station Id</th>\n",
       "      <th>Name</th>\n",
       "      <th>Latitude</th>\n",
       "      <th>Longitude</th>\n",
       "      <th>Number of Bikes</th>\n",
       "    </tr>\n",
       "  </thead>\n",
       "  <tbody>\n",
       "    <tr>\n",
       "      <th>0</th>\n",
       "      <td>7000</td>\n",
       "      <td>Fort York  Blvd / Capreol Ct</td>\n",
       "      <td>43.639832</td>\n",
       "      <td>-79.395954</td>\n",
       "      <td>6</td>\n",
       "    </tr>\n",
       "  </tbody>\n",
       "</table>\n",
       "</div>"
      ],
      "text/plain": [
       "   Station Id                          Name   Latitude  Longitude  \\\n",
       "0        7000  Fort York  Blvd / Capreol Ct  43.639832 -79.395954   \n",
       "\n",
       "   Number of Bikes  \n",
       "0                6  "
      ]
     },
     "execution_count": 33,
     "metadata": {},
     "output_type": "execute_result"
    }
   ],
   "source": [
    "df_bike.head(1)"
   ]
  },
  {
   "cell_type": "markdown",
   "metadata": {},
   "source": [
    "# Foursquare"
   ]
  },
  {
   "cell_type": "markdown",
   "metadata": {},
   "source": [
    "#### Send a request to Foursquare with a small radius (1000m) for all the bike stations in your city of choice. "
   ]
  },
  {
   "cell_type": "code",
   "execution_count": 34,
   "metadata": {},
   "outputs": [],
   "source": [
    "FOURSQUARE_KEY = os.environ.get('FS_AK')"
   ]
  },
  {
   "cell_type": "code",
   "execution_count": 35,
   "metadata": {},
   "outputs": [],
   "source": [
    "#function for retrieving data from Foursquare API\n",
    "\n",
    "def get_venues_fs(latitude, longitude, radius, api_key, categories, fields, limit):\n",
    "    \n",
    "    base_url = 'https://api.foursquare.com/v3/places/search'\n",
    "\n",
    "    params = {\n",
    "        'll': f\"{latitude},{longitude}\",\n",
    "        'radius': radius,\n",
    "        'categoryId': categories,\n",
    "        'fields': fields,\n",
    "        'limit': limit\n",
    "    }\n",
    "\n",
    "    headers = {'accept': 'application/json',\n",
    "               'Authorization': api_key              \n",
    "              }\n",
    "\n",
    "    response = requests.get(base_url, params = params, headers=headers)\n",
    "\n",
    "    return response.json()"
   ]
  },
  {
   "cell_type": "markdown",
   "metadata": {},
   "source": [
    "I ended up making multiple requests from the Foursquare API as I was playing with the settings in order to get the data that I wanted. "
   ]
  },
  {
   "cell_type": "markdown",
   "metadata": {},
   "source": [
    "#### FS ALL CATEGORIES - Did not use this data for the project."
   ]
  },
  {
   "cell_type": "code",
   "execution_count": null,
   "metadata": {},
   "outputs": [],
   "source": [
    "\"\"\"\n",
    "#Retrieving Foursquare data through API with all the chosen category codes.\n",
    "\n",
    "venues_all_cats_2 = []\n",
    "\n",
    "# Iterate through each row in the CityBikes DataFrame for latitude and longitude\n",
    "for index, row in df_bike.iterrows():\n",
    "    latitude = row['lat']\n",
    "    longitude = row['lon']\n",
    "    \n",
    "# Make a request to Foursquare API using the latitude and longitude values from CityBikes\n",
    "    venues = get_venues_fs(latitude, longitude, radius=1000, api_key=FOURSQUARE_KEY, categories='13003,10003,10069,10018,10020,10024,10032,12080,13042,16032', fields='fsq_id,name,distance,categories,stats,rating,popularity,price,tastes', limit=50)\n",
    "    venues_all_cats_2.append(venues)\n",
    "\"\"\""
   ]
  },
  {
   "cell_type": "code",
   "execution_count": 36,
   "metadata": {},
   "outputs": [],
   "source": [
    "#json load - with all desired categories\n",
    "\n",
    "with open('../data/fs_results_all_categories.json', 'r') as json_file:\n",
    "    venues_all_cats_2 = json.load(json_file)"
   ]
  },
  {
   "cell_type": "code",
   "execution_count": 37,
   "metadata": {
    "tags": []
   },
   "outputs": [
    {
     "data": {
      "text/plain": [
       "[{'fsq_id': '59d19c050c9f3155d662a0c8',\n",
       "  'categories': [{'id': 13034,\n",
       "    'name': 'Café',\n",
       "    'icon': {'prefix': 'https://ss3.4sqi.net/img/categories_v2/food/cafe_',\n",
       "     'suffix': '.png'}}],\n",
       "  'distance': 40,\n",
       "  'name': 'CAFE Dispensary',\n",
       "  'popularity': 0.827288364889599,\n",
       "  'price': 1,\n",
       "  'rating': 7.8,\n",
       "  'stats': {'total_photos': 2, 'total_ratings': 8, 'total_tips': 0}}]"
      ]
     },
     "execution_count": 37,
     "metadata": {},
     "output_type": "execute_result"
    }
   ],
   "source": [
    "venues_all_cats_2[0]['results'][:1]"
   ]
  },
  {
   "cell_type": "markdown",
   "metadata": {},
   "source": [
    "#### FS SOME CATEGORIES, NO BARS - Did not use this data for the project."
   ]
  },
  {
   "cell_type": "code",
   "execution_count": null,
   "metadata": {},
   "outputs": [],
   "source": [
    "\"\"\"\n",
    "#retrieving Foursquare data from API, omitting bar/restaurant codes\n",
    "\n",
    "fs_venues_no_bars2 = []\n",
    "\n",
    "# Iterate through each row in the 'data' DataFrame\n",
    "for index, row in df_bike.iterrows():\n",
    "    latitude = row['lat']\n",
    "    longitude = row['lon']\n",
    "    \n",
    "# Make a request to Foursquare API using the latitude and longitude values from CityBikes\n",
    "    venues = get_venues_fs(latitude, longitude, radius=1000, api_key=FOURSQUARE_KEY, categories='10003,10069,10024,12080,16032', fields='fsq_id,name,distance,categories,stats,rating,popularity,price,tastes', limit=50)\n",
    "    fs_venues_no_bars2.append(venues)\n",
    "\"\"\""
   ]
  },
  {
   "cell_type": "code",
   "execution_count": 38,
   "metadata": {},
   "outputs": [],
   "source": [
    "#json load - with all above categories, excluding bars and restaurants\n",
    "\n",
    "with open('../data/fs_results_no_bars2.json', 'r') as json_file:\n",
    "    fs_venues_no_bars = json.load(json_file)"
   ]
  },
  {
   "cell_type": "markdown",
   "metadata": {},
   "source": [
    "#### FS NO CATEGORIES - This is the data that will be used for the project"
   ]
  },
  {
   "cell_type": "code",
   "execution_count": null,
   "metadata": {},
   "outputs": [],
   "source": [
    "\"\"\"\n",
    "#Retrieving Foursquare data using no category codes.\n",
    "\n",
    "fs_venues_no_cats = []\n",
    "\n",
    "# Iterate through each row in the 'data' DataFrame\n",
    "for index, row in df_bike.iterrows():\n",
    "    latitude = row['lat']\n",
    "    longitude = row['lon']\n",
    "    \n",
    "# Make a request to Foursquare API using the latitude and longitude values from City Bikes\n",
    "    venues = get_venues_fs(latitude, longitude, radius=1000, api_key=FOURSQUARE_KEY, categories=None, fields='fsq_id,name,distance,categories,stats,rating,popularity,price,tastes', limit=50)\n",
    "    fs_venues_no_cats.append(venues)\n",
    "\"\"\""
   ]
  },
  {
   "cell_type": "code",
   "execution_count": 42,
   "metadata": {},
   "outputs": [],
   "source": [
    "#json load\n",
    "\n",
    "with open('../data/fs_results_no_cats.json', 'r') as json_file:\n",
    "    fs_venues_no_cats = json.load(json_file)"
   ]
  },
  {
   "cell_type": "markdown",
   "metadata": {},
   "source": [
    "### Parse through the response to get the POI (such as restaurants, bars, etc) details you want (ratings, name, location, etc)"
   ]
  },
  {
   "cell_type": "code",
   "execution_count": 43,
   "metadata": {},
   "outputs": [
    {
     "name": "stdout",
     "output_type": "stream",
     "text": [
      "59d19c050c9f3155d662a0c8\n",
      "CAFE Dispensary\n",
      "0.827288364889599\n",
      "7.8\n",
      "1\n",
      "40\n",
      "Café\n",
      "13034\n",
      "13034\n",
      "2\n",
      "8\n",
      "0\n",
      "-79.395954\n"
     ]
    }
   ],
   "source": [
    "#The data that will be included in the dataframe\n",
    "stn_ind = 0\n",
    "fs_id = fs_venues_no_cats[0]['results'][0]['fsq_id']\n",
    "print(fs_id)\n",
    "ven_name = fs_venues_no_cats[0]['results'][0]['name']\n",
    "print(ven_name)\n",
    "ven_pop = fs_venues_no_cats[0]['results'][0]['popularity']\n",
    "print(ven_pop)\n",
    "ven_rating = fs_venues_no_cats[0]['results'][0]['rating']\n",
    "print(ven_rating)\n",
    "ven_price = fs_venues_no_cats[0]['results'][0]['price']\n",
    "print(ven_price)\n",
    "ven_dist_from_stn = fs_venues_no_cats[0]['results'][0]['distance']\n",
    "print(ven_dist_from_stn)\n",
    "cat_name = fs_venues_no_cats[0]['results'][0]['categories'][0]['name']\n",
    "print(cat_name)\n",
    "cat_id = fs_venues_no_cats[0]['results'][0]['categories'][0]['id']\n",
    "print(cat_id)\n",
    "cat_id = fs_venues_no_cats[0]['results'][0]['categories'][0]['id']\n",
    "print(cat_id)\n",
    "t_photos = fs_venues_no_cats[0]['results'][0]['stats']['total_photos']\n",
    "print(t_photos)\n",
    "t_ratings = fs_venues_no_cats[0]['results'][0]['stats']['total_ratings']\n",
    "print(t_ratings)\n",
    "t_tips = fs_venues_no_cats[0]['results'][0]['stats']['total_tips']\n",
    "print(t_tips)\n",
    "long = fs_venues_no_cats[0]['context']['geo_bounds']['circle']['center']['longitude']\n",
    "print(long)"
   ]
  },
  {
   "cell_type": "markdown",
   "metadata": {},
   "source": [
    "\n",
    "### Put your parsed results into a DataFrame\n"
   ]
  },
  {
   "cell_type": "markdown",
   "metadata": {},
   "source": [
    "Data frames were made from the alternate FS API requests that will not be used, in order to compare them to see which set was preferred.\n",
    "I did not add the additional coding to make those dataframes, but will include the csv for interest sake."
   ]
  },
  {
   "cell_type": "code",
   "execution_count": 53,
   "metadata": {
    "tags": []
   },
   "outputs": [],
   "source": [
    "#csv load - FS results with all desired category codes. Did not use.\n",
    "fs_data_all_categories = pd.read_csv(r'../data/fs_data_all_categories.csv')"
   ]
  },
  {
   "cell_type": "code",
   "execution_count": 57,
   "metadata": {
    "tags": []
   },
   "outputs": [],
   "source": [
    "#csv load - FS results with all category codes above, no bars or restaurants. Did not use.\n",
    "fs_no_bar_2 = pd.read_csv(r'../data/fs_no_bar_2.csv')"
   ]
  },
  {
   "cell_type": "markdown",
   "metadata": {},
   "source": [
    "All data that was derived from a particular bike station was given a station index number temporarily to facilitate in joining the data frames to the CityBike dataframe later."
   ]
  },
  {
   "cell_type": "code",
   "execution_count": 75,
   "metadata": {},
   "outputs": [],
   "source": [
    "#Created a foursquare data frame from the data with no category codes. USING.\n",
    "\n",
    "data = []\n",
    "for stn_ind, venue_data in enumerate(fs_venues_no_cats):\n",
    "    results = venue_data['results']\n",
    "    latitude = fs_venues_no_cats[0]['context']['geo_bounds']['circle']['center']['latitude']\n",
    "    longitude = fs_venues_no_cats[0]['context']['geo_bounds']['circle']['center']['longitude']\n",
    "    radius = venue_data['context']['geo_bounds']['circle']['radius']\n",
    "\n",
    "    for result in results:\n",
    "        fs_id = result.get('fsq_id', None)\n",
    "        ven_name = result.get('name', None)\n",
    "        ven_pop = result.get('popularity', None)\n",
    "        ven_rating = result.get('rating', None)\n",
    "        ven_price = result.get('price', None)\n",
    "        ven_dist_from_stn = result.get('distance', None)\n",
    "\n",
    "        cat_name = None\n",
    "        cat_id = None\n",
    "        if result.get('categories'):\n",
    "            cat_name = result['categories'][0].get('name', None)\n",
    "            cat_id = result['categories'][0].get('id', None)\n",
    "\n",
    "        stats = result.get('stats', {})\n",
    "        t_ratings = stats.get('total_ratings', None)\n",
    "\n",
    "        data.append({\n",
    "            'stn_ind': stn_ind,\n",
    "            'fs_id': fs_id,\n",
    "            'ven_name': ven_name,\n",
    "            'ven_pop': ven_pop,\n",
    "            'ven_rating': ven_rating,\n",
    "            'ven_price': ven_price,\n",
    "            'ven_dist_from_stn': ven_dist_from_stn,\n",
    "            'latitude': latitude,\n",
    "            'longitude': longitude,\n",
    "            'radius': radius, \n",
    "            'cat_name': cat_name,\n",
    "            'cat_id': cat_id,\n",
    "            't_ratings': t_ratings\n",
    "             \n",
    "        })\n",
    "\n",
    "fs_data = pd.DataFrame(data)"
   ]
  },
  {
   "cell_type": "code",
   "execution_count": 81,
   "metadata": {},
   "outputs": [],
   "source": [
    "#csv load - FS results with no category codes. Used.\n",
    "fs_data = pd.read_csv(r'../data/fs_data.csv')"
   ]
  },
  {
   "cell_type": "code",
   "execution_count": 80,
   "metadata": {
    "tags": []
   },
   "outputs": [
    {
     "data": {
      "text/html": [
       "<div>\n",
       "<style scoped>\n",
       "    .dataframe tbody tr th:only-of-type {\n",
       "        vertical-align: middle;\n",
       "    }\n",
       "\n",
       "    .dataframe tbody tr th {\n",
       "        vertical-align: top;\n",
       "    }\n",
       "\n",
       "    .dataframe thead th {\n",
       "        text-align: right;\n",
       "    }\n",
       "</style>\n",
       "<table border=\"1\" class=\"dataframe\">\n",
       "  <thead>\n",
       "    <tr style=\"text-align: right;\">\n",
       "      <th></th>\n",
       "      <th>stn_ind</th>\n",
       "      <th>fs_id</th>\n",
       "      <th>ven_name</th>\n",
       "      <th>ven_pop</th>\n",
       "      <th>ven_rating</th>\n",
       "      <th>ven_price</th>\n",
       "      <th>ven_dist_from_stn</th>\n",
       "      <th>latitude</th>\n",
       "      <th>longitude</th>\n",
       "      <th>radius</th>\n",
       "      <th>cat_name</th>\n",
       "      <th>cat_id</th>\n",
       "      <th>t_ratings</th>\n",
       "    </tr>\n",
       "  </thead>\n",
       "  <tbody>\n",
       "    <tr>\n",
       "      <th>0</th>\n",
       "      <td>0</td>\n",
       "      <td>59d19c050c9f3155d662a0c8</td>\n",
       "      <td>CAFE Dispensary</td>\n",
       "      <td>0.827288</td>\n",
       "      <td>7.8</td>\n",
       "      <td>1.0</td>\n",
       "      <td>40</td>\n",
       "      <td>43.639832</td>\n",
       "      <td>-79.395954</td>\n",
       "      <td>1000</td>\n",
       "      <td>Café</td>\n",
       "      <td>13034.0</td>\n",
       "      <td>8.0</td>\n",
       "    </tr>\n",
       "  </tbody>\n",
       "</table>\n",
       "</div>"
      ],
      "text/plain": [
       "   stn_ind                     fs_id         ven_name   ven_pop  ven_rating  \\\n",
       "0        0  59d19c050c9f3155d662a0c8  CAFE Dispensary  0.827288         7.8   \n",
       "\n",
       "   ven_price  ven_dist_from_stn   latitude  longitude  radius cat_name  \\\n",
       "0        1.0                 40  43.639832 -79.395954    1000     Café   \n",
       "\n",
       "    cat_id  t_ratings  \n",
       "0  13034.0        8.0  "
      ]
     },
     "execution_count": 80,
     "metadata": {},
     "output_type": "execute_result"
    }
   ],
   "source": [
    "fs_data.head(1)"
   ]
  },
  {
   "cell_type": "markdown",
   "metadata": {},
   "source": [
    "#### Cleaning Foursquare"
   ]
  },
  {
   "cell_type": "code",
   "execution_count": 83,
   "metadata": {},
   "outputs": [],
   "source": [
    "#fixing column names\n",
    "\n",
    "fs_data.columns = ['Station Index','id', 'Name', 'Popularity', 'Rating', 'Price 1-4', 'Distance (m)','Latitude', 'Longitude', 'Radius', 'Category', 'Category Id', 'Total Ratings']"
   ]
  },
  {
   "cell_type": "markdown",
   "metadata": {},
   "source": [
    "Id, category id and radius are unnecessary. Popularity would probably have been a good one to investigate however I was not able to find a comparible category from yelp. May remove Latitude and Longitude later if they are not needed."
   ]
  },
  {
   "cell_type": "code",
   "execution_count": 84,
   "metadata": {},
   "outputs": [],
   "source": [
    "#Removing columns. \n",
    "\n",
    "columns_to_remove = ['id', 'Category Id','Radius', 'Popularity']\n",
    "fs_data.drop(columns=columns_to_remove, inplace=True)"
   ]
  },
  {
   "cell_type": "code",
   "execution_count": 85,
   "metadata": {},
   "outputs": [],
   "source": [
    "#removing venues outside of the 1000m radius\n",
    "\n",
    "fs_data = fs_data[fs_data['Distance (m)'] <= 1000]"
   ]
  },
  {
   "cell_type": "code",
   "execution_count": 86,
   "metadata": {},
   "outputs": [
    {
     "name": "stdout",
     "output_type": "stream",
     "text": [
      "1000\n",
      "2\n"
     ]
    }
   ],
   "source": [
    "print(fs_data['Distance (m)'].max())\n",
    "print(fs_data['Distance (m)'].min())"
   ]
  },
  {
   "cell_type": "code",
   "execution_count": 88,
   "metadata": {
    "tags": []
   },
   "outputs": [
    {
     "data": {
      "text/html": [
       "<div>\n",
       "<style scoped>\n",
       "    .dataframe tbody tr th:only-of-type {\n",
       "        vertical-align: middle;\n",
       "    }\n",
       "\n",
       "    .dataframe tbody tr th {\n",
       "        vertical-align: top;\n",
       "    }\n",
       "\n",
       "    .dataframe thead th {\n",
       "        text-align: right;\n",
       "    }\n",
       "</style>\n",
       "<table border=\"1\" class=\"dataframe\">\n",
       "  <thead>\n",
       "    <tr style=\"text-align: right;\">\n",
       "      <th></th>\n",
       "      <th>Station Index</th>\n",
       "      <th>Name</th>\n",
       "      <th>Rating</th>\n",
       "      <th>Price 1-4</th>\n",
       "      <th>Distance (m)</th>\n",
       "      <th>Latitude</th>\n",
       "      <th>Longitude</th>\n",
       "      <th>Category</th>\n",
       "      <th>Total Ratings</th>\n",
       "    </tr>\n",
       "  </thead>\n",
       "  <tbody>\n",
       "    <tr>\n",
       "      <th>0</th>\n",
       "      <td>0</td>\n",
       "      <td>CAFE Dispensary</td>\n",
       "      <td>7.8</td>\n",
       "      <td>1.0</td>\n",
       "      <td>40</td>\n",
       "      <td>43.639832</td>\n",
       "      <td>-79.395954</td>\n",
       "      <td>Café</td>\n",
       "      <td>8.0</td>\n",
       "    </tr>\n",
       "  </tbody>\n",
       "</table>\n",
       "</div>"
      ],
      "text/plain": [
       "   Station Index             Name  Rating  Price 1-4  Distance (m)   Latitude  \\\n",
       "0              0  CAFE Dispensary     7.8        1.0            40  43.639832   \n",
       "\n",
       "   Longitude Category  Total Ratings  \n",
       "0 -79.395954     Café            8.0  "
      ]
     },
     "execution_count": 88,
     "metadata": {},
     "output_type": "execute_result"
    }
   ],
   "source": [
    "fs_data.head(1)"
   ]
  },
  {
   "cell_type": "markdown",
   "metadata": {},
   "source": [
    "# Yelp"
   ]
  },
  {
   "cell_type": "markdown",
   "metadata": {},
   "source": [
    "#### Send a request to Yelp with a small radius (1000m) for all the bike stations in your city of choice. "
   ]
  },
  {
   "cell_type": "code",
   "execution_count": 90,
   "metadata": {},
   "outputs": [],
   "source": [
    "YELP_KEY = os.environ.get('YELP_AK')"
   ]
  },
  {
   "cell_type": "code",
   "execution_count": 91,
   "metadata": {},
   "outputs": [],
   "source": [
    "#function to retrieve data from YELP API\n",
    "\n",
    "def get_venues_y(latitude, longitude, radius, api_key, categories, limit):\n",
    "    \n",
    "    base_url = 'https://api.yelp.com/v3/businesses/search?sort_by=best_match'\n",
    "\n",
    "    params = {\n",
    "        'latitude': latitude,\n",
    "        'longitude': longitude,\n",
    "        'radius': radius,\n",
    "        'categories': categories,\n",
    "        'limit': limit\n",
    "    }\n",
    "\n",
    "    headers = {'accept': 'application/json',\n",
    "               'Authorization': f'Bearer {api_key}'              \n",
    "              }\n",
    "\n",
    "    response = requests.get(base_url, params = params, headers=headers)\n",
    "\n",
    "    return response.json()"
   ]
  },
  {
   "cell_type": "code",
   "execution_count": null,
   "metadata": {},
   "outputs": [],
   "source": [
    "\"\"\"\n",
    "#Calling function to retrieve data from YELP. \n",
    "\n",
    "#Start and Stop indexes added as I was not able to retrieve all data in one day, due to API limits.\n",
    "y_venues8 = []\n",
    "start_index=600\n",
    "stop_index=700\n",
    "\n",
    "# Iterate through each row in the CityBikes DataFrame\n",
    "for index, row in df_bike.iterrows():\n",
    "    if index < start_index:\n",
    "        continue \n",
    "    if index >= stop_index:\n",
    "        break\n",
    "    latitude = row['lat']\n",
    "    longitude = row['lon']\n",
    "    \n",
    "# Make a request to YELP API using the latitude and longitude values from df_bike\n",
    "    venues = get_venues_y(latitude, longitude, radius=1000, api_key=YELP_KEY, categories='arcades,cinema,landmarks,restaurants,libraries,galleries,gardens,spas', limit=50)\n",
    "    y_venues8.append(venues)\n",
    "\"\"\""
   ]
  },
  {
   "cell_type": "markdown",
   "metadata": {},
   "source": [
    "I ended up making many data requests and merging them all into 1 data frame. With the API limitations I was unable to get it all in one go and it felt safer to do it in chunks. So I apologize for all the unnecessary steps."
   ]
  },
  {
   "cell_type": "code",
   "execution_count": 92,
   "metadata": {},
   "outputs": [],
   "source": [
    "#retrieving saved json files from YELP data\n",
    "with open('../data/yelp json/y_venues_1.json', 'r') as json_file:\n",
    "    y_ven_1 = json.load(json_file)"
   ]
  },
  {
   "cell_type": "code",
   "execution_count": 93,
   "metadata": {},
   "outputs": [],
   "source": [
    "with open('../data/yelp json/y_venues_2.json', 'r') as json_file:\n",
    "    y_ven_2 = json.load(json_file)"
   ]
  },
  {
   "cell_type": "code",
   "execution_count": 94,
   "metadata": {},
   "outputs": [],
   "source": [
    "with open('../data/yelp json/y_venues_3.json', 'r') as json_file:\n",
    "    y_ven_3 = json.load(json_file)"
   ]
  },
  {
   "cell_type": "code",
   "execution_count": 95,
   "metadata": {},
   "outputs": [],
   "source": [
    "with open('../data/yelp json/y_venues_4.json', 'r') as json_file:\n",
    "    y_ven_4 = json.load(json_file)"
   ]
  },
  {
   "cell_type": "code",
   "execution_count": 96,
   "metadata": {},
   "outputs": [],
   "source": [
    "with open('../data/yelp json/y_venues_5.json', 'r') as json_file:\n",
    "    y_ven_5 = json.load(json_file)"
   ]
  },
  {
   "cell_type": "code",
   "execution_count": 97,
   "metadata": {},
   "outputs": [],
   "source": [
    "with open('../data/yelp json/y_venues_6.json', 'r') as json_file:\n",
    "    y_ven_6 = json.load(json_file)"
   ]
  },
  {
   "cell_type": "code",
   "execution_count": 98,
   "metadata": {},
   "outputs": [],
   "source": [
    "with open('../data/yelp json/y_venues_7.json', 'r') as json_file:\n",
    "    y_ven_7 = json.load(json_file)"
   ]
  },
  {
   "cell_type": "code",
   "execution_count": 115,
   "metadata": {},
   "outputs": [],
   "source": [
    "with open('../data/yelp json/y_venues_8.json', 'r') as json_file:\n",
    "    y_ven_8 = json.load(json_file)"
   ]
  },
  {
   "cell_type": "markdown",
   "metadata": {},
   "source": [
    "#### Parse through the response to get the POI (such as restaurants, bars, etc) details you want (ratings, name, location, etc)"
   ]
  },
  {
   "cell_type": "code",
   "execution_count": 99,
   "metadata": {},
   "outputs": [
    {
     "data": {
      "text/plain": [
       "dict_keys(['id', 'alias', 'name', 'image_url', 'is_closed', 'url', 'review_count', 'categories', 'rating', 'coordinates', 'transactions', 'price', 'location', 'phone', 'display_phone', 'distance'])"
      ]
     },
     "execution_count": 99,
     "metadata": {},
     "output_type": "execute_result"
    }
   ],
   "source": [
    "y_ven_1[0]['businesses'][0].keys()"
   ]
  },
  {
   "cell_type": "code",
   "execution_count": 100,
   "metadata": {},
   "outputs": [
    {
     "name": "stdout",
     "output_type": "stream",
     "text": [
      "r_BrIgzYcwo1NAuG9dLbpg\n",
      "Pai Northern Thai Kitchen\n",
      "3474\n",
      "4.5\n",
      "$$\n",
      "1067.7901982636108\n"
     ]
    }
   ],
   "source": [
    "#locating values for dataframe\n",
    "\n",
    "y_id = y_ven_1[0]['businesses'][0]['id']\n",
    "print(y_id)\n",
    "y_name = y_ven_1[0]['businesses'][0]['name']\n",
    "print(y_name)\n",
    "y_review_ct = y_ven_1[0]['businesses'][0]['review_count']\n",
    "print(y_review_ct)\n",
    "y_rating = y_ven_1[0]['businesses'][0]['rating']\n",
    "print(y_rating)\n",
    "y_price = y_ven_1[0]['businesses'][0]['price']\n",
    "print(y_price)\n",
    "y_distance = y_ven_1[0]['businesses'][0]['distance']\n",
    "print(y_distance)"
   ]
  },
  {
   "cell_type": "markdown",
   "metadata": {},
   "source": [
    "### Put your parsed results into a DataFrame"
   ]
  },
  {
   "cell_type": "markdown",
   "metadata": {},
   "source": [
    "All data that was derived from a particular bike station was given a station index number temporarily to facilitate in joining the data frames to the CityBike dataframe later."
   ]
  },
  {
   "cell_type": "code",
   "execution_count": 107,
   "metadata": {},
   "outputs": [],
   "source": [
    "#creating df out of yelp json files.\n",
    "\n",
    "yelp_1 = []\n",
    "\n",
    "for stn_ind, venue_data in enumerate(y_ven_1):\n",
    "    results = venue_data['businesses']\n",
    "    latitude = venue_data['region']['center']['latitude']\n",
    "    longitude = venue_data['region']['center']['longitude']\n",
    "\n",
    "    for result in results:\n",
    "        y_id = result.get('id', None)\n",
    "        y_name = result.get('name', None)\n",
    "        y_review_ct = result.get('review_count', None)\n",
    "        y_rating = result.get('rating', None)\n",
    "        y_price = result.get('price', None)\n",
    "        y_distance = result.get('distance', None)\n",
    "\n",
    "        y_cat = None\n",
    "        if result.get('categories'):\n",
    "            y_cat = result['categories'][0].get('title', None)\n",
    "\n",
    "        yelp_1.append({\n",
    "            'stn_ind': stn_ind,\n",
    "            'y_id': y_id,\n",
    "            'y_name': y_name,\n",
    "            'y_distance': y_distance,\n",
    "            'latitude': latitude,\n",
    "            'longitude': longitude,\n",
    "            'y_review_ct': y_review_ct,\n",
    "            'y_rating': y_rating,\n",
    "            'y_price': y_price,\n",
    "            'y_cat': y_cat,\n",
    "        })\n",
    "\n",
    "yelp_1_df = pd.DataFrame(yelp_1)"
   ]
  },
  {
   "cell_type": "markdown",
   "metadata": {},
   "source": [
    "Each of my 8 yelp json files were made into dataframes and merged together. In an attempt to keep this notebook a little less cluttered I have not included all the redundent steps. Please load csv for the joined dataframe (pre-cleaning)"
   ]
  },
  {
   "cell_type": "code",
   "execution_count": null,
   "metadata": {},
   "outputs": [],
   "source": [
    "\"\"\"\n",
    "#concatinating dataframes to make yelp dataframe\n",
    "\n",
    "yelp_data= pd.concat([yelp_1_df,yelp_2_df,yelp_3_df,yelp_4_df,yelp_5_df,yelp_6_df,yelp_7_df,yelp_8_df], axis=0)\n",
    "\"\"\""
   ]
  },
  {
   "cell_type": "code",
   "execution_count": 120,
   "metadata": {
    "tags": []
   },
   "outputs": [],
   "source": [
    "#csv load - Yelp dataframe after initial join\n",
    "yelp_data = pd.read_csv(r'../data/yelp_data.csv')"
   ]
  },
  {
   "cell_type": "code",
   "execution_count": 123,
   "metadata": {
    "scrolled": true
   },
   "outputs": [
    {
     "data": {
      "text/html": [
       "<div>\n",
       "<style scoped>\n",
       "    .dataframe tbody tr th:only-of-type {\n",
       "        vertical-align: middle;\n",
       "    }\n",
       "\n",
       "    .dataframe tbody tr th {\n",
       "        vertical-align: top;\n",
       "    }\n",
       "\n",
       "    .dataframe thead th {\n",
       "        text-align: right;\n",
       "    }\n",
       "</style>\n",
       "<table border=\"1\" class=\"dataframe\">\n",
       "  <thead>\n",
       "    <tr style=\"text-align: right;\">\n",
       "      <th></th>\n",
       "      <th>stn_ind</th>\n",
       "      <th>y_id</th>\n",
       "      <th>y_name</th>\n",
       "      <th>y_distance</th>\n",
       "      <th>latitude</th>\n",
       "      <th>longitude</th>\n",
       "      <th>y_review_ct</th>\n",
       "      <th>y_rating</th>\n",
       "      <th>y_price</th>\n",
       "      <th>y_cat</th>\n",
       "    </tr>\n",
       "  </thead>\n",
       "  <tbody>\n",
       "    <tr>\n",
       "      <th>0</th>\n",
       "      <td>0</td>\n",
       "      <td>r_BrIgzYcwo1NAuG9dLbpg</td>\n",
       "      <td>Pai Northern Thai Kitchen</td>\n",
       "      <td>1067.790198</td>\n",
       "      <td>43.639832</td>\n",
       "      <td>-79.395954</td>\n",
       "      <td>3474</td>\n",
       "      <td>4.5</td>\n",
       "      <td>$$</td>\n",
       "      <td>Thai</td>\n",
       "    </tr>\n",
       "  </tbody>\n",
       "</table>\n",
       "</div>"
      ],
      "text/plain": [
       "   stn_ind                    y_id                     y_name   y_distance  \\\n",
       "0        0  r_BrIgzYcwo1NAuG9dLbpg  Pai Northern Thai Kitchen  1067.790198   \n",
       "\n",
       "    latitude  longitude  y_review_ct  y_rating y_price y_cat  \n",
       "0  43.639832 -79.395954         3474       4.5      $$  Thai  "
      ]
     },
     "execution_count": 123,
     "metadata": {},
     "output_type": "execute_result"
    }
   ],
   "source": [
    "yelp_data.head(1)"
   ]
  },
  {
   "cell_type": "code",
   "execution_count": 124,
   "metadata": {},
   "outputs": [
    {
     "name": "stdout",
     "output_type": "stream",
     "text": [
      "(31439, 10)\n"
     ]
    }
   ],
   "source": [
    "print(yelp_data.shape)"
   ]
  },
  {
   "cell_type": "markdown",
   "metadata": {},
   "source": [
    "#### Cleaning YELP"
   ]
  },
  {
   "cell_type": "code",
   "execution_count": 125,
   "metadata": {},
   "outputs": [],
   "source": [
    "#adding a numerical indicator of price, to replace symbol indicator\n",
    "\n",
    "yelp_data['price_count'] = yelp_data['y_price'].str.len()"
   ]
  },
  {
   "cell_type": "code",
   "execution_count": 126,
   "metadata": {},
   "outputs": [],
   "source": [
    "#renaming columns\n",
    "\n",
    "yelp_data.columns=['Station Index','id', 'Name','Distance (m)','Latitude', 'Longitude', 'Number of Reviews', 'Rating', 'Price', 'Category', 'Price 1-4']"
   ]
  },
  {
   "cell_type": "code",
   "execution_count": 127,
   "metadata": {},
   "outputs": [],
   "source": [
    "#remove columns\n",
    "\n",
    "columns_to_remove = ['Price', 'id']\n",
    "yelp_data.drop(columns=columns_to_remove, inplace=True)"
   ]
  },
  {
   "cell_type": "code",
   "execution_count": 128,
   "metadata": {},
   "outputs": [
    {
     "data": {
      "text/html": [
       "<div>\n",
       "<style scoped>\n",
       "    .dataframe tbody tr th:only-of-type {\n",
       "        vertical-align: middle;\n",
       "    }\n",
       "\n",
       "    .dataframe tbody tr th {\n",
       "        vertical-align: top;\n",
       "    }\n",
       "\n",
       "    .dataframe thead th {\n",
       "        text-align: right;\n",
       "    }\n",
       "</style>\n",
       "<table border=\"1\" class=\"dataframe\">\n",
       "  <thead>\n",
       "    <tr style=\"text-align: right;\">\n",
       "      <th></th>\n",
       "      <th>Station Index</th>\n",
       "      <th>Distance (m)</th>\n",
       "      <th>Latitude</th>\n",
       "      <th>Longitude</th>\n",
       "      <th>Number of Reviews</th>\n",
       "      <th>Rating</th>\n",
       "      <th>Price 1-4</th>\n",
       "    </tr>\n",
       "  </thead>\n",
       "  <tbody>\n",
       "    <tr>\n",
       "      <th>count</th>\n",
       "      <td>31439.000000</td>\n",
       "      <td>3.143900e+04</td>\n",
       "      <td>31439.000000</td>\n",
       "      <td>31439.000000</td>\n",
       "      <td>31439.000000</td>\n",
       "      <td>31439.000000</td>\n",
       "      <td>23189.000000</td>\n",
       "    </tr>\n",
       "    <tr>\n",
       "      <th>mean</th>\n",
       "      <td>329.276917</td>\n",
       "      <td>7.232014e+02</td>\n",
       "      <td>43.665065</td>\n",
       "      <td>-79.394112</td>\n",
       "      <td>166.631540</td>\n",
       "      <td>3.892602</td>\n",
       "      <td>2.109793</td>\n",
       "    </tr>\n",
       "    <tr>\n",
       "      <th>std</th>\n",
       "      <td>197.460555</td>\n",
       "      <td>2.569371e+03</td>\n",
       "      <td>0.025668</td>\n",
       "      <td>0.051093</td>\n",
       "      <td>282.953438</td>\n",
       "      <td>0.635852</td>\n",
       "      <td>0.690458</td>\n",
       "    </tr>\n",
       "    <tr>\n",
       "      <th>min</th>\n",
       "      <td>0.000000</td>\n",
       "      <td>1.023678e-09</td>\n",
       "      <td>43.588077</td>\n",
       "      <td>-79.544491</td>\n",
       "      <td>1.000000</td>\n",
       "      <td>1.000000</td>\n",
       "      <td>1.000000</td>\n",
       "    </tr>\n",
       "    <tr>\n",
       "      <th>25%</th>\n",
       "      <td>157.500000</td>\n",
       "      <td>3.380375e+02</td>\n",
       "      <td>43.648725</td>\n",
       "      <td>-79.423098</td>\n",
       "      <td>23.000000</td>\n",
       "      <td>3.500000</td>\n",
       "      <td>2.000000</td>\n",
       "    </tr>\n",
       "    <tr>\n",
       "      <th>50%</th>\n",
       "      <td>323.000000</td>\n",
       "      <td>6.298914e+02</td>\n",
       "      <td>43.660560</td>\n",
       "      <td>-79.393388</td>\n",
       "      <td>76.000000</td>\n",
       "      <td>4.000000</td>\n",
       "      <td>2.000000</td>\n",
       "    </tr>\n",
       "    <tr>\n",
       "      <th>75%</th>\n",
       "      <td>495.000000</td>\n",
       "      <td>9.057067e+02</td>\n",
       "      <td>43.675278</td>\n",
       "      <td>-79.370700</td>\n",
       "      <td>200.000000</td>\n",
       "      <td>4.500000</td>\n",
       "      <td>2.000000</td>\n",
       "    </tr>\n",
       "    <tr>\n",
       "      <th>max</th>\n",
       "      <td>688.000000</td>\n",
       "      <td>1.223316e+05</td>\n",
       "      <td>43.784242</td>\n",
       "      <td>-79.130120</td>\n",
       "      <td>3475.000000</td>\n",
       "      <td>5.000000</td>\n",
       "      <td>4.000000</td>\n",
       "    </tr>\n",
       "  </tbody>\n",
       "</table>\n",
       "</div>"
      ],
      "text/plain": [
       "       Station Index  Distance (m)      Latitude     Longitude  \\\n",
       "count   31439.000000  3.143900e+04  31439.000000  31439.000000   \n",
       "mean      329.276917  7.232014e+02     43.665065    -79.394112   \n",
       "std       197.460555  2.569371e+03      0.025668      0.051093   \n",
       "min         0.000000  1.023678e-09     43.588077    -79.544491   \n",
       "25%       157.500000  3.380375e+02     43.648725    -79.423098   \n",
       "50%       323.000000  6.298914e+02     43.660560    -79.393388   \n",
       "75%       495.000000  9.057067e+02     43.675278    -79.370700   \n",
       "max       688.000000  1.223316e+05     43.784242    -79.130120   \n",
       "\n",
       "       Number of Reviews        Rating     Price 1-4  \n",
       "count       31439.000000  31439.000000  23189.000000  \n",
       "mean          166.631540      3.892602      2.109793  \n",
       "std           282.953438      0.635852      0.690458  \n",
       "min             1.000000      1.000000      1.000000  \n",
       "25%            23.000000      3.500000      2.000000  \n",
       "50%            76.000000      4.000000      2.000000  \n",
       "75%           200.000000      4.500000      2.000000  \n",
       "max          3475.000000      5.000000      4.000000  "
      ]
     },
     "execution_count": 128,
     "metadata": {},
     "output_type": "execute_result"
    }
   ],
   "source": [
    "yelp_data.describe()"
   ]
  },
  {
   "cell_type": "code",
   "execution_count": 130,
   "metadata": {},
   "outputs": [],
   "source": [
    "#removing venues outside of the 1000m radius\n",
    "\n",
    "yelp_data = yelp_data[yelp_data['Distance (m)'] <= 1000]"
   ]
  },
  {
   "cell_type": "code",
   "execution_count": 131,
   "metadata": {},
   "outputs": [
    {
     "data": {
      "text/plain": [
       "999.9841762668566"
      ]
     },
     "execution_count": 131,
     "metadata": {},
     "output_type": "execute_result"
    }
   ],
   "source": [
    "yelp_data['Distance (m)'].max()"
   ]
  },
  {
   "cell_type": "code",
   "execution_count": 132,
   "metadata": {},
   "outputs": [],
   "source": [
    "#rounding distance\n",
    "\n",
    "rounded_yelp_data= yelp_data.round({'Distance (m)': 1})\n",
    "yelp_data = rounded_yelp_data"
   ]
  },
  {
   "cell_type": "code",
   "execution_count": 133,
   "metadata": {},
   "outputs": [
    {
     "data": {
      "text/html": [
       "<div>\n",
       "<style scoped>\n",
       "    .dataframe tbody tr th:only-of-type {\n",
       "        vertical-align: middle;\n",
       "    }\n",
       "\n",
       "    .dataframe tbody tr th {\n",
       "        vertical-align: top;\n",
       "    }\n",
       "\n",
       "    .dataframe thead th {\n",
       "        text-align: right;\n",
       "    }\n",
       "</style>\n",
       "<table border=\"1\" class=\"dataframe\">\n",
       "  <thead>\n",
       "    <tr style=\"text-align: right;\">\n",
       "      <th></th>\n",
       "      <th>Station Index</th>\n",
       "      <th>Name</th>\n",
       "      <th>Distance (m)</th>\n",
       "      <th>Latitude</th>\n",
       "      <th>Longitude</th>\n",
       "      <th>Number of Reviews</th>\n",
       "      <th>Rating</th>\n",
       "      <th>Category</th>\n",
       "      <th>Price 1-4</th>\n",
       "    </tr>\n",
       "  </thead>\n",
       "  <tbody>\n",
       "    <tr>\n",
       "      <th>1</th>\n",
       "      <td>0</td>\n",
       "      <td>Gusto 101</td>\n",
       "      <td>673.3</td>\n",
       "      <td>43.639832</td>\n",
       "      <td>-79.395954</td>\n",
       "      <td>1151</td>\n",
       "      <td>4.0</td>\n",
       "      <td>Italian</td>\n",
       "      <td>2.0</td>\n",
       "    </tr>\n",
       "  </tbody>\n",
       "</table>\n",
       "</div>"
      ],
      "text/plain": [
       "   Station Index       Name  Distance (m)   Latitude  Longitude  \\\n",
       "1              0  Gusto 101         673.3  43.639832 -79.395954   \n",
       "\n",
       "   Number of Reviews  Rating Category  Price 1-4  \n",
       "1               1151     4.0  Italian        2.0  "
      ]
     },
     "execution_count": 133,
     "metadata": {},
     "output_type": "execute_result"
    }
   ],
   "source": [
    "yelp_data.head(1)"
   ]
  },
  {
   "cell_type": "markdown",
   "metadata": {},
   "source": [
    "# Comparing Results"
   ]
  },
  {
   "cell_type": "markdown",
   "metadata": {},
   "source": [
    "Exploring data"
   ]
  },
  {
   "cell_type": "code",
   "execution_count": 134,
   "metadata": {},
   "outputs": [
    {
     "data": {
      "text/plain": [
       "Tim Hortons                       323\n",
       "Starbucks                         271\n",
       "Subway                            168\n",
       "Shoppers Drug Mart                143\n",
       "Toronto Public Library            125\n",
       "                                 ... \n",
       "Smirnoff Canada Crate               1\n",
       "Batl Axe Throwing | Port Lands      1\n",
       "Cherry Beach Sound Ltd              1\n",
       "Keating Channel Pub & Grill         1\n",
       "Cathedral Bluffs Park               1\n",
       "Name: Name, Length: 3223, dtype: int64"
      ]
     },
     "execution_count": 134,
     "metadata": {},
     "output_type": "execute_result"
    }
   ],
   "source": [
    "fs_data['Name'].value_counts()"
   ]
  },
  {
   "cell_type": "code",
   "execution_count": 135,
   "metadata": {},
   "outputs": [
    {
     "data": {
      "text/plain": [
       "KINTON RAMEN                       120\n",
       "Banh Mi Boys                        96\n",
       "Kibo Sushi House                    95\n",
       "The Keg Steakhouse + Bar            95\n",
       "Pizza Pizza                         91\n",
       "                                  ... \n",
       "The Queen’s End Cafe & Emporium      1\n",
       "Little Vietnam                       1\n",
       "ImPerfect Fresh Eats                 1\n",
       "Season Six                           1\n",
       "Neon Tiger                           1\n",
       "Name: Name, Length: 2943, dtype: int64"
      ]
     },
     "execution_count": 135,
     "metadata": {},
     "output_type": "execute_result"
    }
   ],
   "source": [
    "yelp_data['Name'].value_counts()"
   ]
  },
  {
   "cell_type": "code",
   "execution_count": 136,
   "metadata": {},
   "outputs": [
    {
     "name": "stdout",
     "output_type": "stream",
     "text": [
      "FS 394\n",
      "yelp 178\n"
     ]
    }
   ],
   "source": [
    "#number of unique categories\n",
    "\n",
    "fs_unique_categories = fs_data['Category'].unique()\n",
    "print('FS', len(fs_unique_categories))\n",
    "y_unique_categories = yelp_data['Category'].unique()\n",
    "print('yelp', len(y_unique_categories))"
   ]
  },
  {
   "cell_type": "code",
   "execution_count": 137,
   "metadata": {},
   "outputs": [
    {
     "name": "stdout",
     "output_type": "stream",
     "text": [
      "FS 3223\n",
      "yelp 2943\n"
     ]
    }
   ],
   "source": [
    "#number of unique venue names\n",
    "\n",
    "fs_unique_venues = fs_data['Name'].unique()\n",
    "print('FS', len(fs_unique_venues))\n",
    "y_unique_venues = yelp_data['Name'].unique()\n",
    "print('yelp', len(y_unique_venues))"
   ]
  },
  {
   "cell_type": "markdown",
   "metadata": {},
   "source": [
    "#### **Which API provided you with more complete data? Provide an explanation.**"
   ]
  },
  {
   "cell_type": "markdown",
   "metadata": {},
   "source": [
    "Both of the APIs were very similar in set up and difficulty. They both had a very large amount of settings that allowed for meticulous filtering of the data. However, the efficacy of these filters might not have been uniform. After trying 3 variations of calls to the Foursquare API, it was clear that I recieved the same breakdown of information each time, making the category selection not very useful.\n",
    "\n",
    "While Yelp's category selection and initial data presentation appeared insightful, closer examination revealed its unsuitability for my dataset. Yelp's category titles contained detailed descriptions like \"Italian\" or unique labels such as \"Comfort Food.\" However, these specifics complicated the straightforward searches within my DataFrame that I was hoping for. For instance, attempting to apply a generic search term like 'Restaurants' proved more challenging.\n",
    "\n",
    "The number of unique venues was higher in the Foursquare dataset compared to Yelp. It was surprising that after setting a 1000m search radius, both platforms provided locations well beyond that range. Foursquare's 10-point rating scale offered greater detail and was preferable to Yelp's 5-point scale. This can be important if detailed rating distinctions are essential.\n",
    "\n",
    "While both platforms provided a similar range of accessible information, it's worth noting that some of Yelp's data was exclusively accessible through a 'premium access tier.' Additionally, both platforms had limitations regarding the amount of data accessible within a specific time frame via the API. Due to these constraints, providing a completely accurate assessment of which API offers more comprehensive data is challenging. However, based on the available data, my preference leans towards Foursquare. Foursquare not only provided more unique data but also exhibited a preferred category structure, despite the apparent limited utility of the category codes in API requests.\n"
   ]
  },
  {
   "cell_type": "markdown",
   "metadata": {},
   "source": [
    "\n",
    "### Get the top 10 restaurants according to their rating"
   ]
  },
  {
   "cell_type": "markdown",
   "metadata": {},
   "source": [
    "### Foursquare"
   ]
  },
  {
   "cell_type": "markdown",
   "metadata": {},
   "source": [
    "I did this part separately between Foursquare and yelp to see if they had any in common."
   ]
  },
  {
   "cell_type": "code",
   "execution_count": 138,
   "metadata": {},
   "outputs": [
    {
     "data": {
      "text/html": [
       "<div>\n",
       "<style scoped>\n",
       "    .dataframe tbody tr th:only-of-type {\n",
       "        vertical-align: middle;\n",
       "    }\n",
       "\n",
       "    .dataframe tbody tr th {\n",
       "        vertical-align: top;\n",
       "    }\n",
       "\n",
       "    .dataframe thead th {\n",
       "        text-align: right;\n",
       "    }\n",
       "</style>\n",
       "<table border=\"1\" class=\"dataframe\">\n",
       "  <thead>\n",
       "    <tr style=\"text-align: right;\">\n",
       "      <th></th>\n",
       "      <th>Station Index</th>\n",
       "      <th>Name</th>\n",
       "      <th>Rating</th>\n",
       "      <th>Price 1-4</th>\n",
       "      <th>Distance (m)</th>\n",
       "      <th>Latitude</th>\n",
       "      <th>Longitude</th>\n",
       "      <th>Category</th>\n",
       "      <th>Total Ratings</th>\n",
       "    </tr>\n",
       "  </thead>\n",
       "  <tbody>\n",
       "    <tr>\n",
       "      <th>1</th>\n",
       "      <td>0</td>\n",
       "      <td>Hunters Landing</td>\n",
       "      <td>7.3</td>\n",
       "      <td>3.0</td>\n",
       "      <td>69</td>\n",
       "      <td>43.639832</td>\n",
       "      <td>-79.395954</td>\n",
       "      <td>Restaurant</td>\n",
       "      <td>184.0</td>\n",
       "    </tr>\n",
       "  </tbody>\n",
       "</table>\n",
       "</div>"
      ],
      "text/plain": [
       "   Station Index             Name  Rating  Price 1-4  Distance (m)   Latitude  \\\n",
       "1              0  Hunters Landing     7.3        3.0            69  43.639832   \n",
       "\n",
       "   Longitude    Category  Total Ratings  \n",
       "1 -79.395954  Restaurant          184.0  "
      ]
     },
     "execution_count": 138,
     "metadata": {},
     "output_type": "execute_result"
    }
   ],
   "source": [
    "#retrieving all the data labelled as restaurants and removing duplicate restaurants.\n",
    "\n",
    "fs_restaurant = fs_data[fs_data['Category'].fillna('').str.contains('Restaurant')]\n",
    "fs_unique_rest= fs_restaurant.groupby('Name').head(1)\n",
    "fs_unique_rest.head(1)"
   ]
  },
  {
   "cell_type": "markdown",
   "metadata": {},
   "source": [
    "Data was sorted by rating and limited to the top 10. The 11th restaurant has a rating of 9.1, so no need to investigate further if different restaurants should be in the top 10. Data will be sorted further by the total ratings to give a higher weight to venues with more reviews."
   ]
  },
  {
   "cell_type": "code",
   "execution_count": 139,
   "metadata": {},
   "outputs": [
    {
     "data": {
      "text/html": [
       "<div>\n",
       "<style scoped>\n",
       "    .dataframe tbody tr th:only-of-type {\n",
       "        vertical-align: middle;\n",
       "    }\n",
       "\n",
       "    .dataframe tbody tr th {\n",
       "        vertical-align: top;\n",
       "    }\n",
       "\n",
       "    .dataframe thead th {\n",
       "        text-align: right;\n",
       "    }\n",
       "</style>\n",
       "<table border=\"1\" class=\"dataframe\">\n",
       "  <thead>\n",
       "    <tr style=\"text-align: right;\">\n",
       "      <th></th>\n",
       "      <th>Station Index</th>\n",
       "      <th>Name</th>\n",
       "      <th>Rating</th>\n",
       "      <th>Price 1-4</th>\n",
       "      <th>Distance (m)</th>\n",
       "      <th>Latitude</th>\n",
       "      <th>Longitude</th>\n",
       "      <th>Category</th>\n",
       "      <th>Total Ratings</th>\n",
       "    </tr>\n",
       "  </thead>\n",
       "  <tbody>\n",
       "    <tr>\n",
       "      <th>270</th>\n",
       "      <td>5</td>\n",
       "      <td>Byblos</td>\n",
       "      <td>9.3</td>\n",
       "      <td>2.0</td>\n",
       "      <td>413</td>\n",
       "      <td>43.639832</td>\n",
       "      <td>-79.395954</td>\n",
       "      <td>Mediterranean Restaurant</td>\n",
       "      <td>338.0</td>\n",
       "    </tr>\n",
       "    <tr>\n",
       "      <th>19</th>\n",
       "      <td>0</td>\n",
       "      <td>SOMA chocolatemaker</td>\n",
       "      <td>9.3</td>\n",
       "      <td>2.0</td>\n",
       "      <td>611</td>\n",
       "      <td>43.639832</td>\n",
       "      <td>-79.395954</td>\n",
       "      <td>Peruvian Restaurant</td>\n",
       "      <td>310.0</td>\n",
       "    </tr>\n",
       "    <tr>\n",
       "      <th>7179</th>\n",
       "      <td>154</td>\n",
       "      <td>Honest Weight</td>\n",
       "      <td>9.3</td>\n",
       "      <td>3.0</td>\n",
       "      <td>279</td>\n",
       "      <td>43.639832</td>\n",
       "      <td>-79.395954</td>\n",
       "      <td>Seafood Restaurant</td>\n",
       "      <td>49.0</td>\n",
       "    </tr>\n",
       "    <tr>\n",
       "      <th>1581</th>\n",
       "      <td>31</td>\n",
       "      <td>Cumbrae's</td>\n",
       "      <td>9.3</td>\n",
       "      <td>NaN</td>\n",
       "      <td>893</td>\n",
       "      <td>43.639832</td>\n",
       "      <td>-79.395954</td>\n",
       "      <td>Restaurant</td>\n",
       "      <td>41.0</td>\n",
       "    </tr>\n",
       "    <tr>\n",
       "      <th>452</th>\n",
       "      <td>9</td>\n",
       "      <td>St. Lawrence Market Outdoor Vendors</td>\n",
       "      <td>9.2</td>\n",
       "      <td>1.0</td>\n",
       "      <td>184</td>\n",
       "      <td>43.639832</td>\n",
       "      <td>-79.395954</td>\n",
       "      <td>Restaurant</td>\n",
       "      <td>1527.0</td>\n",
       "    </tr>\n",
       "    <tr>\n",
       "      <th>273</th>\n",
       "      <td>5</td>\n",
       "      <td>Pai</td>\n",
       "      <td>9.2</td>\n",
       "      <td>2.0</td>\n",
       "      <td>434</td>\n",
       "      <td>43.639832</td>\n",
       "      <td>-79.395954</td>\n",
       "      <td>Thai Restaurant</td>\n",
       "      <td>935.0</td>\n",
       "    </tr>\n",
       "    <tr>\n",
       "      <th>17</th>\n",
       "      <td>0</td>\n",
       "      <td>Rodney's Oyster House</td>\n",
       "      <td>9.2</td>\n",
       "      <td>3.0</td>\n",
       "      <td>573</td>\n",
       "      <td>43.639832</td>\n",
       "      <td>-79.395954</td>\n",
       "      <td>Seafood Restaurant</td>\n",
       "      <td>261.0</td>\n",
       "    </tr>\n",
       "    <tr>\n",
       "      <th>1538</th>\n",
       "      <td>31</td>\n",
       "      <td>Union Restaurant</td>\n",
       "      <td>9.2</td>\n",
       "      <td>2.0</td>\n",
       "      <td>209</td>\n",
       "      <td>43.639832</td>\n",
       "      <td>-79.395954</td>\n",
       "      <td>French Restaurant</td>\n",
       "      <td>249.0</td>\n",
       "    </tr>\n",
       "    <tr>\n",
       "      <th>113</th>\n",
       "      <td>2</td>\n",
       "      <td>Rasa</td>\n",
       "      <td>9.2</td>\n",
       "      <td>NaN</td>\n",
       "      <td>626</td>\n",
       "      <td>43.639832</td>\n",
       "      <td>-79.395954</td>\n",
       "      <td>Restaurant</td>\n",
       "      <td>117.0</td>\n",
       "    </tr>\n",
       "    <tr>\n",
       "      <th>5864</th>\n",
       "      <td>124</td>\n",
       "      <td>Pukka</td>\n",
       "      <td>9.2</td>\n",
       "      <td>3.0</td>\n",
       "      <td>779</td>\n",
       "      <td>43.639832</td>\n",
       "      <td>-79.395954</td>\n",
       "      <td>Indian Restaurant</td>\n",
       "      <td>65.0</td>\n",
       "    </tr>\n",
       "  </tbody>\n",
       "</table>\n",
       "</div>"
      ],
      "text/plain": [
       "      Station Index                                 Name  Rating  Price 1-4  \\\n",
       "270               5                               Byblos     9.3        2.0   \n",
       "19                0                  SOMA chocolatemaker     9.3        2.0   \n",
       "7179            154                        Honest Weight     9.3        3.0   \n",
       "1581             31                            Cumbrae's     9.3        NaN   \n",
       "452               9  St. Lawrence Market Outdoor Vendors     9.2        1.0   \n",
       "273               5                                  Pai     9.2        2.0   \n",
       "17                0                Rodney's Oyster House     9.2        3.0   \n",
       "1538             31                     Union Restaurant     9.2        2.0   \n",
       "113               2                                 Rasa     9.2        NaN   \n",
       "5864            124                                Pukka     9.2        3.0   \n",
       "\n",
       "      Distance (m)   Latitude  Longitude                  Category  \\\n",
       "270            413  43.639832 -79.395954  Mediterranean Restaurant   \n",
       "19             611  43.639832 -79.395954       Peruvian Restaurant   \n",
       "7179           279  43.639832 -79.395954        Seafood Restaurant   \n",
       "1581           893  43.639832 -79.395954                Restaurant   \n",
       "452            184  43.639832 -79.395954                Restaurant   \n",
       "273            434  43.639832 -79.395954           Thai Restaurant   \n",
       "17             573  43.639832 -79.395954        Seafood Restaurant   \n",
       "1538           209  43.639832 -79.395954         French Restaurant   \n",
       "113            626  43.639832 -79.395954                Restaurant   \n",
       "5864           779  43.639832 -79.395954         Indian Restaurant   \n",
       "\n",
       "      Total Ratings  \n",
       "270           338.0  \n",
       "19            310.0  \n",
       "7179           49.0  \n",
       "1581           41.0  \n",
       "452          1527.0  \n",
       "273           935.0  \n",
       "17            261.0  \n",
       "1538          249.0  \n",
       "113           117.0  \n",
       "5864           65.0  "
      ]
     },
     "execution_count": 139,
     "metadata": {},
     "output_type": "execute_result"
    }
   ],
   "source": [
    "#sorted by rating and limited to the top 10. \n",
    "\n",
    "fs_top10_restaurants = fs_unique_rest.sort_values(by=['Rating', 'Total Ratings'], ascending=[False, False]).head(10)\n",
    "fs_top10_restaurants"
   ]
  },
  {
   "cell_type": "markdown",
   "metadata": {},
   "source": [
    "### Yelp"
   ]
  },
  {
   "cell_type": "code",
   "execution_count": 152,
   "metadata": {
    "tags": []
   },
   "outputs": [
    {
     "data": {
      "text/plain": [
       "array(['Ice Queen Restaurant', 'Wing Wing Restaurant',\n",
       "       'Chappa Corner Cafe & Restaurant',\n",
       "       'Schulich Executive Dining Room', 'Chase Wine & Grill',\n",
       "       'Uyghur Foods'], dtype=object)"
      ]
     },
     "execution_count": 152,
     "metadata": {},
     "output_type": "execute_result"
    }
   ],
   "source": [
    "#results if you try to pull up 'Restaurant'. Only 6 unique venues.\n",
    "\n",
    "y_restaurant = yelp_data[yelp_data['Category'].fillna('').str.contains('Restaurant')]\n",
    "y_restaurant['Name'].unique()"
   ]
  },
  {
   "cell_type": "code",
   "execution_count": 154,
   "metadata": {},
   "outputs": [
    {
     "data": {
      "text/html": [
       "<div>\n",
       "<style scoped>\n",
       "    .dataframe tbody tr th:only-of-type {\n",
       "        vertical-align: middle;\n",
       "    }\n",
       "\n",
       "    .dataframe tbody tr th {\n",
       "        vertical-align: top;\n",
       "    }\n",
       "\n",
       "    .dataframe thead th {\n",
       "        text-align: right;\n",
       "    }\n",
       "</style>\n",
       "<table border=\"1\" class=\"dataframe\">\n",
       "  <thead>\n",
       "    <tr style=\"text-align: right;\">\n",
       "      <th></th>\n",
       "      <th>Station Index</th>\n",
       "      <th>Name</th>\n",
       "      <th>Distance (m)</th>\n",
       "      <th>Latitude</th>\n",
       "      <th>Longitude</th>\n",
       "      <th>Number of Reviews</th>\n",
       "      <th>Rating</th>\n",
       "      <th>Category</th>\n",
       "      <th>Price 1-4</th>\n",
       "    </tr>\n",
       "  </thead>\n",
       "  <tbody>\n",
       "    <tr>\n",
       "      <th>1</th>\n",
       "      <td>0</td>\n",
       "      <td>Gusto 101</td>\n",
       "      <td>673.3</td>\n",
       "      <td>43.639832</td>\n",
       "      <td>-79.395954</td>\n",
       "      <td>1151</td>\n",
       "      <td>4.0</td>\n",
       "      <td>Italian</td>\n",
       "      <td>2.0</td>\n",
       "    </tr>\n",
       "  </tbody>\n",
       "</table>\n",
       "</div>"
      ],
      "text/plain": [
       "   Station Index       Name  Distance (m)   Latitude  Longitude  \\\n",
       "1              0  Gusto 101         673.3  43.639832 -79.395954   \n",
       "\n",
       "   Number of Reviews  Rating Category  Price 1-4  \n",
       "1               1151     4.0  Italian        2.0  "
      ]
     },
     "execution_count": 154,
     "metadata": {},
     "output_type": "execute_result"
    }
   ],
   "source": [
    "#eliminating categories that I personally don't think are restaurants making the accuracy of these results less. \n",
    "\n",
    "cat_to_exclude = ['Cafes Coffee & Tea','Bakeries','Libraries','Day Spas','Desserts','Lounges','Food Trucks Breweries','Art Galleries','Hair Salons','Arcades','Ice Cream & Frozen Yogurt','Nail Salons','Caterers','Hair Removal','Food Delivery Services','Grocery','Landmarks & Historical Buildings','Skin Care','Museums','Butcher','Cheese Shops','Venues & Event Spaces','Juice Bars & Smoothies','Framing','Event Photography','Music Venues','Convenience Stores','Meat Shops','Home Decor','Shopping','Bowling','Arts & Crafts','Botanical Gardens','Virtual Reality Centers','Beer', 'Wine & Spirits','Donuts','Bubble Tea','Candle Stores','Art Supplies','Street Vendors','Nurseries & Gardening','Pool Halls','Massage','Art Schools','Waxing','Farmers Market','Massage Schools','Coffee Roasteries','Men\\'s Clothing','Hookah Bars','Art Classes','Health Markets','Go Karts','Parks','Cooking Classes','Tennis','Food Stands International Grocery']\n",
    "\n",
    "restaurants_yelp = yelp_data[~yelp_data['Category'].str.contains('|'.join(cat_to_exclude))]\n",
    "restaurants_yelp.head(1)"
   ]
  },
  {
   "cell_type": "code",
   "execution_count": 158,
   "metadata": {},
   "outputs": [
    {
     "data": {
      "text/html": [
       "<div>\n",
       "<style scoped>\n",
       "    .dataframe tbody tr th:only-of-type {\n",
       "        vertical-align: middle;\n",
       "    }\n",
       "\n",
       "    .dataframe tbody tr th {\n",
       "        vertical-align: top;\n",
       "    }\n",
       "\n",
       "    .dataframe thead th {\n",
       "        text-align: right;\n",
       "    }\n",
       "</style>\n",
       "<table border=\"1\" class=\"dataframe\">\n",
       "  <thead>\n",
       "    <tr style=\"text-align: right;\">\n",
       "      <th></th>\n",
       "      <th>Station Index</th>\n",
       "      <th>Name</th>\n",
       "      <th>Distance (m)</th>\n",
       "      <th>Latitude</th>\n",
       "      <th>Longitude</th>\n",
       "      <th>Number of Reviews</th>\n",
       "      <th>Rating</th>\n",
       "      <th>Category</th>\n",
       "      <th>Price 1-4</th>\n",
       "    </tr>\n",
       "  </thead>\n",
       "  <tbody>\n",
       "    <tr>\n",
       "      <th>1</th>\n",
       "      <td>0</td>\n",
       "      <td>Gusto 101</td>\n",
       "      <td>673.3</td>\n",
       "      <td>43.639832</td>\n",
       "      <td>-79.395954</td>\n",
       "      <td>1151</td>\n",
       "      <td>4.0</td>\n",
       "      <td>Italian</td>\n",
       "      <td>2.0</td>\n",
       "    </tr>\n",
       "    <tr>\n",
       "      <th>2</th>\n",
       "      <td>0</td>\n",
       "      <td>Hunters Landing</td>\n",
       "      <td>60.9</td>\n",
       "      <td>43.639832</td>\n",
       "      <td>-79.395954</td>\n",
       "      <td>236</td>\n",
       "      <td>3.5</td>\n",
       "      <td>Comfort Food</td>\n",
       "      <td>2.0</td>\n",
       "    </tr>\n",
       "  </tbody>\n",
       "</table>\n",
       "</div>"
      ],
      "text/plain": [
       "   Station Index             Name  Distance (m)   Latitude  Longitude  \\\n",
       "1              0        Gusto 101         673.3  43.639832 -79.395954   \n",
       "2              0  Hunters Landing          60.9  43.639832 -79.395954   \n",
       "\n",
       "   Number of Reviews  Rating      Category  Price 1-4  \n",
       "1               1151     4.0       Italian        2.0  \n",
       "2                236     3.5  Comfort Food        2.0  "
      ]
     },
     "execution_count": 158,
     "metadata": {},
     "output_type": "execute_result"
    }
   ],
   "source": [
    "#finding all unique restaurants\n",
    "\n",
    "unique_restaurants = restaurants_yelp.groupby('Name').head(1)\n",
    "unique_restaurants.head(2)"
   ]
  },
  {
   "cell_type": "code",
   "execution_count": 160,
   "metadata": {},
   "outputs": [
    {
     "data": {
      "text/html": [
       "<div>\n",
       "<style scoped>\n",
       "    .dataframe tbody tr th:only-of-type {\n",
       "        vertical-align: middle;\n",
       "    }\n",
       "\n",
       "    .dataframe tbody tr th {\n",
       "        vertical-align: top;\n",
       "    }\n",
       "\n",
       "    .dataframe thead th {\n",
       "        text-align: right;\n",
       "    }\n",
       "</style>\n",
       "<table border=\"1\" class=\"dataframe\">\n",
       "  <thead>\n",
       "    <tr style=\"text-align: right;\">\n",
       "      <th></th>\n",
       "      <th>Station Index</th>\n",
       "      <th>Name</th>\n",
       "      <th>Distance (m)</th>\n",
       "      <th>Latitude</th>\n",
       "      <th>Longitude</th>\n",
       "      <th>Number of Reviews</th>\n",
       "      <th>Rating</th>\n",
       "      <th>Category</th>\n",
       "      <th>Price 1-4</th>\n",
       "    </tr>\n",
       "  </thead>\n",
       "  <tbody>\n",
       "    <tr>\n",
       "      <th>23007</th>\n",
       "      <td>480</td>\n",
       "      <td>New Orleans Seafood &amp; Steakhouse</td>\n",
       "      <td>737.2</td>\n",
       "      <td>43.683470</td>\n",
       "      <td>-79.510894</td>\n",
       "      <td>172</td>\n",
       "      <td>5.0</td>\n",
       "      <td>Seafood</td>\n",
       "      <td>3.0</td>\n",
       "    </tr>\n",
       "    <tr>\n",
       "      <th>22397</th>\n",
       "      <td>467</td>\n",
       "      <td>Zeal Burgers</td>\n",
       "      <td>230.2</td>\n",
       "      <td>43.698841</td>\n",
       "      <td>-79.519472</td>\n",
       "      <td>137</td>\n",
       "      <td>5.0</td>\n",
       "      <td>Burgers</td>\n",
       "      <td>2.0</td>\n",
       "    </tr>\n",
       "    <tr>\n",
       "      <th>5732</th>\n",
       "      <td>115</td>\n",
       "      <td>Grandma Loves You</td>\n",
       "      <td>280.4</td>\n",
       "      <td>43.675492</td>\n",
       "      <td>-79.388858</td>\n",
       "      <td>75</td>\n",
       "      <td>5.0</td>\n",
       "      <td>Sandwiches</td>\n",
       "      <td>2.0</td>\n",
       "    </tr>\n",
       "    <tr>\n",
       "      <th>94</th>\n",
       "      <td>1</td>\n",
       "      <td>Gurume Sushi</td>\n",
       "      <td>447.3</td>\n",
       "      <td>43.664964</td>\n",
       "      <td>-79.383550</td>\n",
       "      <td>52</td>\n",
       "      <td>5.0</td>\n",
       "      <td>Sushi Bars</td>\n",
       "      <td>NaN</td>\n",
       "    </tr>\n",
       "    <tr>\n",
       "      <th>4148</th>\n",
       "      <td>83</td>\n",
       "      <td>Papyrus</td>\n",
       "      <td>817.3</td>\n",
       "      <td>43.680223</td>\n",
       "      <td>-79.344062</td>\n",
       "      <td>50</td>\n",
       "      <td>5.0</td>\n",
       "      <td>Egyptian</td>\n",
       "      <td>2.0</td>\n",
       "    </tr>\n",
       "    <tr>\n",
       "      <th>1839</th>\n",
       "      <td>36</td>\n",
       "      <td>Mallo</td>\n",
       "      <td>325.9</td>\n",
       "      <td>43.664467</td>\n",
       "      <td>-79.414783</td>\n",
       "      <td>44</td>\n",
       "      <td>5.0</td>\n",
       "      <td>Coffee &amp; Tea</td>\n",
       "      <td>1.0</td>\n",
       "    </tr>\n",
       "    <tr>\n",
       "      <th>367</th>\n",
       "      <td>7</td>\n",
       "      <td>Hawker</td>\n",
       "      <td>403.6</td>\n",
       "      <td>43.658148</td>\n",
       "      <td>-79.398167</td>\n",
       "      <td>38</td>\n",
       "      <td>5.0</td>\n",
       "      <td>Vegan</td>\n",
       "      <td>NaN</td>\n",
       "    </tr>\n",
       "    <tr>\n",
       "      <th>28872</th>\n",
       "      <td>623</td>\n",
       "      <td>Plan B</td>\n",
       "      <td>933.7</td>\n",
       "      <td>43.650169</td>\n",
       "      <td>-79.496335</td>\n",
       "      <td>34</td>\n",
       "      <td>5.0</td>\n",
       "      <td>South African</td>\n",
       "      <td>NaN</td>\n",
       "    </tr>\n",
       "    <tr>\n",
       "      <th>866</th>\n",
       "      <td>17</td>\n",
       "      <td>Haidilao Hot Pot</td>\n",
       "      <td>259.9</td>\n",
       "      <td>43.653264</td>\n",
       "      <td>-79.382458</td>\n",
       "      <td>33</td>\n",
       "      <td>5.0</td>\n",
       "      <td>Chinese</td>\n",
       "      <td>NaN</td>\n",
       "    </tr>\n",
       "    <tr>\n",
       "      <th>6188</th>\n",
       "      <td>124</td>\n",
       "      <td>Casamiento</td>\n",
       "      <td>550.8</td>\n",
       "      <td>43.675278</td>\n",
       "      <td>-79.423889</td>\n",
       "      <td>28</td>\n",
       "      <td>5.0</td>\n",
       "      <td>Salvadoran</td>\n",
       "      <td>NaN</td>\n",
       "    </tr>\n",
       "  </tbody>\n",
       "</table>\n",
       "</div>"
      ],
      "text/plain": [
       "       Station Index                              Name  Distance (m)  \\\n",
       "23007            480  New Orleans Seafood & Steakhouse         737.2   \n",
       "22397            467                      Zeal Burgers         230.2   \n",
       "5732             115                 Grandma Loves You         280.4   \n",
       "94                 1                      Gurume Sushi         447.3   \n",
       "4148              83                           Papyrus         817.3   \n",
       "1839              36                             Mallo         325.9   \n",
       "367                7                            Hawker         403.6   \n",
       "28872            623                            Plan B         933.7   \n",
       "866               17                  Haidilao Hot Pot         259.9   \n",
       "6188             124                        Casamiento         550.8   \n",
       "\n",
       "        Latitude  Longitude  Number of Reviews  Rating       Category  \\\n",
       "23007  43.683470 -79.510894                172     5.0        Seafood   \n",
       "22397  43.698841 -79.519472                137     5.0        Burgers   \n",
       "5732   43.675492 -79.388858                 75     5.0     Sandwiches   \n",
       "94     43.664964 -79.383550                 52     5.0     Sushi Bars   \n",
       "4148   43.680223 -79.344062                 50     5.0       Egyptian   \n",
       "1839   43.664467 -79.414783                 44     5.0   Coffee & Tea   \n",
       "367    43.658148 -79.398167                 38     5.0          Vegan   \n",
       "28872  43.650169 -79.496335                 34     5.0  South African   \n",
       "866    43.653264 -79.382458                 33     5.0        Chinese   \n",
       "6188   43.675278 -79.423889                 28     5.0     Salvadoran   \n",
       "\n",
       "       Price 1-4  \n",
       "23007        3.0  \n",
       "22397        2.0  \n",
       "5732         2.0  \n",
       "94           NaN  \n",
       "4148         2.0  \n",
       "1839         1.0  \n",
       "367          NaN  \n",
       "28872        NaN  \n",
       "866          NaN  \n",
       "6188         NaN  "
      ]
     },
     "execution_count": 160,
     "metadata": {},
     "output_type": "execute_result"
    }
   ],
   "source": [
    "#top 10 restaurants by rating and number of reviews\n",
    "\n",
    "yelp_top10_restaurants = unique_restaurants.sort_values(by=['Rating', 'Number of Reviews'], ascending = [False,False]).head(10)\n",
    "yelp_top10_restaurants"
   ]
  },
  {
   "cell_type": "markdown",
   "metadata": {},
   "source": [
    "There were more than 10 restaurant options with a 5 start rating, 179 to be precise. So data was also sorted by the number of reviews."
   ]
  },
  {
   "cell_type": "markdown",
   "metadata": {},
   "source": [
    "Saving csv files"
   ]
  },
  {
   "cell_type": "code",
   "execution_count": 178,
   "metadata": {
    "tags": []
   },
   "outputs": [],
   "source": [
    "fs_data.to_csv('../data/fs_data2.csv', index=False)"
   ]
  },
  {
   "cell_type": "code",
   "execution_count": 184,
   "metadata": {},
   "outputs": [],
   "source": [
    "yelp_data.to_csv('../data/yelp_data2.csv', index=False)"
   ]
  },
  {
   "cell_type": "code",
   "execution_count": 191,
   "metadata": {},
   "outputs": [],
   "source": [
    "df_bike.to_csv('../data/bike_df2.csv', index=False)"
   ]
  }
 ],
 "metadata": {
  "kernelspec": {
   "display_name": "LHL_python_environment",
   "language": "python",
   "name": "lhl_python_environment"
  },
  "language_info": {
   "codemirror_mode": {
    "name": "ipython",
    "version": 3
   },
   "file_extension": ".py",
   "mimetype": "text/x-python",
   "name": "python",
   "nbconvert_exporter": "python",
   "pygments_lexer": "ipython3",
   "version": "3.9.17"
  }
 },
 "nbformat": 4,
 "nbformat_minor": 4
}

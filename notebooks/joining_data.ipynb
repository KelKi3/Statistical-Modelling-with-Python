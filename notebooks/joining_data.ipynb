{
 "cells": [
  {
   "cell_type": "markdown",
   "metadata": {},
   "source": [
    "# Joining Data"
   ]
  },
  {
   "cell_type": "code",
   "execution_count": 1,
   "metadata": {},
   "outputs": [],
   "source": [
    "import pandas as pd\n",
    "import seaborn as sns\n",
    "import matplotlib.pyplot as plt\n",
    "from scipy import stats\n",
    "import numpy as np"
   ]
  },
  {
   "cell_type": "markdown",
   "metadata": {},
   "source": [
    "### Join the data from Part 1 with the data from Part 2 to create a new dataframe."
   ]
  },
  {
   "cell_type": "markdown",
   "metadata": {},
   "source": [
    "Importing the dataframes from part 1 and 2"
   ]
  },
  {
   "cell_type": "code",
   "execution_count": 2,
   "metadata": {},
   "outputs": [],
   "source": [
    "yelp_df = pd.read_csv('../data/yelp_data2.csv')"
   ]
  },
  {
   "cell_type": "code",
   "execution_count": 3,
   "metadata": {},
   "outputs": [
    {
     "data": {
      "text/html": [
       "<div>\n",
       "<style scoped>\n",
       "    .dataframe tbody tr th:only-of-type {\n",
       "        vertical-align: middle;\n",
       "    }\n",
       "\n",
       "    .dataframe tbody tr th {\n",
       "        vertical-align: top;\n",
       "    }\n",
       "\n",
       "    .dataframe thead th {\n",
       "        text-align: right;\n",
       "    }\n",
       "</style>\n",
       "<table border=\"1\" class=\"dataframe\">\n",
       "  <thead>\n",
       "    <tr style=\"text-align: right;\">\n",
       "      <th></th>\n",
       "      <th>Station Index</th>\n",
       "      <th>Name</th>\n",
       "      <th>Distance (m)</th>\n",
       "      <th>Latitude</th>\n",
       "      <th>Longitude</th>\n",
       "      <th>Number of Reviews</th>\n",
       "      <th>Rating</th>\n",
       "      <th>Category</th>\n",
       "      <th>Price 1-4</th>\n",
       "    </tr>\n",
       "  </thead>\n",
       "  <tbody>\n",
       "    <tr>\n",
       "      <th>0</th>\n",
       "      <td>0</td>\n",
       "      <td>Gusto 101</td>\n",
       "      <td>673.3</td>\n",
       "      <td>43.639832</td>\n",
       "      <td>-79.395954</td>\n",
       "      <td>1151</td>\n",
       "      <td>4.0</td>\n",
       "      <td>Italian</td>\n",
       "      <td>2.0</td>\n",
       "    </tr>\n",
       "  </tbody>\n",
       "</table>\n",
       "</div>"
      ],
      "text/plain": [
       "   Station Index       Name  Distance (m)   Latitude  Longitude  \\\n",
       "0              0  Gusto 101         673.3  43.639832 -79.395954   \n",
       "\n",
       "   Number of Reviews  Rating Category  Price 1-4  \n",
       "0               1151     4.0  Italian        2.0  "
      ]
     },
     "execution_count": 3,
     "metadata": {},
     "output_type": "execute_result"
    }
   ],
   "source": [
    "yelp_df.head(1)"
   ]
  },
  {
   "cell_type": "code",
   "execution_count": 4,
   "metadata": {},
   "outputs": [],
   "source": [
    "fs_df = pd.read_csv('../data/fs_data2.csv')"
   ]
  },
  {
   "cell_type": "code",
   "execution_count": 5,
   "metadata": {},
   "outputs": [
    {
     "data": {
      "text/html": [
       "<div>\n",
       "<style scoped>\n",
       "    .dataframe tbody tr th:only-of-type {\n",
       "        vertical-align: middle;\n",
       "    }\n",
       "\n",
       "    .dataframe tbody tr th {\n",
       "        vertical-align: top;\n",
       "    }\n",
       "\n",
       "    .dataframe thead th {\n",
       "        text-align: right;\n",
       "    }\n",
       "</style>\n",
       "<table border=\"1\" class=\"dataframe\">\n",
       "  <thead>\n",
       "    <tr style=\"text-align: right;\">\n",
       "      <th></th>\n",
       "      <th>Station Index</th>\n",
       "      <th>Name</th>\n",
       "      <th>Rating</th>\n",
       "      <th>Price 1-4</th>\n",
       "      <th>Distance (m)</th>\n",
       "      <th>Latitude</th>\n",
       "      <th>Longitude</th>\n",
       "      <th>Category</th>\n",
       "      <th>Total Ratings</th>\n",
       "    </tr>\n",
       "  </thead>\n",
       "  <tbody>\n",
       "    <tr>\n",
       "      <th>0</th>\n",
       "      <td>0</td>\n",
       "      <td>CAFE Dispensary</td>\n",
       "      <td>7.8</td>\n",
       "      <td>1.0</td>\n",
       "      <td>40</td>\n",
       "      <td>43.639832</td>\n",
       "      <td>-79.395954</td>\n",
       "      <td>Café</td>\n",
       "      <td>8.0</td>\n",
       "    </tr>\n",
       "  </tbody>\n",
       "</table>\n",
       "</div>"
      ],
      "text/plain": [
       "   Station Index             Name  Rating  Price 1-4  Distance (m)   Latitude  \\\n",
       "0              0  CAFE Dispensary     7.8        1.0            40  43.639832   \n",
       "\n",
       "   Longitude Category  Total Ratings  \n",
       "0 -79.395954     Café            8.0  "
      ]
     },
     "execution_count": 5,
     "metadata": {},
     "output_type": "execute_result"
    }
   ],
   "source": [
    "fs_df.head(1)"
   ]
  },
  {
   "cell_type": "code",
   "execution_count": 6,
   "metadata": {},
   "outputs": [],
   "source": [
    "bike_df = pd.read_csv('../data/bike_df2.csv')"
   ]
  },
  {
   "cell_type": "code",
   "execution_count": 7,
   "metadata": {},
   "outputs": [
    {
     "data": {
      "text/html": [
       "<div>\n",
       "<style scoped>\n",
       "    .dataframe tbody tr th:only-of-type {\n",
       "        vertical-align: middle;\n",
       "    }\n",
       "\n",
       "    .dataframe tbody tr th {\n",
       "        vertical-align: top;\n",
       "    }\n",
       "\n",
       "    .dataframe thead th {\n",
       "        text-align: right;\n",
       "    }\n",
       "</style>\n",
       "<table border=\"1\" class=\"dataframe\">\n",
       "  <thead>\n",
       "    <tr style=\"text-align: right;\">\n",
       "      <th></th>\n",
       "      <th>Station Id</th>\n",
       "      <th>Name</th>\n",
       "      <th>Latitude</th>\n",
       "      <th>Longitude</th>\n",
       "      <th>Number of Bikes</th>\n",
       "    </tr>\n",
       "  </thead>\n",
       "  <tbody>\n",
       "    <tr>\n",
       "      <th>0</th>\n",
       "      <td>7000</td>\n",
       "      <td>Fort York  Blvd / Capreol Ct</td>\n",
       "      <td>43.639832</td>\n",
       "      <td>-79.395954</td>\n",
       "      <td>6</td>\n",
       "    </tr>\n",
       "  </tbody>\n",
       "</table>\n",
       "</div>"
      ],
      "text/plain": [
       "   Station Id                          Name   Latitude  Longitude  \\\n",
       "0        7000  Fort York  Blvd / Capreol Ct  43.639832 -79.395954   \n",
       "\n",
       "   Number of Bikes  \n",
       "0                6  "
      ]
     },
     "execution_count": 7,
     "metadata": {},
     "output_type": "execute_result"
    }
   ],
   "source": [
    "bike_df.head(1)"
   ]
  },
  {
   "cell_type": "markdown",
   "metadata": {},
   "source": [
    "### Exploration"
   ]
  },
  {
   "cell_type": "code",
   "execution_count": 8,
   "metadata": {},
   "outputs": [],
   "source": [
    "#comparing yelp venues to FS venues based on citybike stations\n",
    "\n",
    "y_venues = yelp_df[yelp_df['Station Index'] == 0]\n",
    "fs_venues = fs_df[fs_df['Station Index'] == 0]\n",
    "combined_venues = pd.DataFrame({\n",
    "    'Yelp Name': y_venues['Name'],\n",
    "    'Foursquare Name': fs_venues['Name']\n",
    "})"
   ]
  },
  {
   "cell_type": "code",
   "execution_count": 9,
   "metadata": {},
   "outputs": [
    {
     "data": {
      "text/html": [
       "<div>\n",
       "<style scoped>\n",
       "    .dataframe tbody tr th:only-of-type {\n",
       "        vertical-align: middle;\n",
       "    }\n",
       "\n",
       "    .dataframe tbody tr th {\n",
       "        vertical-align: top;\n",
       "    }\n",
       "\n",
       "    .dataframe thead th {\n",
       "        text-align: right;\n",
       "    }\n",
       "</style>\n",
       "<table border=\"1\" class=\"dataframe\">\n",
       "  <thead>\n",
       "    <tr style=\"text-align: right;\">\n",
       "      <th></th>\n",
       "      <th>Yelp Name</th>\n",
       "      <th>Foursquare Name</th>\n",
       "    </tr>\n",
       "  </thead>\n",
       "  <tbody>\n",
       "    <tr>\n",
       "      <th>0</th>\n",
       "      <td>Gusto 101</td>\n",
       "      <td>CAFE Dispensary</td>\n",
       "    </tr>\n",
       "    <tr>\n",
       "      <th>1</th>\n",
       "      <td>Hunters Landing</td>\n",
       "      <td>Hunters Landing</td>\n",
       "    </tr>\n",
       "    <tr>\n",
       "      <th>2</th>\n",
       "      <td>Mira</td>\n",
       "      <td>Sansotei Ramen</td>\n",
       "    </tr>\n",
       "  </tbody>\n",
       "</table>\n",
       "</div>"
      ],
      "text/plain": [
       "         Yelp Name  Foursquare Name\n",
       "0        Gusto 101  CAFE Dispensary\n",
       "1  Hunters Landing  Hunters Landing\n",
       "2             Mira   Sansotei Ramen"
      ]
     },
     "execution_count": 9,
     "metadata": {},
     "output_type": "execute_result"
    }
   ],
   "source": [
    "combined_venues.head(3)"
   ]
  },
  {
   "cell_type": "markdown",
   "metadata": {},
   "source": [
    "Checking how many venues FS and yelp had in common for random stations. There were some in common for each. But they each also had some unique ones as well."
   ]
  },
  {
   "cell_type": "code",
   "execution_count": 10,
   "metadata": {},
   "outputs": [
    {
     "name": "stdout",
     "output_type": "stream",
     "text": [
      "Number of Yelp Names appearing in Foursquare Names at station 0: 10\n"
     ]
    }
   ],
   "source": [
    "count_in_common = combined_venues['Yelp Name'].isin(combined_venues['Foursquare Name']).sum()\n",
    "print(\"Number of Yelp Names appearing in Foursquare Names at station 0:\", count_in_common)"
   ]
  },
  {
   "cell_type": "markdown",
   "metadata": {},
   "source": [
    "#### Yelp merge with CityBikes"
   ]
  },
  {
   "cell_type": "code",
   "execution_count": 11,
   "metadata": {},
   "outputs": [
    {
     "data": {
      "text/html": [
       "<div>\n",
       "<style scoped>\n",
       "    .dataframe tbody tr th:only-of-type {\n",
       "        vertical-align: middle;\n",
       "    }\n",
       "\n",
       "    .dataframe tbody tr th {\n",
       "        vertical-align: top;\n",
       "    }\n",
       "\n",
       "    .dataframe thead th {\n",
       "        text-align: right;\n",
       "    }\n",
       "</style>\n",
       "<table border=\"1\" class=\"dataframe\">\n",
       "  <thead>\n",
       "    <tr style=\"text-align: right;\">\n",
       "      <th></th>\n",
       "      <th>Station Index</th>\n",
       "      <th>Name_x</th>\n",
       "      <th>Distance (m)</th>\n",
       "      <th>Latitude_x</th>\n",
       "      <th>Longitude_x</th>\n",
       "      <th>Number of Reviews</th>\n",
       "      <th>Rating</th>\n",
       "      <th>Category</th>\n",
       "      <th>Price 1-4</th>\n",
       "      <th>Station Id</th>\n",
       "      <th>Name_y</th>\n",
       "      <th>Latitude_y</th>\n",
       "      <th>Longitude_y</th>\n",
       "      <th>Number of Bikes</th>\n",
       "    </tr>\n",
       "  </thead>\n",
       "  <tbody>\n",
       "    <tr>\n",
       "      <th>0</th>\n",
       "      <td>0</td>\n",
       "      <td>Gusto 101</td>\n",
       "      <td>673.3</td>\n",
       "      <td>43.639832</td>\n",
       "      <td>-79.395954</td>\n",
       "      <td>1151</td>\n",
       "      <td>4.0</td>\n",
       "      <td>Italian</td>\n",
       "      <td>2.0</td>\n",
       "      <td>7000</td>\n",
       "      <td>Fort York  Blvd / Capreol Ct</td>\n",
       "      <td>43.639832</td>\n",
       "      <td>-79.395954</td>\n",
       "      <td>6</td>\n",
       "    </tr>\n",
       "  </tbody>\n",
       "</table>\n",
       "</div>"
      ],
      "text/plain": [
       "   Station Index     Name_x  Distance (m)  Latitude_x  Longitude_x  \\\n",
       "0              0  Gusto 101         673.3   43.639832   -79.395954   \n",
       "\n",
       "   Number of Reviews  Rating Category  Price 1-4  Station Id  \\\n",
       "0               1151     4.0  Italian        2.0        7000   \n",
       "\n",
       "                         Name_y  Latitude_y  Longitude_y  Number of Bikes  \n",
       "0  Fort York  Blvd / Capreol Ct   43.639832   -79.395954                6  "
      ]
     },
     "execution_count": 11,
     "metadata": {},
     "output_type": "execute_result"
    }
   ],
   "source": [
    "# Merge based on citybike index and station index\n",
    "\n",
    "yelp_citybike = yelp_df.merge(bike_df, left_on='Station Index', right_index=True, how='left')\n",
    "yelp_citybike.head(1)"
   ]
  },
  {
   "cell_type": "markdown",
   "metadata": {},
   "source": [
    "#### Foursquare merge with CityBikes"
   ]
  },
  {
   "cell_type": "code",
   "execution_count": 12,
   "metadata": {},
   "outputs": [
    {
     "data": {
      "text/html": [
       "<div>\n",
       "<style scoped>\n",
       "    .dataframe tbody tr th:only-of-type {\n",
       "        vertical-align: middle;\n",
       "    }\n",
       "\n",
       "    .dataframe tbody tr th {\n",
       "        vertical-align: top;\n",
       "    }\n",
       "\n",
       "    .dataframe thead th {\n",
       "        text-align: right;\n",
       "    }\n",
       "</style>\n",
       "<table border=\"1\" class=\"dataframe\">\n",
       "  <thead>\n",
       "    <tr style=\"text-align: right;\">\n",
       "      <th></th>\n",
       "      <th>Station Index</th>\n",
       "      <th>Name_x</th>\n",
       "      <th>Rating</th>\n",
       "      <th>Price 1-4</th>\n",
       "      <th>Distance (m)</th>\n",
       "      <th>Latitude_x</th>\n",
       "      <th>Longitude_x</th>\n",
       "      <th>Category</th>\n",
       "      <th>Total Ratings</th>\n",
       "      <th>Station Id</th>\n",
       "      <th>Name_y</th>\n",
       "      <th>Latitude_y</th>\n",
       "      <th>Longitude_y</th>\n",
       "      <th>Number of Bikes</th>\n",
       "    </tr>\n",
       "  </thead>\n",
       "  <tbody>\n",
       "    <tr>\n",
       "      <th>0</th>\n",
       "      <td>0</td>\n",
       "      <td>CAFE Dispensary</td>\n",
       "      <td>7.8</td>\n",
       "      <td>1.0</td>\n",
       "      <td>40</td>\n",
       "      <td>43.639832</td>\n",
       "      <td>-79.395954</td>\n",
       "      <td>Café</td>\n",
       "      <td>8.0</td>\n",
       "      <td>7000</td>\n",
       "      <td>Fort York  Blvd / Capreol Ct</td>\n",
       "      <td>43.639832</td>\n",
       "      <td>-79.395954</td>\n",
       "      <td>6</td>\n",
       "    </tr>\n",
       "  </tbody>\n",
       "</table>\n",
       "</div>"
      ],
      "text/plain": [
       "   Station Index           Name_x  Rating  Price 1-4  Distance (m)  \\\n",
       "0              0  CAFE Dispensary     7.8        1.0            40   \n",
       "\n",
       "   Latitude_x  Longitude_x Category  Total Ratings  Station Id  \\\n",
       "0   43.639832   -79.395954     Café            8.0        7000   \n",
       "\n",
       "                         Name_y  Latitude_y  Longitude_y  Number of Bikes  \n",
       "0  Fort York  Blvd / Capreol Ct   43.639832   -79.395954                6  "
      ]
     },
     "execution_count": 12,
     "metadata": {},
     "output_type": "execute_result"
    }
   ],
   "source": [
    "# Merge based on citybike index and station index\n",
    "\n",
    "fs_citybike = fs_df.merge(bike_df, left_on='Station Index', right_index=True, how='left')\n",
    "fs_citybike.head(1)"
   ]
  },
  {
   "cell_type": "markdown",
   "metadata": {},
   "source": [
    "#### yelp_citybike and fs_citybike merge"
   ]
  },
  {
   "cell_type": "markdown",
   "metadata": {},
   "source": [
    "More cleaning was needed to address some of the columns and make them uniform between the two."
   ]
  },
  {
   "cell_type": "code",
   "execution_count": 13,
   "metadata": {},
   "outputs": [],
   "source": [
    "yelp_citybike_2 = yelp_citybike.copy()"
   ]
  },
  {
   "cell_type": "code",
   "execution_count": 14,
   "metadata": {},
   "outputs": [],
   "source": [
    "#adding column to differentiate yelp from fs and added rating % column\n",
    "\n",
    "yelp_citybike_2['Site']='yelp'\n",
    "yelp_citybike_2['Rating %'] = (yelp_citybike_2['Rating'] / 5) * 100"
   ]
  },
  {
   "cell_type": "code",
   "execution_count": 15,
   "metadata": {},
   "outputs": [
    {
     "data": {
      "text/html": [
       "<div>\n",
       "<style scoped>\n",
       "    .dataframe tbody tr th:only-of-type {\n",
       "        vertical-align: middle;\n",
       "    }\n",
       "\n",
       "    .dataframe tbody tr th {\n",
       "        vertical-align: top;\n",
       "    }\n",
       "\n",
       "    .dataframe thead th {\n",
       "        text-align: right;\n",
       "    }\n",
       "</style>\n",
       "<table border=\"1\" class=\"dataframe\">\n",
       "  <thead>\n",
       "    <tr style=\"text-align: right;\">\n",
       "      <th></th>\n",
       "      <th>Station Index</th>\n",
       "      <th>Name_x</th>\n",
       "      <th>Distance (m)</th>\n",
       "      <th>Latitude_x</th>\n",
       "      <th>Longitude_x</th>\n",
       "      <th>Number of Reviews</th>\n",
       "      <th>Rating</th>\n",
       "      <th>Category</th>\n",
       "      <th>Price 1-4</th>\n",
       "      <th>Station Id</th>\n",
       "      <th>Name_y</th>\n",
       "      <th>Latitude_y</th>\n",
       "      <th>Longitude_y</th>\n",
       "      <th>Number of Bikes</th>\n",
       "      <th>Site</th>\n",
       "      <th>Rating %</th>\n",
       "    </tr>\n",
       "  </thead>\n",
       "  <tbody>\n",
       "    <tr>\n",
       "      <th>0</th>\n",
       "      <td>0</td>\n",
       "      <td>Gusto 101</td>\n",
       "      <td>673.3</td>\n",
       "      <td>43.639832</td>\n",
       "      <td>-79.395954</td>\n",
       "      <td>1151</td>\n",
       "      <td>4.0</td>\n",
       "      <td>Italian</td>\n",
       "      <td>2.0</td>\n",
       "      <td>7000</td>\n",
       "      <td>Fort York  Blvd / Capreol Ct</td>\n",
       "      <td>43.639832</td>\n",
       "      <td>-79.395954</td>\n",
       "      <td>6</td>\n",
       "      <td>yelp</td>\n",
       "      <td>80.0</td>\n",
       "    </tr>\n",
       "  </tbody>\n",
       "</table>\n",
       "</div>"
      ],
      "text/plain": [
       "   Station Index     Name_x  Distance (m)  Latitude_x  Longitude_x  \\\n",
       "0              0  Gusto 101         673.3   43.639832   -79.395954   \n",
       "\n",
       "   Number of Reviews  Rating Category  Price 1-4  Station Id  \\\n",
       "0               1151     4.0  Italian        2.0        7000   \n",
       "\n",
       "                         Name_y  Latitude_y  Longitude_y  Number of Bikes  \\\n",
       "0  Fort York  Blvd / Capreol Ct   43.639832   -79.395954                6   \n",
       "\n",
       "   Site  Rating %  \n",
       "0  yelp      80.0  "
      ]
     },
     "execution_count": 15,
     "metadata": {},
     "output_type": "execute_result"
    }
   ],
   "source": [
    "yelp_citybike_2.head(1)"
   ]
  },
  {
   "cell_type": "code",
   "execution_count": 16,
   "metadata": {},
   "outputs": [],
   "source": [
    "#rearranging the columns\n",
    "\n",
    "yelp_citybike_2 = yelp_citybike_2.reindex(columns=['Station Index', 'Name_x', 'Category', 'Distance (m)', 'Latitude_x', 'Longitude_x','Rating',\t'Rating %', 'Number of Reviews', 'Price 1-4', 'Station Id', 'Name_y', 'Latitude_y', 'Longitude_y', 'Number of Bikes', 'Site'])"
   ]
  },
  {
   "cell_type": "code",
   "execution_count": 18,
   "metadata": {},
   "outputs": [],
   "source": [
    "#adding 'foursqure' to site column for differentiation and raing %\n",
    "\n",
    "fs_citybike['Site']='foursquare'\n",
    "fs_citybike['Rating %'] = (fs_citybike['Rating'] / 10) * 100"
   ]
  },
  {
   "cell_type": "code",
   "execution_count": 20,
   "metadata": {},
   "outputs": [],
   "source": [
    "#fixing column titles to facilitate merging\n",
    "\n",
    "fs_citybike.columns = ['Station Index', 'Name_x', 'Rating', 'Price 1-4', 'Distance (m)', 'Latitude_x', 'Longitude_x','Category', 'Number of Reviews','Station Id', 'Name_y', 'Latitude_y', 'Longitude_y', 'Number of Bikes', 'Site', 'Rating %']"
   ]
  },
  {
   "cell_type": "code",
   "execution_count": 21,
   "metadata": {},
   "outputs": [],
   "source": [
    "#putting columns in the same order as the other df\n",
    "\n",
    "fs_citybike = fs_citybike.reindex(columns=['Station Index', 'Name_x', 'Category', 'Distance (m)', 'Latitude_x', 'Longitude_x','Rating',\t'Rating %', 'Number of Reviews', 'Price 1-4', 'Station Id', 'Name_y', 'Latitude_y', 'Longitude_y', 'Number of Bikes', 'Site'])"
   ]
  },
  {
   "cell_type": "code",
   "execution_count": 23,
   "metadata": {
    "tags": []
   },
   "outputs": [
    {
     "data": {
      "text/html": [
       "<div>\n",
       "<style scoped>\n",
       "    .dataframe tbody tr th:only-of-type {\n",
       "        vertical-align: middle;\n",
       "    }\n",
       "\n",
       "    .dataframe tbody tr th {\n",
       "        vertical-align: top;\n",
       "    }\n",
       "\n",
       "    .dataframe thead th {\n",
       "        text-align: right;\n",
       "    }\n",
       "</style>\n",
       "<table border=\"1\" class=\"dataframe\">\n",
       "  <thead>\n",
       "    <tr style=\"text-align: right;\">\n",
       "      <th></th>\n",
       "      <th>Station Index</th>\n",
       "      <th>Name_x</th>\n",
       "      <th>Category</th>\n",
       "      <th>Distance (m)</th>\n",
       "      <th>Latitude_x</th>\n",
       "      <th>Longitude_x</th>\n",
       "      <th>Rating</th>\n",
       "      <th>Rating %</th>\n",
       "      <th>Number of Reviews</th>\n",
       "      <th>Price 1-4</th>\n",
       "      <th>Station Id</th>\n",
       "      <th>Name_y</th>\n",
       "      <th>Latitude_y</th>\n",
       "      <th>Longitude_y</th>\n",
       "      <th>Number of Bikes</th>\n",
       "      <th>Site</th>\n",
       "    </tr>\n",
       "  </thead>\n",
       "  <tbody>\n",
       "    <tr>\n",
       "      <th>0</th>\n",
       "      <td>0</td>\n",
       "      <td>Gusto 101</td>\n",
       "      <td>Italian</td>\n",
       "      <td>673.3</td>\n",
       "      <td>43.639832</td>\n",
       "      <td>-79.395954</td>\n",
       "      <td>4.0</td>\n",
       "      <td>80.0</td>\n",
       "      <td>1151.0</td>\n",
       "      <td>2.0</td>\n",
       "      <td>7000</td>\n",
       "      <td>Fort York  Blvd / Capreol Ct</td>\n",
       "      <td>43.639832</td>\n",
       "      <td>-79.395954</td>\n",
       "      <td>6</td>\n",
       "      <td>yelp</td>\n",
       "    </tr>\n",
       "  </tbody>\n",
       "</table>\n",
       "</div>"
      ],
      "text/plain": [
       "   Station Index     Name_x Category  Distance (m)  Latitude_x  Longitude_x  \\\n",
       "0              0  Gusto 101  Italian         673.3   43.639832   -79.395954   \n",
       "\n",
       "   Rating  Rating %  Number of Reviews  Price 1-4  Station Id  \\\n",
       "0     4.0      80.0             1151.0        2.0        7000   \n",
       "\n",
       "                         Name_y  Latitude_y  Longitude_y  Number of Bikes  \\\n",
       "0  Fort York  Blvd / Capreol Ct   43.639832   -79.395954                6   \n",
       "\n",
       "   Site  \n",
       "0  yelp  "
      ]
     },
     "execution_count": 23,
     "metadata": {},
     "output_type": "execute_result"
    }
   ],
   "source": [
    "#Merging the 2 df together\n",
    "\n",
    "yelp_fs_citybike_df= pd.concat([yelp_citybike_2, fs_citybike], ignore_index=True)\n",
    "yelp_fs_citybike_df.head(1)"
   ]
  },
  {
   "cell_type": "markdown",
   "metadata": {},
   "source": [
    "#### Additional Cleaning"
   ]
  },
  {
   "cell_type": "markdown",
   "metadata": {},
   "source": [
    "Station index was initally helpful in joining the FS and Yelp df to the citybikes df in order to make sure the venues where being paired up with the proper bike station. Now that they are all joined, the station id is redundent to the Station Id and can be removed."
   ]
  },
  {
   "cell_type": "code",
   "execution_count": 25,
   "metadata": {},
   "outputs": [],
   "source": [
    "#removing extra Latitude, longitue and Station Index columns.\n",
    "\n",
    "columns_to_drop = [ 'Latitude_x', \"Longitude_x\", 'Station Index']\n",
    "yelp_fs_citybike_df.drop(columns=columns_to_drop, axis=1, inplace=True)"
   ]
  },
  {
   "cell_type": "code",
   "execution_count": 26,
   "metadata": {},
   "outputs": [],
   "source": [
    "#Fixing column names\n",
    "\n",
    "yelp_fs_citybike_df.columns = ['Name', 'Category', 'Distance (m)', 'Rating', 'Rating %', 'Number of Reviews', 'Price 1-4', 'Station Id', 'Station Name', 'Latitude', 'Longitude', 'Number of Bikes', 'Site']"
   ]
  },
  {
   "cell_type": "code",
   "execution_count": 27,
   "metadata": {},
   "outputs": [
    {
     "name": "stdout",
     "output_type": "stream",
     "text": [
      "Name                     0\n",
      "Category                81\n",
      "Distance (m)             0\n",
      "Rating                4136\n",
      "Rating %              4136\n",
      "Number of Reviews     4136\n",
      "Price 1-4            18600\n",
      "Station Id               0\n",
      "Station Name             0\n",
      "Latitude                 0\n",
      "Longitude                0\n",
      "Number of Bikes          0\n",
      "Site                     0\n",
      "dtype: int64\n"
     ]
    }
   ],
   "source": [
    "#Checking Nulls, 81 in 'category' on first check. I don't think the other nulls need to be addressed at this time.\n",
    "\n",
    "print(yelp_fs_citybike_df.isnull().sum())"
   ]
  },
  {
   "cell_type": "markdown",
   "metadata": {},
   "source": [
    "Venues were checked against each other to see if there was category information that could be used in replacement for NaN values."
   ]
  },
  {
   "cell_type": "code",
   "execution_count": 28,
   "metadata": {},
   "outputs": [
    {
     "data": {
      "text/html": [
       "<div>\n",
       "<style scoped>\n",
       "    .dataframe tbody tr th:only-of-type {\n",
       "        vertical-align: middle;\n",
       "    }\n",
       "\n",
       "    .dataframe tbody tr th {\n",
       "        vertical-align: top;\n",
       "    }\n",
       "\n",
       "    .dataframe thead th {\n",
       "        text-align: right;\n",
       "    }\n",
       "</style>\n",
       "<table border=\"1\" class=\"dataframe\">\n",
       "  <thead>\n",
       "    <tr style=\"text-align: right;\">\n",
       "      <th></th>\n",
       "      <th>Name</th>\n",
       "      <th>Category</th>\n",
       "      <th>Distance (m)</th>\n",
       "      <th>Rating</th>\n",
       "      <th>Rating %</th>\n",
       "      <th>Number of Reviews</th>\n",
       "      <th>Price 1-4</th>\n",
       "      <th>Station Id</th>\n",
       "      <th>Station Name</th>\n",
       "      <th>Latitude</th>\n",
       "      <th>Longitude</th>\n",
       "      <th>Number of Bikes</th>\n",
       "      <th>Site</th>\n",
       "    </tr>\n",
       "  </thead>\n",
       "  <tbody>\n",
       "    <tr>\n",
       "      <th>51418</th>\n",
       "      <td>Birchmount Park Collegiate Institute</td>\n",
       "      <td>NaN</td>\n",
       "      <td>941.0</td>\n",
       "      <td>NaN</td>\n",
       "      <td>NaN</td>\n",
       "      <td>NaN</td>\n",
       "      <td>NaN</td>\n",
       "      <td>7734</td>\n",
       "      <td>Danforth Ave / Warden Ave</td>\n",
       "      <td>43.695019</td>\n",
       "      <td>-79.271807</td>\n",
       "      <td>0</td>\n",
       "      <td>foursquare</td>\n",
       "    </tr>\n",
       "    <tr>\n",
       "      <th>51434</th>\n",
       "      <td>Birchmount Park Collegiate Institute</td>\n",
       "      <td>NaN</td>\n",
       "      <td>742.0</td>\n",
       "      <td>NaN</td>\n",
       "      <td>NaN</td>\n",
       "      <td>NaN</td>\n",
       "      <td>NaN</td>\n",
       "      <td>7735</td>\n",
       "      <td>Birchcliff Ave / Kingston Rd</td>\n",
       "      <td>43.691688</td>\n",
       "      <td>-79.265027</td>\n",
       "      <td>9</td>\n",
       "      <td>foursquare</td>\n",
       "    </tr>\n",
       "    <tr>\n",
       "      <th>51446</th>\n",
       "      <td>Birchmount Park Collegiate Institute</td>\n",
       "      <td>NaN</td>\n",
       "      <td>424.0</td>\n",
       "      <td>NaN</td>\n",
       "      <td>NaN</td>\n",
       "      <td>NaN</td>\n",
       "      <td>NaN</td>\n",
       "      <td>7736</td>\n",
       "      <td>Birchmount Rd / Kingston Rd</td>\n",
       "      <td>43.694013</td>\n",
       "      <td>-79.262572</td>\n",
       "      <td>12</td>\n",
       "      <td>foursquare</td>\n",
       "    </tr>\n",
       "    <tr>\n",
       "      <th>51461</th>\n",
       "      <td>Birchmount Park Collegiate Institute</td>\n",
       "      <td>NaN</td>\n",
       "      <td>327.0</td>\n",
       "      <td>NaN</td>\n",
       "      <td>NaN</td>\n",
       "      <td>NaN</td>\n",
       "      <td>NaN</td>\n",
       "      <td>7737</td>\n",
       "      <td>Kingston Rd / Glen Everest Rd</td>\n",
       "      <td>43.697490</td>\n",
       "      <td>-79.256551</td>\n",
       "      <td>8</td>\n",
       "      <td>foursquare</td>\n",
       "    </tr>\n",
       "    <tr>\n",
       "      <th>51491</th>\n",
       "      <td>Birchmount Park Collegiate Institute</td>\n",
       "      <td>NaN</td>\n",
       "      <td>641.0</td>\n",
       "      <td>NaN</td>\n",
       "      <td>NaN</td>\n",
       "      <td>NaN</td>\n",
       "      <td>NaN</td>\n",
       "      <td>7738</td>\n",
       "      <td>Highview Ave / Kennedy Rd</td>\n",
       "      <td>43.702419</td>\n",
       "      <td>-79.256317</td>\n",
       "      <td>14</td>\n",
       "      <td>foursquare</td>\n",
       "    </tr>\n",
       "  </tbody>\n",
       "</table>\n",
       "</div>"
      ],
      "text/plain": [
       "                                       Name Category  Distance (m)  Rating  \\\n",
       "51418  Birchmount Park Collegiate Institute      NaN         941.0     NaN   \n",
       "51434  Birchmount Park Collegiate Institute      NaN         742.0     NaN   \n",
       "51446  Birchmount Park Collegiate Institute      NaN         424.0     NaN   \n",
       "51461  Birchmount Park Collegiate Institute      NaN         327.0     NaN   \n",
       "51491  Birchmount Park Collegiate Institute      NaN         641.0     NaN   \n",
       "\n",
       "       Rating %  Number of Reviews  Price 1-4  Station Id  \\\n",
       "51418       NaN                NaN        NaN        7734   \n",
       "51434       NaN                NaN        NaN        7735   \n",
       "51446       NaN                NaN        NaN        7736   \n",
       "51461       NaN                NaN        NaN        7737   \n",
       "51491       NaN                NaN        NaN        7738   \n",
       "\n",
       "                        Station Name   Latitude  Longitude  Number of Bikes  \\\n",
       "51418      Danforth Ave / Warden Ave  43.695019 -79.271807                0   \n",
       "51434   Birchcliff Ave / Kingston Rd  43.691688 -79.265027                9   \n",
       "51446    Birchmount Rd / Kingston Rd  43.694013 -79.262572               12   \n",
       "51461  Kingston Rd / Glen Everest Rd  43.697490 -79.256551                8   \n",
       "51491      Highview Ave / Kennedy Rd  43.702419 -79.256317               14   \n",
       "\n",
       "             Site  \n",
       "51418  foursquare  \n",
       "51434  foursquare  \n",
       "51446  foursquare  \n",
       "51461  foursquare  \n",
       "51491  foursquare  "
      ]
     },
     "execution_count": 28,
     "metadata": {},
     "output_type": "execute_result"
    }
   ],
   "source": [
    "yelp_fs_citybike_df[yelp_fs_citybike_df['Name'].str.contains('Birchmount Park Collegiate Institute')]"
   ]
  },
  {
   "cell_type": "markdown",
   "metadata": {},
   "source": [
    "The coding to fix the categories was used repeatedly until the NaN values were filled. You will need to import the yelp_fs_citybike_df.csv below to continue with the dataframe that has the corrected categories.\n",
    "\n",
    "This took some time to do and I did not show the entire process. The csv is from df with fixed categories."
   ]
  },
  {
   "cell_type": "code",
   "execution_count": 36,
   "metadata": {},
   "outputs": [],
   "source": [
    "\"\"\"\n",
    "#adding categories where applicable. \n",
    "\n",
    "yelp_fs_citybike_df.loc[yelp_fs_citybike_df['Name'].str.contains(\"Birchmount Park Collegiate Institute\"), 'Category'] = 'High School'\n",
    "\"\"\""
   ]
  },
  {
   "cell_type": "code",
   "execution_count": 29,
   "metadata": {},
   "outputs": [],
   "source": [
    "yelp_fs_citybike_df = pd.read_csv('../data/yelp_fs_citybike_df.csv')"
   ]
  },
  {
   "cell_type": "code",
   "execution_count": 30,
   "metadata": {},
   "outputs": [
    {
     "data": {
      "text/html": [
       "<div>\n",
       "<style scoped>\n",
       "    .dataframe tbody tr th:only-of-type {\n",
       "        vertical-align: middle;\n",
       "    }\n",
       "\n",
       "    .dataframe tbody tr th {\n",
       "        vertical-align: top;\n",
       "    }\n",
       "\n",
       "    .dataframe thead th {\n",
       "        text-align: right;\n",
       "    }\n",
       "</style>\n",
       "<table border=\"1\" class=\"dataframe\">\n",
       "  <thead>\n",
       "    <tr style=\"text-align: right;\">\n",
       "      <th></th>\n",
       "      <th>Name</th>\n",
       "      <th>Category</th>\n",
       "      <th>Distance (m)</th>\n",
       "      <th>Rating</th>\n",
       "      <th>Rating %</th>\n",
       "      <th>Number of Reviews</th>\n",
       "      <th>Price 1-4</th>\n",
       "      <th>Station Id</th>\n",
       "      <th>Station Name</th>\n",
       "      <th>Latitude</th>\n",
       "      <th>Longitude</th>\n",
       "      <th>Number of Bikes</th>\n",
       "      <th>Site</th>\n",
       "    </tr>\n",
       "  </thead>\n",
       "  <tbody>\n",
       "    <tr>\n",
       "      <th>0</th>\n",
       "      <td>Gusto 101</td>\n",
       "      <td>Italian</td>\n",
       "      <td>673.3</td>\n",
       "      <td>4.0</td>\n",
       "      <td>80.0</td>\n",
       "      <td>1151.0</td>\n",
       "      <td>2.0</td>\n",
       "      <td>7000</td>\n",
       "      <td>Fort York  Blvd / Capreol Ct</td>\n",
       "      <td>43.639832</td>\n",
       "      <td>-79.395954</td>\n",
       "      <td>6</td>\n",
       "      <td>yelp</td>\n",
       "    </tr>\n",
       "  </tbody>\n",
       "</table>\n",
       "</div>"
      ],
      "text/plain": [
       "        Name Category  Distance (m)  Rating  Rating %  Number of Reviews  \\\n",
       "0  Gusto 101  Italian         673.3     4.0      80.0             1151.0   \n",
       "\n",
       "   Price 1-4  Station Id                  Station Name   Latitude  Longitude  \\\n",
       "0        2.0        7000  Fort York  Blvd / Capreol Ct  43.639832 -79.395954   \n",
       "\n",
       "   Number of Bikes  Site  \n",
       "0                6  yelp  "
      ]
     },
     "execution_count": 30,
     "metadata": {},
     "output_type": "execute_result"
    }
   ],
   "source": [
    "yelp_fs_citybike_df.head(1)"
   ]
  },
  {
   "cell_type": "code",
   "execution_count": 31,
   "metadata": {},
   "outputs": [
    {
     "name": "stdout",
     "output_type": "stream",
     "text": [
      "0\n"
     ]
    }
   ],
   "source": [
    "print(yelp_fs_citybike_df['Category'].isnull().sum())"
   ]
  },
  {
   "cell_type": "markdown",
   "metadata": {},
   "source": [
    "### Provide a visualization that you used as part of your EDA process. Explain the initial pattern or relationship you discoved through this visualization. "
   ]
  },
  {
   "cell_type": "markdown",
   "metadata": {},
   "source": [
    "My EDA process was long and I feel like it continued well into the model building process. As I searched for things that could show a correllation with each other, I took time to appreciate the importance of a lack of correllation as well and that there is still important infomation to be obtained from individual visualizations. My initial thoughts on seeing the data and the problem was that maybe there were more bikes at a station surounded by venues with a higher rating in a closer distance, which will be explored more in [model_building](./Computer Courses/LHL Data Bootcamp/LHL Projects/Python Modelling Project/notebooks/model_building.ipynb)"
   ]
  },
  {
   "cell_type": "code",
   "execution_count": 32,
   "metadata": {},
   "outputs": [],
   "source": [
    "#creating a df with unique venues\n",
    "\n",
    "unique_venues = yelp_fs_citybike_df[['Name', 'Category', 'Distance (m)', 'Rating %', 'Number of Reviews', 'Price 1-4']].copy()"
   ]
  },
  {
   "cell_type": "code",
   "execution_count": 33,
   "metadata": {},
   "outputs": [
    {
     "data": {
      "text/plain": [
       "(5603, 6)"
      ]
     },
     "execution_count": 33,
     "metadata": {},
     "output_type": "execute_result"
    }
   ],
   "source": [
    "unique_venues = unique_venues.groupby('Name').head(1)\n",
    "unique_venues.shape"
   ]
  },
  {
   "cell_type": "code",
   "execution_count": 34,
   "metadata": {},
   "outputs": [
    {
     "data": {
      "text/plain": [
       "80.0     989\n",
       "70.0     725\n",
       "90.0     606\n",
       "60.0     279\n",
       "100.0    222\n",
       "Name: Rating %, dtype: int64"
      ]
     },
     "execution_count": 34,
     "metadata": {},
     "output_type": "execute_result"
    }
   ],
   "source": [
    "rating_count = unique_venues['Rating %'].value_counts()\n",
    "rating_count.head(5)"
   ]
  },
  {
   "cell_type": "code",
   "execution_count": 35,
   "metadata": {},
   "outputs": [
    {
     "data": {
      "text/html": [
       "<div>\n",
       "<style scoped>\n",
       "    .dataframe tbody tr th:only-of-type {\n",
       "        vertical-align: middle;\n",
       "    }\n",
       "\n",
       "    .dataframe tbody tr th {\n",
       "        vertical-align: top;\n",
       "    }\n",
       "\n",
       "    .dataframe thead th {\n",
       "        text-align: right;\n",
       "    }\n",
       "</style>\n",
       "<table border=\"1\" class=\"dataframe\">\n",
       "  <thead>\n",
       "    <tr style=\"text-align: right;\">\n",
       "      <th></th>\n",
       "      <th>Name</th>\n",
       "      <th>Category</th>\n",
       "      <th>Distance (m)</th>\n",
       "      <th>Rating %</th>\n",
       "      <th>Number of Reviews</th>\n",
       "      <th>Price 1-4</th>\n",
       "    </tr>\n",
       "  </thead>\n",
       "  <tbody>\n",
       "    <tr>\n",
       "      <th>0</th>\n",
       "      <td>Gusto 101</td>\n",
       "      <td>Italian</td>\n",
       "      <td>673.3</td>\n",
       "      <td>80.0</td>\n",
       "      <td>1151.0</td>\n",
       "      <td>2.0</td>\n",
       "    </tr>\n",
       "  </tbody>\n",
       "</table>\n",
       "</div>"
      ],
      "text/plain": [
       "        Name Category  Distance (m)  Rating %  Number of Reviews  Price 1-4\n",
       "0  Gusto 101  Italian         673.3      80.0             1151.0        2.0"
      ]
     },
     "execution_count": 35,
     "metadata": {},
     "output_type": "execute_result"
    }
   ],
   "source": [
    "unique_venues.head(1)"
   ]
  },
  {
   "cell_type": "code",
   "execution_count": 38,
   "metadata": {},
   "outputs": [
    {
     "data": {
      "text/plain": [
       "Text(0.5, 1.0, 'Distance from Venue to Bike Station in Meters')"
      ]
     },
     "execution_count": 38,
     "metadata": {},
     "output_type": "execute_result"
    },
    {
     "data": {
      "image/png": "[encoded data removed]",
      "text/plain": [
       "<Figure size 640x480 with 1 Axes>"
      ]
     },
     "metadata": {},
     "output_type": "display_data"
    }
   ],
   "source": [
    "#histogram of the distances to the bike stations\n",
    "\n",
    "sns.histplot(unique_venues['Distance (m)'])\n",
    "plt.title(\"Distance from Venue to Bike Station in Meters\")"
   ]
  },
  {
   "cell_type": "markdown",
   "metadata": {},
   "source": [
    "You can see from the Distance histogram that most of the venues are more than 500m away from the stations."
   ]
  },
  {
   "cell_type": "code",
   "execution_count": 39,
   "metadata": {},
   "outputs": [
    {
     "data": {
      "text/plain": [
       "Text(0.5, 1.0, 'Venue Ratings')"
      ]
     },
     "execution_count": 39,
     "metadata": {},
     "output_type": "execute_result"
    },
    {
     "data": {
      "image/png": "[encoded data removed]",
      "text/plain": [
       "<Figure size 640x480 with 1 Axes>"
      ]
     },
     "metadata": {},
     "output_type": "display_data"
    }
   ],
   "source": [
    "#histogram of the rating %\n",
    "\n",
    "sns.histplot(unique_venues['Rating %'])\n",
    "plt.title(\"Venue Ratings\")"
   ]
  },
  {
   "cell_type": "markdown",
   "metadata": {},
   "source": [
    "It is actually a bit surprising to me that there are not more rating percentages in the lower ranges, as I frequently thought that people who were unhappy with their service or experience were more likely to post a rating or review."
   ]
  },
  {
   "cell_type": "markdown",
   "metadata": {},
   "source": [
    "### Rating vs Price"
   ]
  },
  {
   "cell_type": "code",
   "execution_count": 41,
   "metadata": {},
   "outputs": [
    {
     "data": {
      "text/html": [
       "<div>\n",
       "<style scoped>\n",
       "    .dataframe tbody tr th:only-of-type {\n",
       "        vertical-align: middle;\n",
       "    }\n",
       "\n",
       "    .dataframe tbody tr th {\n",
       "        vertical-align: top;\n",
       "    }\n",
       "\n",
       "    .dataframe thead th {\n",
       "        text-align: right;\n",
       "    }\n",
       "</style>\n",
       "<table border=\"1\" class=\"dataframe\">\n",
       "  <thead>\n",
       "    <tr style=\"text-align: right;\">\n",
       "      <th></th>\n",
       "      <th>Rating %</th>\n",
       "      <th>Number of Reviews</th>\n",
       "      <th>Price 1-4</th>\n",
       "    </tr>\n",
       "  </thead>\n",
       "  <tbody>\n",
       "    <tr>\n",
       "      <th>0</th>\n",
       "      <td>80.0</td>\n",
       "      <td>1151.0</td>\n",
       "      <td>2.0</td>\n",
       "    </tr>\n",
       "  </tbody>\n",
       "</table>\n",
       "</div>"
      ],
      "text/plain": [
       "   Rating %  Number of Reviews  Price 1-4\n",
       "0      80.0             1151.0        2.0"
      ]
     },
     "execution_count": 41,
     "metadata": {},
     "output_type": "execute_result"
    }
   ],
   "source": [
    "#creating frame with select information\n",
    "\n",
    "rating_vs_num = unique_venues[['Rating %','Number of Reviews', 'Price 1-4' ]]\n",
    "rating_vs_num.head(1)"
   ]
  },
  {
   "cell_type": "code",
   "execution_count": 43,
   "metadata": {},
   "outputs": [
    {
     "data": {
      "text/html": [
       "<div>\n",
       "<style scoped>\n",
       "    .dataframe tbody tr th:only-of-type {\n",
       "        vertical-align: middle;\n",
       "    }\n",
       "\n",
       "    .dataframe tbody tr th {\n",
       "        vertical-align: top;\n",
       "    }\n",
       "\n",
       "    .dataframe thead th {\n",
       "        text-align: right;\n",
       "    }\n",
       "</style>\n",
       "<table border=\"1\" class=\"dataframe\">\n",
       "  <thead>\n",
       "    <tr style=\"text-align: right;\">\n",
       "      <th></th>\n",
       "      <th>Rating %</th>\n",
       "      <th>Number of Reviews</th>\n",
       "      <th>Price 1-4</th>\n",
       "    </tr>\n",
       "  </thead>\n",
       "  <tbody>\n",
       "    <tr>\n",
       "      <th>0</th>\n",
       "      <td>80.0</td>\n",
       "      <td>1151.0</td>\n",
       "      <td>2.0</td>\n",
       "    </tr>\n",
       "  </tbody>\n",
       "</table>\n",
       "</div>"
      ],
      "text/plain": [
       "   Rating %  Number of Reviews  Price 1-4\n",
       "0      80.0             1151.0        2.0"
      ]
     },
     "execution_count": 43,
     "metadata": {},
     "output_type": "execute_result"
    }
   ],
   "source": [
    "#Removing NaN values\n",
    "\n",
    "rating_vs_num=rating_vs_num.dropna()\n",
    "rating_vs_num.head(1)"
   ]
  },
  {
   "cell_type": "markdown",
   "metadata": {},
   "source": [
    "The price column is a categorical representation of the price ranges for the venues, 1 being least expensive and 4 being the most."
   ]
  },
  {
   "cell_type": "code",
   "execution_count": 44,
   "metadata": {},
   "outputs": [
    {
     "data": {
      "text/html": [
       "<div>\n",
       "<style scoped>\n",
       "    .dataframe tbody tr th:only-of-type {\n",
       "        vertical-align: middle;\n",
       "    }\n",
       "\n",
       "    .dataframe tbody tr th {\n",
       "        vertical-align: top;\n",
       "    }\n",
       "\n",
       "    .dataframe thead th {\n",
       "        text-align: right;\n",
       "    }\n",
       "</style>\n",
       "<table border=\"1\" class=\"dataframe\">\n",
       "  <thead>\n",
       "    <tr style=\"text-align: right;\">\n",
       "      <th></th>\n",
       "      <th>Rating %</th>\n",
       "      <th>Number of Reviews</th>\n",
       "      <th>Price 1-4</th>\n",
       "    </tr>\n",
       "  </thead>\n",
       "  <tbody>\n",
       "    <tr>\n",
       "      <th>count</th>\n",
       "      <td>2385.000000</td>\n",
       "      <td>2385.000000</td>\n",
       "      <td>2385.000000</td>\n",
       "    </tr>\n",
       "    <tr>\n",
       "      <th>mean</th>\n",
       "      <td>75.103564</td>\n",
       "      <td>112.015933</td>\n",
       "      <td>1.870021</td>\n",
       "    </tr>\n",
       "    <tr>\n",
       "      <th>std</th>\n",
       "      <td>11.471028</td>\n",
       "      <td>190.444990</td>\n",
       "      <td>0.672353</td>\n",
       "    </tr>\n",
       "    <tr>\n",
       "      <th>min</th>\n",
       "      <td>20.000000</td>\n",
       "      <td>1.000000</td>\n",
       "      <td>1.000000</td>\n",
       "    </tr>\n",
       "    <tr>\n",
       "      <th>25%</th>\n",
       "      <td>70.000000</td>\n",
       "      <td>23.000000</td>\n",
       "      <td>1.000000</td>\n",
       "    </tr>\n",
       "    <tr>\n",
       "      <th>50%</th>\n",
       "      <td>80.000000</td>\n",
       "      <td>55.000000</td>\n",
       "      <td>2.000000</td>\n",
       "    </tr>\n",
       "    <tr>\n",
       "      <th>75%</th>\n",
       "      <td>80.000000</td>\n",
       "      <td>126.000000</td>\n",
       "      <td>2.000000</td>\n",
       "    </tr>\n",
       "    <tr>\n",
       "      <th>max</th>\n",
       "      <td>100.000000</td>\n",
       "      <td>3474.000000</td>\n",
       "      <td>4.000000</td>\n",
       "    </tr>\n",
       "  </tbody>\n",
       "</table>\n",
       "</div>"
      ],
      "text/plain": [
       "          Rating %  Number of Reviews    Price 1-4\n",
       "count  2385.000000        2385.000000  2385.000000\n",
       "mean     75.103564         112.015933     1.870021\n",
       "std      11.471028         190.444990     0.672353\n",
       "min      20.000000           1.000000     1.000000\n",
       "25%      70.000000          23.000000     1.000000\n",
       "50%      80.000000          55.000000     2.000000\n",
       "75%      80.000000         126.000000     2.000000\n",
       "max     100.000000        3474.000000     4.000000"
      ]
     },
     "execution_count": 44,
     "metadata": {},
     "output_type": "execute_result"
    }
   ],
   "source": [
    "rating_vs_num.describe()"
   ]
  },
  {
   "cell_type": "code",
   "execution_count": 45,
   "metadata": {},
   "outputs": [
    {
     "data": {
      "image/png": "[encoded data removed]",
      "text/plain": [
       "<Figure size 640x480 with 1 Axes>"
      ]
     },
     "metadata": {},
     "output_type": "display_data"
    }
   ],
   "source": [
    "#creating box plot\n",
    "\n",
    "sns.boxplot(x='Price 1-4', y='Rating %', data=rating_vs_num)\n",
    "plt.xlabel('Price Categories')\n",
    "plt.ylabel('Rating %')\n",
    "plt.title('Box Plot: Rating % by Price Categories')\n",
    "plt.show()"
   ]
  },
  {
   "cell_type": "code",
   "execution_count": 50,
   "metadata": {},
   "outputs": [
    {
     "data": {
      "image/png": "[encoded data removed]",
      "text/plain": [
       "<Figure size 640x480 with 1 Axes>"
      ]
     },
     "metadata": {},
     "output_type": "display_data"
    }
   ],
   "source": [
    "#Creating violin plot\n",
    "\n",
    "sns.violinplot(x='Price 1-4', y='Rating %', data=rating_vs_num)\n",
    "plt.xlabel('Price Categories')\n",
    "plt.ylabel('Rating %')\n",
    "plt.title('Violin Plot: Rating % by Price Categories')\n",
    "plt.show()"
   ]
  },
  {
   "cell_type": "markdown",
   "metadata": {},
   "source": [
    "From the box and violing plots you can easily see that the median ratings are very close to each other and you can see where the bulk of the ratings lie, between the 70-80 % mark."
   ]
  },
  {
   "cell_type": "code",
   "execution_count": 51,
   "metadata": {},
   "outputs": [],
   "source": [
    "#creating column with the average rating\n",
    "\n",
    "average_rating = rating_vs_num.groupby('Price 1-4')['Rating %'].mean()\n",
    "avg_rating_per_price = pd.DataFrame({\n",
    "    'Price 1-4':average_rating.index,\n",
    "    'Average Rating %': average_rating.values     \n",
    " })"
   ]
  },
  {
   "cell_type": "code",
   "execution_count": 52,
   "metadata": {},
   "outputs": [
    {
     "data": {
      "text/html": [
       "<div>\n",
       "<style scoped>\n",
       "    .dataframe tbody tr th:only-of-type {\n",
       "        vertical-align: middle;\n",
       "    }\n",
       "\n",
       "    .dataframe tbody tr th {\n",
       "        vertical-align: top;\n",
       "    }\n",
       "\n",
       "    .dataframe thead th {\n",
       "        text-align: right;\n",
       "    }\n",
       "</style>\n",
       "<table border=\"1\" class=\"dataframe\">\n",
       "  <thead>\n",
       "    <tr style=\"text-align: right;\">\n",
       "      <th></th>\n",
       "      <th>Price 1-4</th>\n",
       "      <th>Average Rating %</th>\n",
       "    </tr>\n",
       "  </thead>\n",
       "  <tbody>\n",
       "    <tr>\n",
       "      <th>0</th>\n",
       "      <td>1.0</td>\n",
       "      <td>75.596067</td>\n",
       "    </tr>\n",
       "    <tr>\n",
       "      <th>1</th>\n",
       "      <td>2.0</td>\n",
       "      <td>74.657083</td>\n",
       "    </tr>\n",
       "    <tr>\n",
       "      <th>2</th>\n",
       "      <td>3.0</td>\n",
       "      <td>75.571429</td>\n",
       "    </tr>\n",
       "    <tr>\n",
       "      <th>3</th>\n",
       "      <td>4.0</td>\n",
       "      <td>78.811321</td>\n",
       "    </tr>\n",
       "  </tbody>\n",
       "</table>\n",
       "</div>"
      ],
      "text/plain": [
       "   Price 1-4  Average Rating %\n",
       "0        1.0         75.596067\n",
       "1        2.0         74.657083\n",
       "2        3.0         75.571429\n",
       "3        4.0         78.811321"
      ]
     },
     "execution_count": 52,
     "metadata": {},
     "output_type": "execute_result"
    }
   ],
   "source": [
    "#average rating per price category\n",
    "\n",
    "avg_rating_per_price"
   ]
  },
  {
   "cell_type": "code",
   "execution_count": 59,
   "metadata": {},
   "outputs": [
    {
     "data": {
      "image/png": "[encoded data removed]",
      "text/plain": [
       "<Figure size 640x480 with 1 Axes>"
      ]
     },
     "metadata": {},
     "output_type": "display_data"
    }
   ],
   "source": [
    "#creating bar plot for rating % in price categories\n",
    "\n",
    "sns.barplot(data=rating_vs_num, x='Price 1-4', y='Rating %')\n",
    "plt.show()"
   ]
  },
  {
   "cell_type": "markdown",
   "metadata": {},
   "source": [
    "These are all fairly even. The most expensive restaurants seem to have a slight higher rating average."
   ]
  },
  {
   "cell_type": "markdown",
   "metadata": {},
   "source": [
    "Because Price 1-4 is a categorical value, I also did a one way ANOVA test."
   ]
  },
  {
   "cell_type": "code",
   "execution_count": 60,
   "metadata": {},
   "outputs": [
    {
     "data": {
      "text/plain": [
       "0.025186298088042625"
      ]
     },
     "execution_count": 60,
     "metadata": {},
     "output_type": "execute_result"
    }
   ],
   "source": [
    "price_1 = rating_vs_num[rating_vs_num['Price 1-4']==1]['Rating %']\n",
    "price_2 = rating_vs_num[rating_vs_num['Price 1-4']==2]['Rating %']\n",
    "price_3 = rating_vs_num[rating_vs_num['Price 1-4']==3]['Rating %']\n",
    "price_4 = rating_vs_num[rating_vs_num['Price 1-4']==4]['Rating %']\n",
    "\n",
    "stat,p = stats.f_oneway(price_1, price_2, price_3, price_4)\n",
    "p"
   ]
  },
  {
   "cell_type": "markdown",
   "metadata": {},
   "source": [
    "H<sub>0</sub> = no significance in the means\n",
    "\n",
    "The p score is <0.05 suggesting that price may have an affect on rating."
   ]
  },
  {
   "cell_type": "code",
   "execution_count": 61,
   "metadata": {},
   "outputs": [
    {
     "data": {
      "text/plain": [
       "2.0    1426\n",
       "1.0     661\n",
       "3.0     245\n",
       "4.0      53\n",
       "Name: Price 1-4, dtype: int64"
      ]
     },
     "execution_count": 61,
     "metadata": {},
     "output_type": "execute_result"
    }
   ],
   "source": [
    "rating_vs_num['Price 1-4'].value_counts()"
   ]
  },
  {
   "cell_type": "code",
   "execution_count": 62,
   "metadata": {},
   "outputs": [
    {
     "data": {
      "image/png": "[encoded data removed]",
      "text/plain": [
       "<Figure size 1000x600 with 1 Axes>"
      ]
     },
     "metadata": {},
     "output_type": "display_data"
    }
   ],
   "source": [
    "bins = [0, 10, 20, 30, 40, 50, 60, 70, 80, 90, 100]\n",
    "labels = ['0-10', '10-20', '20-30', '30-40', '40-50', '50-60', '60-70', '70-80', '80-90', '90-100']\n",
    "\n",
    "# Create a new DataFrame by copying the relevant data\n",
    "rating_vs_num_copy = rating_vs_num.copy()\n",
    "\n",
    "# Set values using direct column assignment to avoid warning\n",
    "rating_vs_num_copy['Rating % Range'] = pd.cut(rating_vs_num_copy['Rating %'], bins=bins, labels=labels, include_lowest=True)\n",
    "\n",
    "# Group and count\n",
    "price_counts = rating_vs_num_copy.groupby(['Rating % Range', 'Price 1-4']).size().reset_index(name='Count')\n",
    "\n",
    "# Create the bar plot\n",
    "plt.figure(figsize=(10, 6))\n",
    "sns.barplot(data=price_counts, x='Rating % Range', y='Count', hue='Price 1-4')\n",
    "plt.xlabel('Rating Ranges')\n",
    "plt.ylabel('Count')\n",
    "plt.title('Counts of Price Categories within Rating % Ranges')\n",
    "plt.legend(title='Price 1-4')\n",
    "plt.show()"
   ]
  },
  {
   "cell_type": "markdown",
   "metadata": {},
   "source": [
    "This chart shows breakdown of the number of ratings in a specific range with regards to what venue price range they were allocated to. While it is not very important to be able to compare the counts in each price category to each other, as we can see that there are many more venues in the price 2 range, it is interesting to be able to compare the price categories to themselves across the percent ranges."
   ]
  },
  {
   "cell_type": "markdown",
   "metadata": {},
   "source": [
    "### Number of Bikes in relation to Distance"
   ]
  },
  {
   "cell_type": "code",
   "execution_count": 63,
   "metadata": {},
   "outputs": [
    {
     "data": {
      "text/html": [
       "<div>\n",
       "<style scoped>\n",
       "    .dataframe tbody tr th:only-of-type {\n",
       "        vertical-align: middle;\n",
       "    }\n",
       "\n",
       "    .dataframe tbody tr th {\n",
       "        vertical-align: top;\n",
       "    }\n",
       "\n",
       "    .dataframe thead th {\n",
       "        text-align: right;\n",
       "    }\n",
       "</style>\n",
       "<table border=\"1\" class=\"dataframe\">\n",
       "  <thead>\n",
       "    <tr style=\"text-align: right;\">\n",
       "      <th></th>\n",
       "      <th>Name</th>\n",
       "      <th>Category</th>\n",
       "      <th>Distance (m)</th>\n",
       "      <th>Rating</th>\n",
       "      <th>Rating %</th>\n",
       "      <th>Number of Reviews</th>\n",
       "      <th>Price 1-4</th>\n",
       "      <th>Station Id</th>\n",
       "      <th>Station Name</th>\n",
       "      <th>Latitude</th>\n",
       "      <th>Longitude</th>\n",
       "      <th>Number of Bikes</th>\n",
       "      <th>Site</th>\n",
       "    </tr>\n",
       "  </thead>\n",
       "  <tbody>\n",
       "    <tr>\n",
       "      <th>0</th>\n",
       "      <td>Gusto 101</td>\n",
       "      <td>Italian</td>\n",
       "      <td>673.3</td>\n",
       "      <td>4.0</td>\n",
       "      <td>80.0</td>\n",
       "      <td>1151.0</td>\n",
       "      <td>2.0</td>\n",
       "      <td>7000</td>\n",
       "      <td>Fort York  Blvd / Capreol Ct</td>\n",
       "      <td>43.639832</td>\n",
       "      <td>-79.395954</td>\n",
       "      <td>6</td>\n",
       "      <td>yelp</td>\n",
       "    </tr>\n",
       "  </tbody>\n",
       "</table>\n",
       "</div>"
      ],
      "text/plain": [
       "        Name Category  Distance (m)  Rating  Rating %  Number of Reviews  \\\n",
       "0  Gusto 101  Italian         673.3     4.0      80.0             1151.0   \n",
       "\n",
       "   Price 1-4  Station Id                  Station Name   Latitude  Longitude  \\\n",
       "0        2.0        7000  Fort York  Blvd / Capreol Ct  43.639832 -79.395954   \n",
       "\n",
       "   Number of Bikes  Site  \n",
       "0                6  yelp  "
      ]
     },
     "execution_count": 63,
     "metadata": {},
     "output_type": "execute_result"
    }
   ],
   "source": [
    "yelp_fs_citybike_df.head(1)"
   ]
  },
  {
   "cell_type": "code",
   "execution_count": 71,
   "metadata": {},
   "outputs": [],
   "source": [
    "#creating df with unique venues by station id\n",
    "\n",
    "unique_venue_by_station = yelp_fs_citybike_df[['Name', 'Category','Distance (m)', 'Rating %', 'Price 1-4', 'Station Id', 'Station Name','Number of Bikes' ]].copy()"
   ]
  },
  {
   "cell_type": "code",
   "execution_count": 72,
   "metadata": {},
   "outputs": [],
   "source": [
    "unique_venue_by_station = unique_venue_by_station.drop_duplicates(subset=['Name', 'Station Id'], keep='first')"
   ]
  },
  {
   "cell_type": "code",
   "execution_count": 73,
   "metadata": {},
   "outputs": [
    {
     "data": {
      "text/html": [
       "<div>\n",
       "<style scoped>\n",
       "    .dataframe tbody tr th:only-of-type {\n",
       "        vertical-align: middle;\n",
       "    }\n",
       "\n",
       "    .dataframe tbody tr th {\n",
       "        vertical-align: top;\n",
       "    }\n",
       "\n",
       "    .dataframe thead th {\n",
       "        text-align: right;\n",
       "    }\n",
       "</style>\n",
       "<table border=\"1\" class=\"dataframe\">\n",
       "  <thead>\n",
       "    <tr style=\"text-align: right;\">\n",
       "      <th></th>\n",
       "      <th>Name</th>\n",
       "      <th>Category</th>\n",
       "      <th>Distance (m)</th>\n",
       "      <th>Rating %</th>\n",
       "      <th>Price 1-4</th>\n",
       "      <th>Station Id</th>\n",
       "      <th>Station Name</th>\n",
       "      <th>Number of Bikes</th>\n",
       "    </tr>\n",
       "  </thead>\n",
       "  <tbody>\n",
       "    <tr>\n",
       "      <th>0</th>\n",
       "      <td>Gusto 101</td>\n",
       "      <td>Italian</td>\n",
       "      <td>673.3</td>\n",
       "      <td>80.0</td>\n",
       "      <td>2.0</td>\n",
       "      <td>7000</td>\n",
       "      <td>Fort York  Blvd / Capreol Ct</td>\n",
       "      <td>6</td>\n",
       "    </tr>\n",
       "  </tbody>\n",
       "</table>\n",
       "</div>"
      ],
      "text/plain": [
       "        Name Category  Distance (m)  Rating %  Price 1-4  Station Id  \\\n",
       "0  Gusto 101  Italian         673.3      80.0        2.0        7000   \n",
       "\n",
       "                   Station Name  Number of Bikes  \n",
       "0  Fort York  Blvd / Capreol Ct                6  "
      ]
     },
     "execution_count": 73,
     "metadata": {},
     "output_type": "execute_result"
    }
   ],
   "source": [
    "unique_venue_by_station.head(1)"
   ]
  },
  {
   "cell_type": "markdown",
   "metadata": {},
   "source": [
    "Looking at the top rated categories per station"
   ]
  },
  {
   "cell_type": "code",
   "execution_count": 74,
   "metadata": {},
   "outputs": [],
   "source": [
    "#List of unique station ids\n",
    "\n",
    "stn_id = unique_venue_by_station['Station Id']\n",
    "stn_id = stn_id.unique()"
   ]
  },
  {
   "cell_type": "code",
   "execution_count": 75,
   "metadata": {},
   "outputs": [],
   "source": [
    "#collecting the top 3 rated venue categories per station\n",
    "\n",
    "top_rated_per_stn = {}\n",
    "\n",
    "for num in stn_id:\n",
    "    stn_data = unique_venue_by_station[unique_venue_by_station['Station Id'] == num]\n",
    "    top_rates = stn_data.sort_values(by='Rating %', ascending=False).head(3)\n",
    "    top_rated_per_stn[num] = top_rates[['Rating %', 'Name', 'Category']]"
   ]
  },
  {
   "cell_type": "code",
   "execution_count": 76,
   "metadata": {},
   "outputs": [],
   "source": [
    "#df with the top 3 ratings per station\n",
    "\n",
    "data_list = []\n",
    "for station_id, top_ratings in top_rated_per_stn.items():\n",
    "    for _, row in top_ratings.iterrows():\n",
    "        data_list.append({\n",
    "            'Station Id': station_id,\n",
    "            'Rating %': row['Rating %'],\n",
    "            'Name': row['Name'],\n",
    "            'Category': row['Category']\n",
    "        })\n",
    "\n",
    "top_ratings_df = pd.DataFrame(data_list)"
   ]
  },
  {
   "cell_type": "code",
   "execution_count": 77,
   "metadata": {},
   "outputs": [
    {
     "data": {
      "text/html": [
       "<div>\n",
       "<style scoped>\n",
       "    .dataframe tbody tr th:only-of-type {\n",
       "        vertical-align: middle;\n",
       "    }\n",
       "\n",
       "    .dataframe tbody tr th {\n",
       "        vertical-align: top;\n",
       "    }\n",
       "\n",
       "    .dataframe thead th {\n",
       "        text-align: right;\n",
       "    }\n",
       "</style>\n",
       "<table border=\"1\" class=\"dataframe\">\n",
       "  <thead>\n",
       "    <tr style=\"text-align: right;\">\n",
       "      <th></th>\n",
       "      <th>Station Id</th>\n",
       "      <th>Rating %</th>\n",
       "      <th>Name</th>\n",
       "      <th>Category</th>\n",
       "    </tr>\n",
       "  </thead>\n",
       "  <tbody>\n",
       "    <tr>\n",
       "      <th>0</th>\n",
       "      <td>7000</td>\n",
       "      <td>93.0</td>\n",
       "      <td>Steam Whistle Brewing</td>\n",
       "      <td>Brewery</td>\n",
       "    </tr>\n",
       "    <tr>\n",
       "      <th>1</th>\n",
       "      <td>7000</td>\n",
       "      <td>93.0</td>\n",
       "      <td>SOMA chocolatemaker</td>\n",
       "      <td>Peruvian Restaurant</td>\n",
       "    </tr>\n",
       "    <tr>\n",
       "      <th>2</th>\n",
       "      <td>7000</td>\n",
       "      <td>92.0</td>\n",
       "      <td>Sky Pod</td>\n",
       "      <td>Scenic Lookout</td>\n",
       "    </tr>\n",
       "    <tr>\n",
       "      <th>3</th>\n",
       "      <td>7001</td>\n",
       "      <td>100.0</td>\n",
       "      <td>Gurume Sushi</td>\n",
       "      <td>Sushi Bars</td>\n",
       "    </tr>\n",
       "    <tr>\n",
       "      <th>4</th>\n",
       "      <td>7001</td>\n",
       "      <td>93.0</td>\n",
       "      <td>Hailed Coffee</td>\n",
       "      <td>Coffee Shop</td>\n",
       "    </tr>\n",
       "  </tbody>\n",
       "</table>\n",
       "</div>"
      ],
      "text/plain": [
       "   Station Id  Rating %                   Name             Category\n",
       "0        7000      93.0  Steam Whistle Brewing              Brewery\n",
       "1        7000      93.0    SOMA chocolatemaker  Peruvian Restaurant\n",
       "2        7000      92.0                Sky Pod       Scenic Lookout\n",
       "3        7001     100.0           Gurume Sushi           Sushi Bars\n",
       "4        7001      93.0          Hailed Coffee          Coffee Shop"
      ]
     },
     "execution_count": 77,
     "metadata": {},
     "output_type": "execute_result"
    }
   ],
   "source": [
    "top_ratings_df.head()"
   ]
  },
  {
   "cell_type": "code",
   "execution_count": 78,
   "metadata": {},
   "outputs": [
    {
     "data": {
      "text/plain": [
       "Park          113\n",
       "Cafes          89\n",
       "Pizza          77\n",
       "Indian         73\n",
       "Sushi Bars     72\n",
       "Name: Category, dtype: int64"
      ]
     },
     "execution_count": 78,
     "metadata": {},
     "output_type": "execute_result"
    }
   ],
   "source": [
    "category_counts = top_ratings_df['Category'].value_counts()\n",
    "category_counts.head(5)"
   ]
  },
  {
   "cell_type": "markdown",
   "metadata": {},
   "source": [
    "# Database"
   ]
  },
  {
   "cell_type": "markdown",
   "metadata": {},
   "source": [
    "#### Put all your results in an SQLite3 database (remember, SQLite stores its databases as files in your local machine - make sure to create your database in your project's data/ directory!)"
   ]
  },
  {
   "cell_type": "code",
   "execution_count": 82,
   "metadata": {},
   "outputs": [],
   "source": [
    "import pandas as pd\n",
    "import sqlite3\n",
    "from sqlite3 import Error\n",
    "from sqlite3 import connect"
   ]
  },
  {
   "cell_type": "code",
   "execution_count": 83,
   "metadata": {},
   "outputs": [],
   "source": [
    "df = pd.read_csv(r'../data/unique_venue_by_stn.csv')"
   ]
  },
  {
   "cell_type": "code",
   "execution_count": 84,
   "metadata": {},
   "outputs": [],
   "source": [
    "conn = connect(r\"../data/yelp_foursquare_citybikes.db\")\n",
    "curr = conn.cursor()"
   ]
  },
  {
   "cell_type": "code",
   "execution_count": 85,
   "metadata": {},
   "outputs": [],
   "source": [
    "curr.execute('''\n",
    "    CREATE TABLE IF NOT EXISTS yelp_foursquare_citybikes (\n",
    "        id INTEGER PRIMARY KEY AUTOINCREMENT,\n",
    "        name TEXT NOT NULL,\n",
    "        category TEXT,\n",
    "        distance FLOAT,\n",
    "        rating INTEGER,\n",
    "        rating_perc INTEGER,\n",
    "        number_of_reviews INTEGER, -- Corrected the typo in the column type\n",
    "        price_1_4 INTEGER,\n",
    "        station_id INTEGER,\n",
    "        station_name TEXT,\n",
    "        latitude FLOAT,\n",
    "        longitude FLOAT,\n",
    "        number_of_bikes INTEGER,\n",
    "        site TEXT\n",
    "    )\n",
    "''')\n",
    "\n",
    "conn.commit()"
   ]
  },
  {
   "cell_type": "code",
   "execution_count": 86,
   "metadata": {},
   "outputs": [
    {
     "data": {
      "text/plain": [
       "48894"
      ]
     },
     "execution_count": 86,
     "metadata": {},
     "output_type": "execute_result"
    }
   ],
   "source": [
    "df.to_sql('yelp_foursquare_citybikes', conn, if_exists='replace')"
   ]
  },
  {
   "cell_type": "markdown",
   "metadata": {},
   "source": [
    "### Look at the data before and after the join to validate your data."
   ]
  },
  {
   "cell_type": "code",
   "execution_count": 87,
   "metadata": {},
   "outputs": [
    {
     "data": {
      "text/html": [
       "<div>\n",
       "<style scoped>\n",
       "    .dataframe tbody tr th:only-of-type {\n",
       "        vertical-align: middle;\n",
       "    }\n",
       "\n",
       "    .dataframe tbody tr th {\n",
       "        vertical-align: top;\n",
       "    }\n",
       "\n",
       "    .dataframe thead th {\n",
       "        text-align: right;\n",
       "    }\n",
       "</style>\n",
       "<table border=\"1\" class=\"dataframe\">\n",
       "  <thead>\n",
       "    <tr style=\"text-align: right;\">\n",
       "      <th></th>\n",
       "      <th>Name</th>\n",
       "      <th>Category</th>\n",
       "      <th>Distance</th>\n",
       "      <th>Rating %</th>\n",
       "      <th>Price 1-4</th>\n",
       "      <th>Station Id</th>\n",
       "      <th>Station Name</th>\n",
       "      <th>Number of Bikes</th>\n",
       "    </tr>\n",
       "  </thead>\n",
       "  <tbody>\n",
       "    <tr>\n",
       "      <th>0</th>\n",
       "      <td>Gusto 101</td>\n",
       "      <td>Italian</td>\n",
       "      <td>673.3</td>\n",
       "      <td>80.0</td>\n",
       "      <td>2.0</td>\n",
       "      <td>7000</td>\n",
       "      <td>Fort York  Blvd / Capreol Ct</td>\n",
       "      <td>6</td>\n",
       "    </tr>\n",
       "    <tr>\n",
       "      <th>1</th>\n",
       "      <td>Hunters Landing</td>\n",
       "      <td>Comfort Food</td>\n",
       "      <td>60.9</td>\n",
       "      <td>70.0</td>\n",
       "      <td>2.0</td>\n",
       "      <td>7000</td>\n",
       "      <td>Fort York  Blvd / Capreol Ct</td>\n",
       "      <td>6</td>\n",
       "    </tr>\n",
       "    <tr>\n",
       "      <th>2</th>\n",
       "      <td>Mira</td>\n",
       "      <td>Peruvian</td>\n",
       "      <td>472.0</td>\n",
       "      <td>90.0</td>\n",
       "      <td>2.0</td>\n",
       "      <td>7000</td>\n",
       "      <td>Fort York  Blvd / Capreol Ct</td>\n",
       "      <td>6</td>\n",
       "    </tr>\n",
       "    <tr>\n",
       "      <th>3</th>\n",
       "      <td>Sansotei Ramen</td>\n",
       "      <td>Ramen</td>\n",
       "      <td>202.6</td>\n",
       "      <td>80.0</td>\n",
       "      <td>2.0</td>\n",
       "      <td>7000</td>\n",
       "      <td>Fort York  Blvd / Capreol Ct</td>\n",
       "      <td>6</td>\n",
       "    </tr>\n",
       "    <tr>\n",
       "      <th>4</th>\n",
       "      <td>Jacobs &amp; Co. Steakhouse</td>\n",
       "      <td>Steakhouses</td>\n",
       "      <td>641.1</td>\n",
       "      <td>90.0</td>\n",
       "      <td>4.0</td>\n",
       "      <td>7000</td>\n",
       "      <td>Fort York  Blvd / Capreol Ct</td>\n",
       "      <td>6</td>\n",
       "    </tr>\n",
       "    <tr>\n",
       "      <th>5</th>\n",
       "      <td>Le Sélect Bistro</td>\n",
       "      <td>French</td>\n",
       "      <td>458.7</td>\n",
       "      <td>80.0</td>\n",
       "      <td>3.0</td>\n",
       "      <td>7000</td>\n",
       "      <td>Fort York  Blvd / Capreol Ct</td>\n",
       "      <td>6</td>\n",
       "    </tr>\n",
       "    <tr>\n",
       "      <th>6</th>\n",
       "      <td>Aloette</td>\n",
       "      <td>French</td>\n",
       "      <td>970.3</td>\n",
       "      <td>90.0</td>\n",
       "      <td>3.0</td>\n",
       "      <td>7000</td>\n",
       "      <td>Fort York  Blvd / Capreol Ct</td>\n",
       "      <td>6</td>\n",
       "    </tr>\n",
       "    <tr>\n",
       "      <th>7</th>\n",
       "      <td>Chubby's Jamaican Kitchen</td>\n",
       "      <td>Caribbean</td>\n",
       "      <td>722.9</td>\n",
       "      <td>80.0</td>\n",
       "      <td>2.0</td>\n",
       "      <td>7000</td>\n",
       "      <td>Fort York  Blvd / Capreol Ct</td>\n",
       "      <td>6</td>\n",
       "    </tr>\n",
       "    <tr>\n",
       "      <th>8</th>\n",
       "      <td>Rodney's Oyster House</td>\n",
       "      <td>Seafood</td>\n",
       "      <td>573.4</td>\n",
       "      <td>80.0</td>\n",
       "      <td>3.0</td>\n",
       "      <td>7000</td>\n",
       "      <td>Fort York  Blvd / Capreol Ct</td>\n",
       "      <td>6</td>\n",
       "    </tr>\n",
       "    <tr>\n",
       "      <th>9</th>\n",
       "      <td>Pizzeria Libretto</td>\n",
       "      <td>Pizza</td>\n",
       "      <td>534.8</td>\n",
       "      <td>80.0</td>\n",
       "      <td>2.0</td>\n",
       "      <td>7000</td>\n",
       "      <td>Fort York  Blvd / Capreol Ct</td>\n",
       "      <td>6</td>\n",
       "    </tr>\n",
       "  </tbody>\n",
       "</table>\n",
       "</div>"
      ],
      "text/plain": [
       "                        Name      Category  Distance  Rating %  Price 1-4  \\\n",
       "0                  Gusto 101       Italian     673.3      80.0        2.0   \n",
       "1            Hunters Landing  Comfort Food      60.9      70.0        2.0   \n",
       "2                       Mira      Peruvian     472.0      90.0        2.0   \n",
       "3             Sansotei Ramen         Ramen     202.6      80.0        2.0   \n",
       "4    Jacobs & Co. Steakhouse   Steakhouses     641.1      90.0        4.0   \n",
       "5           Le Sélect Bistro        French     458.7      80.0        3.0   \n",
       "6                    Aloette        French     970.3      90.0        3.0   \n",
       "7  Chubby's Jamaican Kitchen     Caribbean     722.9      80.0        2.0   \n",
       "8      Rodney's Oyster House       Seafood     573.4      80.0        3.0   \n",
       "9          Pizzeria Libretto         Pizza     534.8      80.0        2.0   \n",
       "\n",
       "   Station Id                  Station Name  Number of Bikes  \n",
       "0        7000  Fort York  Blvd / Capreol Ct                6  \n",
       "1        7000  Fort York  Blvd / Capreol Ct                6  \n",
       "2        7000  Fort York  Blvd / Capreol Ct                6  \n",
       "3        7000  Fort York  Blvd / Capreol Ct                6  \n",
       "4        7000  Fort York  Blvd / Capreol Ct                6  \n",
       "5        7000  Fort York  Blvd / Capreol Ct                6  \n",
       "6        7000  Fort York  Blvd / Capreol Ct                6  \n",
       "7        7000  Fort York  Blvd / Capreol Ct                6  \n",
       "8        7000  Fort York  Blvd / Capreol Ct                6  \n",
       "9        7000  Fort York  Blvd / Capreol Ct                6  "
      ]
     },
     "execution_count": 87,
     "metadata": {},
     "output_type": "execute_result"
    }
   ],
   "source": [
    "df.head(10)"
   ]
  },
  {
   "cell_type": "code",
   "execution_count": 88,
   "metadata": {},
   "outputs": [
    {
     "name": "stdout",
     "output_type": "stream",
     "text": [
      "(0, 'Gusto 101', 'Italian', 673.3, 80.0, 2.0, 7000, 'Fort York  Blvd / Capreol Ct', 6)\n",
      "(1, 'Hunters Landing', 'Comfort Food', 60.9, 70.0, 2.0, 7000, 'Fort York  Blvd / Capreol Ct', 6)\n",
      "(2, 'Mira', 'Peruvian', 472.0, 90.0, 2.0, 7000, 'Fort York  Blvd / Capreol Ct', 6)\n",
      "(3, 'Sansotei Ramen', 'Ramen', 202.6, 80.0, 2.0, 7000, 'Fort York  Blvd / Capreol Ct', 6)\n",
      "(4, 'Jacobs & Co. Steakhouse', 'Steakhouses', 641.1, 90.0, 4.0, 7000, 'Fort York  Blvd / Capreol Ct', 6)\n",
      "(5, 'Le Sélect Bistro', 'French', 458.7, 80.0, 3.0, 7000, 'Fort York  Blvd / Capreol Ct', 6)\n",
      "(6, 'Aloette', 'French', 970.3, 90.0, 3.0, 7000, 'Fort York  Blvd / Capreol Ct', 6)\n",
      "(7, \"Chubby's Jamaican Kitchen\", 'Caribbean', 722.9, 80.0, 2.0, 7000, 'Fort York  Blvd / Capreol Ct', 6)\n",
      "(8, \"Rodney's Oyster House\", 'Seafood', 573.4, 80.0, 3.0, 7000, 'Fort York  Blvd / Capreol Ct', 6)\n",
      "(9, 'Pizzeria Libretto', 'Pizza', 534.8, 80.0, 2.0, 7000, 'Fort York  Blvd / Capreol Ct', 6)\n"
     ]
    }
   ],
   "source": [
    "curr.execute('''SELECT * FROM yelp_foursquare_citybikes''')\n",
    "\n",
    "limit = 10  # Change this to the desired limit\n",
    "\n",
    "for i, record in enumerate(curr.fetchall()):\n",
    "    print(record)\n",
    "    if i + 1 >= limit:\n",
    "        break"
   ]
  },
  {
   "cell_type": "code",
   "execution_count": null,
   "metadata": {},
   "outputs": [],
   "source": []
  }
 ],
 "metadata": {
  "kernelspec": {
   "display_name": "LHL_python_environment",
   "language": "python",
   "name": "lhl_python_environment"
  },
  "language_info": {
   "codemirror_mode": {
    "name": "ipython",
    "version": 3
   },
   "file_extension": ".py",
   "mimetype": "text/x-python",
   "name": "python",
   "nbconvert_exporter": "python",
   "pygments_lexer": "ipython3",
   "version": "3.9.17"
  }
 },
 "nbformat": 4,
 "nbformat_minor": 4
}

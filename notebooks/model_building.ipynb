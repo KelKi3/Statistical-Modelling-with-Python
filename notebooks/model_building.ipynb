{
 "cells": [
  {
   "cell_type": "markdown",
   "metadata": {},
   "source": [
    "# Model Building"
   ]
  },
  {
   "cell_type": "code",
   "execution_count": 69,
   "metadata": {},
   "outputs": [],
   "source": [
    "import statsmodels.api as sm\n",
    "import pandas as pd\n",
    "import scipy.stats\n",
    "import seaborn as sns\n",
    "import matplotlib.pyplot as plt\n",
    "from sklearn.preprocessing import MinMaxScaler"
   ]
  },
  {
   "cell_type": "code",
   "execution_count": 15,
   "metadata": {},
   "outputs": [],
   "source": [
    "#importing csv files from previous notebooks\n",
    "\n",
    "yelp_fs_citybike_df = pd.read_csv(r'../data\\yelp_fs_citybike_df.csv')\n",
    "unique_ven_by_stn = pd.read_csv(r'../data\\unique_venue_by_station.csv')"
   ]
  },
  {
   "cell_type": "markdown",
   "metadata": {},
   "source": [
    "## Creating the different dataframes that I used for my models"
   ]
  },
  {
   "cell_type": "code",
   "execution_count": 20,
   "metadata": {},
   "outputs": [],
   "source": [
    "#creating a df with the average distance of the venues to the bike station.\n",
    "\n",
    "average_distance_by_area = unique_ven_by_stn.groupby('Station Id')['Distance (m)'].mean()\n",
    "average_distance_by_stn = pd.DataFrame({\n",
    "    'Station Id': average_distance_by_area.index,\n",
    "    'Average Distance (m)': average_distance_by_area.values})"
   ]
  },
  {
   "cell_type": "code",
   "execution_count": 21,
   "metadata": {},
   "outputs": [],
   "source": [
    "average_distance_by_stn = average_distance_by_stn.merge(unique_ven_by_stn[['Station Id', 'Number of Bikes']],\n",
    "    on='Station Id', how='left')"
   ]
  },
  {
   "cell_type": "code",
   "execution_count": 22,
   "metadata": {},
   "outputs": [
    {
     "data": {
      "text/html": [
       "<div>\n",
       "<style scoped>\n",
       "    .dataframe tbody tr th:only-of-type {\n",
       "        vertical-align: middle;\n",
       "    }\n",
       "\n",
       "    .dataframe tbody tr th {\n",
       "        vertical-align: top;\n",
       "    }\n",
       "\n",
       "    .dataframe thead th {\n",
       "        text-align: right;\n",
       "    }\n",
       "</style>\n",
       "<table border=\"1\" class=\"dataframe\">\n",
       "  <thead>\n",
       "    <tr style=\"text-align: right;\">\n",
       "      <th></th>\n",
       "      <th>Station Id</th>\n",
       "      <th>Average Distance (m)</th>\n",
       "      <th>Number of Bikes</th>\n",
       "    </tr>\n",
       "  </thead>\n",
       "  <tbody>\n",
       "    <tr>\n",
       "      <th>0</th>\n",
       "      <td>7000</td>\n",
       "      <td>638.421951</td>\n",
       "      <td>6</td>\n",
       "    </tr>\n",
       "  </tbody>\n",
       "</table>\n",
       "</div>"
      ],
      "text/plain": [
       "   Station Id  Average Distance (m)  Number of Bikes\n",
       "0        7000            638.421951                6"
      ]
     },
     "execution_count": 22,
     "metadata": {},
     "output_type": "execute_result"
    }
   ],
   "source": [
    "average_distance_by_stn = average_distance_by_stn.groupby('Station Id').head(1)\n",
    "average_distance_by_stn.head(1)"
   ]
  },
  {
   "cell_type": "code",
   "execution_count": 127,
   "metadata": {},
   "outputs": [
    {
     "data": {
      "text/html": [
       "<div>\n",
       "<style scoped>\n",
       "    .dataframe tbody tr th:only-of-type {\n",
       "        vertical-align: middle;\n",
       "    }\n",
       "\n",
       "    .dataframe tbody tr th {\n",
       "        vertical-align: top;\n",
       "    }\n",
       "\n",
       "    .dataframe thead th {\n",
       "        text-align: right;\n",
       "    }\n",
       "</style>\n",
       "<table border=\"1\" class=\"dataframe\">\n",
       "  <thead>\n",
       "    <tr style=\"text-align: right;\">\n",
       "      <th></th>\n",
       "      <th>Name</th>\n",
       "      <th>Category</th>\n",
       "      <th>Distance (m)</th>\n",
       "      <th>Rating %</th>\n",
       "      <th>Station Id</th>\n",
       "      <th>Station Name</th>\n",
       "      <th>Number of Bikes</th>\n",
       "    </tr>\n",
       "  </thead>\n",
       "  <tbody>\n",
       "    <tr>\n",
       "      <th>0</th>\n",
       "      <td>Gusto 101</td>\n",
       "      <td>Italian</td>\n",
       "      <td>673.3</td>\n",
       "      <td>80.0</td>\n",
       "      <td>7000</td>\n",
       "      <td>Fort York  Blvd / Capreol Ct</td>\n",
       "      <td>6</td>\n",
       "    </tr>\n",
       "  </tbody>\n",
       "</table>\n",
       "</div>"
      ],
      "text/plain": [
       "        Name Category  Distance (m)  Rating %  Station Id  \\\n",
       "0  Gusto 101  Italian         673.3      80.0        7000   \n",
       "\n",
       "                   Station Name  Number of Bikes  \n",
       "0  Fort York  Blvd / Capreol Ct                6  "
      ]
     },
     "execution_count": 127,
     "metadata": {},
     "output_type": "execute_result"
    }
   ],
   "source": [
    "#Dealing with nans in the unique_ven_by_stn df\n",
    "\n",
    "unique_ven_by_stn_nn = unique_ven_by_stn.drop(columns=['Price 1-4'])\n",
    "unique_ven_by_stn_nn=unique_ven_by_stn_nn.dropna(subset=['Rating %'])\n",
    "unique_ven_by_stn_nn.head(1)"
   ]
  },
  {
   "cell_type": "code",
   "execution_count": 27,
   "metadata": {},
   "outputs": [],
   "source": [
    "#Creating Average Rating column\n",
    "\n",
    "average_rating_by_area = unique_ven_by_stn_nn.groupby('Station Id')['Rating %'].mean()\n",
    "rating_by_area = pd.DataFrame({\n",
    "    'Station Id': average_rating_by_area.index,\n",
    "    'Average Rating %': average_rating_by_area.values})"
   ]
  },
  {
   "cell_type": "code",
   "execution_count": 28,
   "metadata": {},
   "outputs": [],
   "source": [
    "rating_by_area = rating_by_area.merge(unique_ven_by_stn_nn[['Station Id', 'Station Name', 'Number of Bikes']],\n",
    "    on='Station Id', how='left')\n",
    "rating_by_area = rating_by_area.groupby('Station Id').head(1)"
   ]
  },
  {
   "cell_type": "code",
   "execution_count": 31,
   "metadata": {},
   "outputs": [],
   "source": [
    "#creating df with both average distance and average ratings\n",
    "\n",
    "average_rating_distance = pd.merge(rating_by_area, average_distance_by_stn, on='Station Id')\n",
    "\n",
    "columns_drop = ['Number of Bikes_y']\n",
    "average_rating_distance = average_rating_distance.drop(columns_drop, axis=1)"
   ]
  },
  {
   "cell_type": "code",
   "execution_count": 128,
   "metadata": {},
   "outputs": [
    {
     "data": {
      "text/html": [
       "<div>\n",
       "<style scoped>\n",
       "    .dataframe tbody tr th:only-of-type {\n",
       "        vertical-align: middle;\n",
       "    }\n",
       "\n",
       "    .dataframe tbody tr th {\n",
       "        vertical-align: top;\n",
       "    }\n",
       "\n",
       "    .dataframe thead th {\n",
       "        text-align: right;\n",
       "    }\n",
       "</style>\n",
       "<table border=\"1\" class=\"dataframe\">\n",
       "  <thead>\n",
       "    <tr style=\"text-align: right;\">\n",
       "      <th></th>\n",
       "      <th>Station Id</th>\n",
       "      <th>Average Rating %</th>\n",
       "      <th>Station Name</th>\n",
       "      <th>Number of Bikes</th>\n",
       "      <th>Average Distance (m)</th>\n",
       "    </tr>\n",
       "  </thead>\n",
       "  <tbody>\n",
       "    <tr>\n",
       "      <th>0</th>\n",
       "      <td>7000</td>\n",
       "      <td>81.5</td>\n",
       "      <td>Fort York  Blvd / Capreol Ct</td>\n",
       "      <td>6</td>\n",
       "      <td>638.421951</td>\n",
       "    </tr>\n",
       "  </tbody>\n",
       "</table>\n",
       "</div>"
      ],
      "text/plain": [
       "   Station Id  Average Rating %                  Station Name  \\\n",
       "0        7000              81.5  Fort York  Blvd / Capreol Ct   \n",
       "\n",
       "   Number of Bikes  Average Distance (m)  \n",
       "0                6            638.421951  "
      ]
     },
     "execution_count": 128,
     "metadata": {},
     "output_type": "execute_result"
    }
   ],
   "source": [
    "average_rating_distance.columns = ['Station Id','Average Rating %', 'Station Name', 'Number of Bikes', 'Average Distance (m)']\n",
    "average_rating_distance.head(1)"
   ]
  },
  {
   "cell_type": "markdown",
   "metadata": {},
   "source": [
    "### Build a regression model."
   ]
  },
  {
   "cell_type": "markdown",
   "metadata": {},
   "source": [
    "I created many models throughout this process. This first one was the most successful and the one I will be focussing my analysis on. The other models are included after as well, for interest."
   ]
  },
  {
   "cell_type": "markdown",
   "metadata": {},
   "source": [
    "**Multivariate - Number of Bikes to Distance and Rating**"
   ]
  },
  {
   "cell_type": "code",
   "execution_count": 35,
   "metadata": {},
   "outputs": [
    {
     "data": {
      "text/html": [
       "<div>\n",
       "<style scoped>\n",
       "    .dataframe tbody tr th:only-of-type {\n",
       "        vertical-align: middle;\n",
       "    }\n",
       "\n",
       "    .dataframe tbody tr th {\n",
       "        vertical-align: top;\n",
       "    }\n",
       "\n",
       "    .dataframe thead th {\n",
       "        text-align: right;\n",
       "    }\n",
       "</style>\n",
       "<table border=\"1\" class=\"dataframe\">\n",
       "  <thead>\n",
       "    <tr style=\"text-align: right;\">\n",
       "      <th></th>\n",
       "      <th>Station Id</th>\n",
       "      <th>Average Rating %</th>\n",
       "      <th>Number of Bikes</th>\n",
       "      <th>Average Distance (m)</th>\n",
       "    </tr>\n",
       "  </thead>\n",
       "  <tbody>\n",
       "    <tr>\n",
       "      <th>Station Id</th>\n",
       "      <td>1.000000</td>\n",
       "      <td>-0.428604</td>\n",
       "      <td>-0.089310</td>\n",
       "      <td>0.173002</td>\n",
       "    </tr>\n",
       "    <tr>\n",
       "      <th>Average Rating %</th>\n",
       "      <td>-0.428604</td>\n",
       "      <td>1.000000</td>\n",
       "      <td>0.149959</td>\n",
       "      <td>-0.181359</td>\n",
       "    </tr>\n",
       "    <tr>\n",
       "      <th>Number of Bikes</th>\n",
       "      <td>-0.089310</td>\n",
       "      <td>0.149959</td>\n",
       "      <td>1.000000</td>\n",
       "      <td>-0.126602</td>\n",
       "    </tr>\n",
       "    <tr>\n",
       "      <th>Average Distance (m)</th>\n",
       "      <td>0.173002</td>\n",
       "      <td>-0.181359</td>\n",
       "      <td>-0.126602</td>\n",
       "      <td>1.000000</td>\n",
       "    </tr>\n",
       "  </tbody>\n",
       "</table>\n",
       "</div>"
      ],
      "text/plain": [
       "                      Station Id  Average Rating %  Number of Bikes  \\\n",
       "Station Id              1.000000         -0.428604        -0.089310   \n",
       "Average Rating %       -0.428604          1.000000         0.149959   \n",
       "Number of Bikes        -0.089310          0.149959         1.000000   \n",
       "Average Distance (m)    0.173002         -0.181359        -0.126602   \n",
       "\n",
       "                      Average Distance (m)  \n",
       "Station Id                        0.173002  \n",
       "Average Rating %                 -0.181359  \n",
       "Number of Bikes                  -0.126602  \n",
       "Average Distance (m)              1.000000  "
      ]
     },
     "execution_count": 35,
     "metadata": {},
     "output_type": "execute_result"
    }
   ],
   "source": [
    "#correlation matrix\n",
    "average_rating_distance.corr(numeric_only = True)"
   ]
  },
  {
   "cell_type": "markdown",
   "metadata": {},
   "source": [
    "The correlation matrix gives a number between -1 and 1 to indicate where the variables relationships lie. There is a strong negative correlation (-1) a strong positive correlation (1)  or no correlation (0) and the varying degrees in between.\n",
    "\n",
    "The numbers we are interested in are between the number of bikes and the average rating and average distance.\n",
    "\n",
    "Average rating and the number of bikes is approximately 0.15. This indicates a weak positive correlation and that stations near venues with a higher rating may have slightly more bikes.\n",
    "Average distance and the number of bikes is approximately -0.13 indicating a weak negative correlation. Stations with a smaller average distances may have more bikes. However both correlations are very weak and likely irrelevant."
   ]
  },
  {
   "cell_type": "code",
   "execution_count": 53,
   "metadata": {},
   "outputs": [
    {
     "name": "stdout",
     "output_type": "stream",
     "text": [
      "7.767732039494585e-05 7.767732039494585e-05\n"
     ]
    }
   ],
   "source": [
    "#pearson r testing\n",
    "\n",
    "stat, p1 = scipy.stats.pearsonr(average_rating_distance['Average Distance (m)'], average_rating_distance['Number of Bikes'])\n",
    "stat, p2 = scipy.stats.pearsonr(average_rating_distance['Average Rating %'], average_rating_distance['Number of Bikes'])\n",
    "print(p2, p2)"
   ]
  },
  {
   "cell_type": "markdown",
   "metadata": {},
   "source": [
    "The p-values for the pearson r tests for correlation are all very low and therefore indicate to reject the null hypothesis and suggests that there is a statistical correlation."
   ]
  },
  {
   "cell_type": "code",
   "execution_count": 54,
   "metadata": {},
   "outputs": [
    {
     "data": {
      "text/html": [
       "<div>\n",
       "<style scoped>\n",
       "    .dataframe tbody tr th:only-of-type {\n",
       "        vertical-align: middle;\n",
       "    }\n",
       "\n",
       "    .dataframe tbody tr th {\n",
       "        vertical-align: top;\n",
       "    }\n",
       "\n",
       "    .dataframe thead th {\n",
       "        text-align: right;\n",
       "    }\n",
       "</style>\n",
       "<table border=\"1\" class=\"dataframe\">\n",
       "  <thead>\n",
       "    <tr style=\"text-align: right;\">\n",
       "      <th></th>\n",
       "      <th>const</th>\n",
       "      <th>Average Distance (m)</th>\n",
       "      <th>Average Rating %</th>\n",
       "    </tr>\n",
       "  </thead>\n",
       "  <tbody>\n",
       "    <tr>\n",
       "      <th>0</th>\n",
       "      <td>1.0</td>\n",
       "      <td>638.421951</td>\n",
       "      <td>81.500000</td>\n",
       "    </tr>\n",
       "    <tr>\n",
       "      <th>1</th>\n",
       "      <td>1.0</td>\n",
       "      <td>447.858511</td>\n",
       "      <td>80.372340</td>\n",
       "    </tr>\n",
       "    <tr>\n",
       "      <th>2</th>\n",
       "      <td>1.0</td>\n",
       "      <td>617.600000</td>\n",
       "      <td>79.758621</td>\n",
       "    </tr>\n",
       "    <tr>\n",
       "      <th>3</th>\n",
       "      <td>1.0</td>\n",
       "      <td>614.282022</td>\n",
       "      <td>79.932584</td>\n",
       "    </tr>\n",
       "    <tr>\n",
       "      <th>4</th>\n",
       "      <td>1.0</td>\n",
       "      <td>560.757471</td>\n",
       "      <td>80.977011</td>\n",
       "    </tr>\n",
       "  </tbody>\n",
       "</table>\n",
       "</div>"
      ],
      "text/plain": [
       "   const  Average Distance (m)  Average Rating %\n",
       "0    1.0            638.421951         81.500000\n",
       "1    1.0            447.858511         80.372340\n",
       "2    1.0            617.600000         79.758621\n",
       "3    1.0            614.282022         79.932584\n",
       "4    1.0            560.757471         80.977011"
      ]
     },
     "execution_count": 54,
     "metadata": {},
     "output_type": "execute_result"
    }
   ],
   "source": [
    "#model set up\n",
    "\n",
    "y = average_rating_distance['Number of Bikes']\n",
    "X = average_rating_distance[['Average Distance (m)', 'Average Rating %']]\n",
    "X = sm.add_constant(X)\n",
    "X.head()"
   ]
  },
  {
   "cell_type": "code",
   "execution_count": 55,
   "metadata": {},
   "outputs": [
    {
     "name": "stdout",
     "output_type": "stream",
     "text": [
      "                            OLS Regression Results                            \n",
      "==============================================================================\n",
      "Dep. Variable:        Number of Bikes   R-squared:                       0.033\n",
      "Model:                            OLS   Adj. R-squared:                  0.030\n",
      "Method:                 Least Squares   F-statistic:                     11.60\n",
      "Date:                Wed, 30 Aug 2023   Prob (F-statistic):           1.11e-05\n",
      "Time:                        23:31:24   Log-Likelihood:                -2244.5\n",
      "No. Observations:                 689   AIC:                             4495.\n",
      "Df Residuals:                     686   BIC:                             4509.\n",
      "Df Model:                           2                                         \n",
      "Covariance Type:            nonrobust                                         \n",
      "========================================================================================\n",
      "                           coef    std err          t      P>|t|      [0.025      0.975]\n",
      "----------------------------------------------------------------------------------------\n",
      "const                   -1.0699      4.111     -0.260      0.795      -9.141       7.001\n",
      "Average Distance (m)    -0.0058      0.002     -2.692      0.007      -0.010      -0.002\n",
      "Average Rating %         0.1622      0.047      3.439      0.001       0.070       0.255\n",
      "==============================================================================\n",
      "Omnibus:                       74.271   Durbin-Watson:                   1.689\n",
      "Prob(Omnibus):                  0.000   Jarque-Bera (JB):               96.732\n",
      "Skew:                           0.855   Prob(JB):                     9.88e-22\n",
      "Kurtosis:                       3.667   Cond. No.                     1.04e+04\n",
      "==============================================================================\n",
      "\n",
      "Notes:\n",
      "[1] Standard Errors assume that the covariance matrix of the errors is correctly specified.\n",
      "[2] The condition number is large, 1.04e+04. This might indicate that there are\n",
      "strong multicollinearity or other numerical problems.\n"
     ]
    }
   ],
   "source": [
    "model = sm.OLS(y, X) \n",
    "results = model.fit()\n",
    "\n",
    "print(results.summary())"
   ]
  },
  {
   "cell_type": "markdown",
   "metadata": {},
   "source": [
    "Looking at the results for this model, I can see that the constants p-value is over 0.05 suggesting that it is not statistically significant. So I will run the model again without it.\n",
    "\n",
    "This Breusch Pagan test was done on the results of this model with the constant as a constant is required for the Breusch Pagan test."
   ]
  },
  {
   "cell_type": "code",
   "execution_count": 56,
   "metadata": {
    "tags": []
   },
   "outputs": [],
   "source": [
    "residuals = results.resid"
   ]
  },
  {
   "cell_type": "code",
   "execution_count": 57,
   "metadata": {},
   "outputs": [
    {
     "name": "stdout",
     "output_type": "stream",
     "text": [
      "0.0020333596956726907 0.0019748417775289563\n"
     ]
    }
   ],
   "source": [
    "#Breuschpagan test for homoscedasticity\n",
    "\n",
    "stat, p, f_stat, f_p = sm.stats.diagnostic.het_breuschpagan(residuals,results.model.exog)\n",
    "print(p,f_p)"
   ]
  },
  {
   "cell_type": "markdown",
   "metadata": {},
   "source": [
    "Both p-values are below 0.05 showing that homoscedasticity is not present. "
   ]
  },
  {
   "cell_type": "code",
   "execution_count": 58,
   "metadata": {},
   "outputs": [
    {
     "data": {
      "text/html": [
       "<div>\n",
       "<style scoped>\n",
       "    .dataframe tbody tr th:only-of-type {\n",
       "        vertical-align: middle;\n",
       "    }\n",
       "\n",
       "    .dataframe tbody tr th {\n",
       "        vertical-align: top;\n",
       "    }\n",
       "\n",
       "    .dataframe thead th {\n",
       "        text-align: right;\n",
       "    }\n",
       "</style>\n",
       "<table border=\"1\" class=\"dataframe\">\n",
       "  <thead>\n",
       "    <tr style=\"text-align: right;\">\n",
       "      <th></th>\n",
       "      <th>Average Distance (m)</th>\n",
       "      <th>Average Rating %</th>\n",
       "    </tr>\n",
       "  </thead>\n",
       "  <tbody>\n",
       "    <tr>\n",
       "      <th>0</th>\n",
       "      <td>638.421951</td>\n",
       "      <td>81.500000</td>\n",
       "    </tr>\n",
       "    <tr>\n",
       "      <th>1</th>\n",
       "      <td>447.858511</td>\n",
       "      <td>80.372340</td>\n",
       "    </tr>\n",
       "    <tr>\n",
       "      <th>2</th>\n",
       "      <td>617.600000</td>\n",
       "      <td>79.758621</td>\n",
       "    </tr>\n",
       "    <tr>\n",
       "      <th>3</th>\n",
       "      <td>614.282022</td>\n",
       "      <td>79.932584</td>\n",
       "    </tr>\n",
       "    <tr>\n",
       "      <th>4</th>\n",
       "      <td>560.757471</td>\n",
       "      <td>80.977011</td>\n",
       "    </tr>\n",
       "  </tbody>\n",
       "</table>\n",
       "</div>"
      ],
      "text/plain": [
       "   Average Distance (m)  Average Rating %\n",
       "0            638.421951         81.500000\n",
       "1            447.858511         80.372340\n",
       "2            617.600000         79.758621\n",
       "3            614.282022         79.932584\n",
       "4            560.757471         80.977011"
      ]
     },
     "execution_count": 58,
     "metadata": {},
     "output_type": "execute_result"
    }
   ],
   "source": [
    "#model set up with out constant\n",
    "\n",
    "y = average_rating_distance['Number of Bikes']\n",
    "X = average_rating_distance[['Average Distance (m)', 'Average Rating %']]\n",
    "#X = sm.add_constant(X) running model again without the constant\n",
    "X.head()"
   ]
  },
  {
   "cell_type": "code",
   "execution_count": 59,
   "metadata": {},
   "outputs": [
    {
     "name": "stdout",
     "output_type": "stream",
     "text": [
      "                                 OLS Regression Results                                \n",
      "=======================================================================================\n",
      "Dep. Variable:        Number of Bikes   R-squared (uncentered):                   0.630\n",
      "Model:                            OLS   Adj. R-squared (uncentered):              0.628\n",
      "Method:                 Least Squares   F-statistic:                              583.7\n",
      "Date:                Wed, 30 Aug 2023   Prob (F-statistic):                   7.41e-149\n",
      "Time:                        23:31:35   Log-Likelihood:                         -2244.6\n",
      "No. Observations:                 689   AIC:                                      4493.\n",
      "Df Residuals:                     687   BIC:                                      4502.\n",
      "Df Model:                           2                                                  \n",
      "Covariance Type:            nonrobust                                                  \n",
      "========================================================================================\n",
      "                           coef    std err          t      P>|t|      [0.025      0.975]\n",
      "----------------------------------------------------------------------------------------\n",
      "Average Distance (m)    -0.0061      0.002     -3.198      0.001      -0.010      -0.002\n",
      "Average Rating %         0.1505      0.015     10.241      0.000       0.122       0.179\n",
      "==============================================================================\n",
      "Omnibus:                       74.666   Durbin-Watson:                   1.691\n",
      "Prob(Omnibus):                  0.000   Jarque-Bera (JB):               97.377\n",
      "Skew:                           0.858   Prob(JB):                     7.16e-22\n",
      "Kurtosis:                       3.668   Cond. No.                         37.5\n",
      "==============================================================================\n",
      "\n",
      "Notes:\n",
      "[1] R² is computed without centering (uncentered) since the model does not contain a constant.\n",
      "[2] Standard Errors assume that the covariance matrix of the errors is correctly specified.\n"
     ]
    }
   ],
   "source": [
    "model = sm.OLS(y, X) \n",
    "results = model.fit()\n",
    "\n",
    "print(results.summary())"
   ]
  },
  {
   "cell_type": "markdown",
   "metadata": {},
   "source": [
    "#### Analysis"
   ]
  },
  {
   "cell_type": "markdown",
   "metadata": {},
   "source": [
    "The regression results show my dependent variable in the upper left corner which is 'Number of Bikes'. \n",
    "\n",
    "The R-Squared and Adj R-Squared values are the highest I've obtained throughout all the models that I've attempted. The R-squared at 0.630 suggests that 63% of the variability in the number of bikes can be explained by the other variables. It is considered an uncentered value because I removed the constant after seeing its p-value in the first attempt.\n",
    "\n",
    "The coefficient values indicate the prediction of how the variables will change with respect to each other. For example, with the coefficient of the average distance being negative, it implys that as the average distance increases, the number of bikes would decrease, and the positive average rating implies that as the average rating increases so does the number of bikes. This is in line with my original thought as people would be taking there bikes to areas with higher ratied venues. While the coefficients we got do fall in line with those examples, the numbers are so small that the affect is negligable.\n",
    "\n",
    "The p-values for both the variables are < 0.05 and so are considered statistically significant.\n",
    "\n",
    "While the R-squared numbers and p-values < 0.05 make this model appear to look promising for showing a connection between the average distance, and average rating to the number of bikes, the numbers surrounding the variable data is not strong enough to back that up. The following tests will show that the assumptions that should be made in order for this model to be more reliable have failed. Also the low Prob(Omnibus) and JB values in these results suggest that the data may not be normally distributed. I feel many of these findings could be in part to the limitations on the cellected data set. With a city like Toronto where everything is very centralized to the cities core, it makes it difficult to separate the patterns. Also, with the limitations on requesting data through the API for such a city with so many bike stations, the number of venues per bike station was also limited. This raises many questions about the completeness of the data, like how many venues per station are there in total? what categories of venues were missed when getting data? Would the breakdown of venue categories be different if the dataset was complete? Having a more complete and reliable data set may have allowed for a more confident conclusion."
   ]
  },
  {
   "cell_type": "markdown",
   "metadata": {},
   "source": [
    "#### Checking Assumpions"
   ]
  },
  {
   "cell_type": "code",
   "execution_count": 60,
   "metadata": {},
   "outputs": [
    {
     "data": {
      "text/plain": [
       "Text(0.5, 1.0, 'Number of Bikes vs. Average Rating %')"
      ]
     },
     "execution_count": 60,
     "metadata": {},
     "output_type": "execute_result"
    },
    {
     "data": {
      "image/png": "[encoded data removed]",
      "text/plain": [
       "<Figure size 640x480 with 1 Axes>"
      ]
     },
     "metadata": {},
     "output_type": "display_data"
    }
   ],
   "source": [
    "#scatterplot for number of bikes and rating\n",
    "\n",
    "sp1 = sns.scatterplot(x=average_rating_distance['Average Rating %'], y=average_rating_distance['Number of Bikes'])\n",
    "sp1.set_title('Number of Bikes vs. Average Rating %')"
   ]
  },
  {
   "cell_type": "code",
   "execution_count": 61,
   "metadata": {},
   "outputs": [
    {
     "data": {
      "text/plain": [
       "Text(0.5, 1.0, 'Number of Bikes vs. Average Distance (m)')"
      ]
     },
     "execution_count": 61,
     "metadata": {},
     "output_type": "execute_result"
    },
    {
     "data": {
      "image/png": "[encoded data removed]",
      "text/plain": [
       "<Figure size 640x480 with 1 Axes>"
      ]
     },
     "metadata": {},
     "output_type": "display_data"
    }
   ],
   "source": [
    "#scatterplot for bumber of bikes and distance\n",
    "\n",
    "sp1 = sns.scatterplot(x=average_rating_distance['Average Distance (m)'], y=average_rating_distance['Number of Bikes'])\n",
    "sp1.set_title('Number of Bikes vs. Average Distance (m)')"
   ]
  },
  {
   "cell_type": "markdown",
   "metadata": {},
   "source": [
    "Variables do not pass the linear assumption"
   ]
  },
  {
   "cell_type": "code",
   "execution_count": 62,
   "metadata": {},
   "outputs": [
    {
     "data": {
      "text/plain": [
       "<Axes: ylabel='Count'>"
      ]
     },
     "execution_count": 62,
     "metadata": {},
     "output_type": "execute_result"
    },
    {
     "data": {
      "image/png": "[encoded data removed]",
      "text/plain": [
       "<Figure size 640x480 with 1 Axes>"
      ]
     },
     "metadata": {},
     "output_type": "display_data"
    }
   ],
   "source": [
    "#checking normality assumption on the residuals.\n",
    "\n",
    "residuals = results.resid\n",
    "sns.histplot(residuals)"
   ]
  },
  {
   "cell_type": "code",
   "execution_count": 63,
   "metadata": {},
   "outputs": [
    {
     "data": {
      "image/png": "[encoded data removed]",
      "text/plain": [
       "<Figure size 640x480 with 1 Axes>"
      ]
     },
     "metadata": {},
     "output_type": "display_data"
    }
   ],
   "source": [
    "#QQ plot\n",
    "\n",
    "sm.qqplot(residuals, line=\"r\")\n",
    "plt.show()"
   ]
  },
  {
   "cell_type": "code",
   "execution_count": 64,
   "metadata": {},
   "outputs": [
    {
     "data": {
      "text/plain": [
       "ShapiroResult(statistic=0.9460981488227844, pvalue=3.881899057707255e-15)"
      ]
     },
     "execution_count": 64,
     "metadata": {},
     "output_type": "execute_result"
    }
   ],
   "source": [
    "#Shapiro Wilks test for normal distribution\n",
    "\n",
    "scipy.stats.shapiro(residuals)"
   ]
  },
  {
   "cell_type": "markdown",
   "metadata": {},
   "source": [
    "The very small p-value suggests that our data is not normally distributed, which we can also see in the above histogram and qq chart."
   ]
  },
  {
   "cell_type": "code",
   "execution_count": 65,
   "metadata": {},
   "outputs": [
    {
     "data": {
      "text/plain": [
       "<matplotlib.lines.Line2D at 0x23d1efe1940>"
      ]
     },
     "execution_count": 65,
     "metadata": {},
     "output_type": "execute_result"
    },
    {
     "data": {
      "image/png": "[encoded data removed]",
      "text/plain": [
       "<Figure size 640x480 with 1 Axes>"
      ]
     },
     "metadata": {},
     "output_type": "display_data"
    }
   ],
   "source": [
    "#checking assumption for homoscedasticity\n",
    "\n",
    "ax = sns.scatterplot(x=average_rating_distance['Average Rating %'], y=residuals)\n",
    "plt.title('Residuals vs. Average Rating %')\n",
    "ax.axhline(0) #horizontal line at 0"
   ]
  },
  {
   "cell_type": "markdown",
   "metadata": {},
   "source": [
    "Homoscedasticity is not present."
   ]
  },
  {
   "cell_type": "code",
   "execution_count": 66,
   "metadata": {},
   "outputs": [
    {
     "data": {
      "text/plain": [
       "<matplotlib.lines.Line2D at 0x23d1f1253a0>"
      ]
     },
     "execution_count": 66,
     "metadata": {},
     "output_type": "execute_result"
    },
    {
     "data": {
      "image/png": "[encoded data removed]",
      "text/plain": [
       "<Figure size 640x480 with 1 Axes>"
      ]
     },
     "metadata": {},
     "output_type": "display_data"
    }
   ],
   "source": [
    "ax = sns.scatterplot(x=average_rating_distance['Average Distance (m)'], y=residuals)\n",
    "plt.title('Residuals vs. Average Distance')\n",
    "ax.axhline(0)"
   ]
  },
  {
   "cell_type": "markdown",
   "metadata": {},
   "source": [
    " Scaling the values in the data frame did not improve the model fit as seen below."
   ]
  },
  {
   "cell_type": "code",
   "execution_count": 67,
   "metadata": {},
   "outputs": [],
   "source": [
    "#creating df with only the numerical values for scaling\n",
    "\n",
    "average_rating_distance_numeric = average_rating_distance[['Average Rating %', 'Average Distance (m)', 'Number of Bikes']]"
   ]
  },
  {
   "cell_type": "code",
   "execution_count": 70,
   "metadata": {},
   "outputs": [],
   "source": [
    "# scaling\n",
    "\n",
    "scaler = MinMaxScaler()\n",
    "average_rating_distance_numeric_scaled = pd.DataFrame(scaler.fit_transform(average_rating_distance_numeric), columns=average_rating_distance_numeric.columns)"
   ]
  },
  {
   "cell_type": "code",
   "execution_count": 71,
   "metadata": {},
   "outputs": [
    {
     "data": {
      "text/html": [
       "<div>\n",
       "<style scoped>\n",
       "    .dataframe tbody tr th:only-of-type {\n",
       "        vertical-align: middle;\n",
       "    }\n",
       "\n",
       "    .dataframe tbody tr th {\n",
       "        vertical-align: top;\n",
       "    }\n",
       "\n",
       "    .dataframe thead th {\n",
       "        text-align: right;\n",
       "    }\n",
       "</style>\n",
       "<table border=\"1\" class=\"dataframe\">\n",
       "  <thead>\n",
       "    <tr style=\"text-align: right;\">\n",
       "      <th></th>\n",
       "      <th>const</th>\n",
       "      <th>Average Distance (m)</th>\n",
       "      <th>Average Rating %</th>\n",
       "    </tr>\n",
       "  </thead>\n",
       "  <tbody>\n",
       "    <tr>\n",
       "      <th>0</th>\n",
       "      <td>1.0</td>\n",
       "      <td>0.620439</td>\n",
       "      <td>0.851852</td>\n",
       "    </tr>\n",
       "    <tr>\n",
       "      <th>1</th>\n",
       "      <td>1.0</td>\n",
       "      <td>0.280302</td>\n",
       "      <td>0.818440</td>\n",
       "    </tr>\n",
       "    <tr>\n",
       "      <th>2</th>\n",
       "      <td>1.0</td>\n",
       "      <td>0.583274</td>\n",
       "      <td>0.800255</td>\n",
       "    </tr>\n",
       "    <tr>\n",
       "      <th>3</th>\n",
       "      <td>1.0</td>\n",
       "      <td>0.577352</td>\n",
       "      <td>0.805410</td>\n",
       "    </tr>\n",
       "    <tr>\n",
       "      <th>4</th>\n",
       "      <td>1.0</td>\n",
       "      <td>0.481815</td>\n",
       "      <td>0.836356</td>\n",
       "    </tr>\n",
       "  </tbody>\n",
       "</table>\n",
       "</div>"
      ],
      "text/plain": [
       "   const  Average Distance (m)  Average Rating %\n",
       "0    1.0              0.620439          0.851852\n",
       "1    1.0              0.280302          0.818440\n",
       "2    1.0              0.583274          0.800255\n",
       "3    1.0              0.577352          0.805410\n",
       "4    1.0              0.481815          0.836356"
      ]
     },
     "execution_count": 71,
     "metadata": {},
     "output_type": "execute_result"
    }
   ],
   "source": [
    "#model set up\n",
    "\n",
    "y = average_rating_distance_numeric_scaled['Number of Bikes']\n",
    "X = average_rating_distance_numeric_scaled[['Average Distance (m)', 'Average Rating %']]\n",
    "X = sm.add_constant(X)\n",
    "X.head()"
   ]
  },
  {
   "cell_type": "code",
   "execution_count": 72,
   "metadata": {},
   "outputs": [
    {
     "name": "stdout",
     "output_type": "stream",
     "text": [
      "                            OLS Regression Results                            \n",
      "==============================================================================\n",
      "Dep. Variable:        Number of Bikes   R-squared:                       0.033\n",
      "Model:                            OLS   Adj. R-squared:                  0.030\n",
      "Method:                 Least Squares   F-statistic:                     11.60\n",
      "Date:                Wed, 30 Aug 2023   Prob (F-statistic):           1.11e-05\n",
      "Time:                        23:32:48   Log-Likelihood:                 224.51\n",
      "No. Observations:                 689   AIC:                            -443.0\n",
      "Df Residuals:                     686   BIC:                            -429.4\n",
      "Df Model:                           2                                         \n",
      "Covariance Type:            nonrobust                                         \n",
      "========================================================================================\n",
      "                           coef    std err          t      P>|t|      [0.025      0.975]\n",
      "----------------------------------------------------------------------------------------\n",
      "const                    0.1608      0.041      3.932      0.000       0.081       0.241\n",
      "Average Distance (m)    -0.0906      0.034     -2.692      0.007      -0.157      -0.025\n",
      "Average Rating %         0.1520      0.044      3.439      0.001       0.065       0.239\n",
      "==============================================================================\n",
      "Omnibus:                       74.271   Durbin-Watson:                   1.689\n",
      "Prob(Omnibus):                  0.000   Jarque-Bera (JB):               96.732\n",
      "Skew:                           0.855   Prob(JB):                     9.88e-22\n",
      "Kurtosis:                       3.667   Cond. No.                         12.3\n",
      "==============================================================================\n",
      "\n",
      "Notes:\n",
      "[1] Standard Errors assume that the covariance matrix of the errors is correctly specified.\n"
     ]
    }
   ],
   "source": [
    "#repeating the model with scaled data\n",
    "\n",
    "model = sm.OLS(y, X)\n",
    "results = model.fit()\n",
    "print(results.summary())"
   ]
  },
  {
   "cell_type": "markdown",
   "metadata": {},
   "source": [
    "### Below are all of the other models I attempted throughout this process. Analysis are not included for them, but I thought I would include the work."
   ]
  },
  {
   "cell_type": "markdown",
   "metadata": {},
   "source": [
    "### Average Distance and Number of Bikes"
   ]
  },
  {
   "cell_type": "code",
   "execution_count": 73,
   "metadata": {},
   "outputs": [
    {
     "data": {
      "text/html": [
       "<div>\n",
       "<style scoped>\n",
       "    .dataframe tbody tr th:only-of-type {\n",
       "        vertical-align: middle;\n",
       "    }\n",
       "\n",
       "    .dataframe tbody tr th {\n",
       "        vertical-align: top;\n",
       "    }\n",
       "\n",
       "    .dataframe thead th {\n",
       "        text-align: right;\n",
       "    }\n",
       "</style>\n",
       "<table border=\"1\" class=\"dataframe\">\n",
       "  <thead>\n",
       "    <tr style=\"text-align: right;\">\n",
       "      <th></th>\n",
       "      <th>Station Id</th>\n",
       "      <th>Average Distance (m)</th>\n",
       "      <th>Number of Bikes</th>\n",
       "    </tr>\n",
       "  </thead>\n",
       "  <tbody>\n",
       "    <tr>\n",
       "      <th>Station Id</th>\n",
       "      <td>1.000000</td>\n",
       "      <td>0.173002</td>\n",
       "      <td>-0.089310</td>\n",
       "    </tr>\n",
       "    <tr>\n",
       "      <th>Average Distance (m)</th>\n",
       "      <td>0.173002</td>\n",
       "      <td>1.000000</td>\n",
       "      <td>-0.126602</td>\n",
       "    </tr>\n",
       "    <tr>\n",
       "      <th>Number of Bikes</th>\n",
       "      <td>-0.089310</td>\n",
       "      <td>-0.126602</td>\n",
       "      <td>1.000000</td>\n",
       "    </tr>\n",
       "  </tbody>\n",
       "</table>\n",
       "</div>"
      ],
      "text/plain": [
       "                      Station Id  Average Distance (m)  Number of Bikes\n",
       "Station Id              1.000000              0.173002        -0.089310\n",
       "Average Distance (m)    0.173002              1.000000        -0.126602\n",
       "Number of Bikes        -0.089310             -0.126602         1.000000"
      ]
     },
     "execution_count": 73,
     "metadata": {},
     "output_type": "execute_result"
    }
   ],
   "source": [
    "average_distance_by_stn.corr(numeric_only = True)"
   ]
  },
  {
   "cell_type": "code",
   "execution_count": 74,
   "metadata": {},
   "outputs": [
    {
     "data": {
      "text/plain": [
       "0.0008668153236270769"
      ]
     },
     "execution_count": 74,
     "metadata": {},
     "output_type": "execute_result"
    }
   ],
   "source": [
    "#pearson r\n",
    "\n",
    "stat, p = scipy.stats.pearsonr(average_distance_by_stn['Average Distance (m)'], average_distance_by_stn['Number of Bikes'])\n",
    "p"
   ]
  },
  {
   "cell_type": "markdown",
   "metadata": {},
   "source": [
    "p value < 0.05 suggest that we reject the null hypothesis, which is that there is no correlation. This implies that there is possible a correlation between the two. At this point."
   ]
  },
  {
   "cell_type": "code",
   "execution_count": 75,
   "metadata": {},
   "outputs": [
    {
     "data": {
      "text/html": [
       "<div>\n",
       "<style scoped>\n",
       "    .dataframe tbody tr th:only-of-type {\n",
       "        vertical-align: middle;\n",
       "    }\n",
       "\n",
       "    .dataframe tbody tr th {\n",
       "        vertical-align: top;\n",
       "    }\n",
       "\n",
       "    .dataframe thead th {\n",
       "        text-align: right;\n",
       "    }\n",
       "</style>\n",
       "<table border=\"1\" class=\"dataframe\">\n",
       "  <thead>\n",
       "    <tr style=\"text-align: right;\">\n",
       "      <th></th>\n",
       "      <th>const</th>\n",
       "      <th>Average Distance (m)</th>\n",
       "    </tr>\n",
       "  </thead>\n",
       "  <tbody>\n",
       "    <tr>\n",
       "      <th>0</th>\n",
       "      <td>1.0</td>\n",
       "      <td>638.421951</td>\n",
       "    </tr>\n",
       "    <tr>\n",
       "      <th>82</th>\n",
       "      <td>1.0</td>\n",
       "      <td>447.858511</td>\n",
       "    </tr>\n",
       "    <tr>\n",
       "      <th>176</th>\n",
       "      <td>1.0</td>\n",
       "      <td>617.600000</td>\n",
       "    </tr>\n",
       "    <tr>\n",
       "      <th>263</th>\n",
       "      <td>1.0</td>\n",
       "      <td>614.282022</td>\n",
       "    </tr>\n",
       "    <tr>\n",
       "      <th>352</th>\n",
       "      <td>1.0</td>\n",
       "      <td>560.757471</td>\n",
       "    </tr>\n",
       "  </tbody>\n",
       "</table>\n",
       "</div>"
      ],
      "text/plain": [
       "     const  Average Distance (m)\n",
       "0      1.0            638.421951\n",
       "82     1.0            447.858511\n",
       "176    1.0            617.600000\n",
       "263    1.0            614.282022\n",
       "352    1.0            560.757471"
      ]
     },
     "execution_count": 75,
     "metadata": {},
     "output_type": "execute_result"
    }
   ],
   "source": [
    "# Regression Model set up\n",
    "\n",
    "y = average_distance_by_stn['Number of Bikes']\n",
    "X = average_distance_by_stn['Average Distance (m)']\n",
    "X = sm.add_constant(X) #adds a column of 1's so the model will contain an intercept (b value), bias\n",
    "X.head()"
   ]
  },
  {
   "cell_type": "code",
   "execution_count": 76,
   "metadata": {},
   "outputs": [
    {
     "name": "stdout",
     "output_type": "stream",
     "text": [
      "                            OLS Regression Results                            \n",
      "==============================================================================\n",
      "Dep. Variable:        Number of Bikes   R-squared:                       0.016\n",
      "Model:                            OLS   Adj. R-squared:                  0.015\n",
      "Method:                 Least Squares   F-statistic:                     11.19\n",
      "Date:                Wed, 30 Aug 2023   Prob (F-statistic):           0.000867\n",
      "Time:                        23:32:55   Log-Likelihood:                -2250.4\n",
      "No. Observations:                 689   AIC:                             4505.\n",
      "Df Residuals:                     687   BIC:                             4514.\n",
      "Df Model:                           1                                         \n",
      "Covariance Type:            nonrobust                                         \n",
      "========================================================================================\n",
      "                           coef    std err          t      P>|t|      [0.025      0.975]\n",
      "----------------------------------------------------------------------------------------\n",
      "const                   12.3619      1.292      9.568      0.000       9.825      14.899\n",
      "Average Distance (m)    -0.0072      0.002     -3.345      0.001      -0.011      -0.003\n",
      "==============================================================================\n",
      "Omnibus:                       78.918   Durbin-Watson:                   1.701\n",
      "Prob(Omnibus):                  0.000   Jarque-Bera (JB):              104.532\n",
      "Skew:                           0.889   Prob(JB):                     2.00e-23\n",
      "Kurtosis:                       3.695   Cond. No.                     3.22e+03\n",
      "==============================================================================\n",
      "\n",
      "Notes:\n",
      "[1] Standard Errors assume that the covariance matrix of the errors is correctly specified.\n",
      "[2] The condition number is large, 3.22e+03. This might indicate that there are\n",
      "strong multicollinearity or other numerical problems.\n"
     ]
    }
   ],
   "source": [
    "model = sm.OLS(y, X)\n",
    "results = model.fit()\n",
    "\n",
    "print(results.summary())"
   ]
  },
  {
   "cell_type": "code",
   "execution_count": 77,
   "metadata": {},
   "outputs": [],
   "source": [
    "residuals = results.resid"
   ]
  },
  {
   "cell_type": "code",
   "execution_count": 78,
   "metadata": {},
   "outputs": [
    {
     "data": {
      "image/png": "[encoded data removed]",
      "text/plain": [
       "<Figure size 640x480 with 1 Axes>"
      ]
     },
     "metadata": {},
     "output_type": "display_data"
    }
   ],
   "source": [
    "sns.histplot(residuals)\n",
    "plt.show()"
   ]
  },
  {
   "cell_type": "code",
   "execution_count": 79,
   "metadata": {},
   "outputs": [
    {
     "data": {
      "text/plain": [
       "ShapiroResult(statistic=0.9406419992446899, pvalue=5.902958845129826e-16)"
      ]
     },
     "execution_count": 79,
     "metadata": {},
     "output_type": "execute_result"
    }
   ],
   "source": [
    "#shaprio wilks to see if the residuals are normally distributed\n",
    "\n",
    "scipy.stats.shapiro(residuals)"
   ]
  },
  {
   "cell_type": "markdown",
   "metadata": {},
   "source": [
    "The low p-value suggest that the residuals are not normally distributed, as we can see in the histogram."
   ]
  },
  {
   "cell_type": "code",
   "execution_count": 80,
   "metadata": {},
   "outputs": [
    {
     "data": {
      "image/png": "[encoded data removed]",
      "text/plain": [
       "<Figure size 640x480 with 1 Axes>"
      ]
     },
     "metadata": {},
     "output_type": "display_data"
    }
   ],
   "source": [
    "sm.qqplot(residuals, line=\"r\")\n",
    "plt.show()"
   ]
  },
  {
   "cell_type": "code",
   "execution_count": 81,
   "metadata": {},
   "outputs": [
    {
     "data": {
      "image/png": "[encoded data removed]",
      "text/plain": [
       "<Figure size 640x480 with 1 Axes>"
      ]
     },
     "metadata": {},
     "output_type": "display_data"
    }
   ],
   "source": [
    "sns.scatterplot(data=average_distance_by_stn, x='Average Distance (m)', y='Number of Bikes')\n",
    "plt.show()"
   ]
  },
  {
   "cell_type": "markdown",
   "metadata": {},
   "source": [
    "### Average Distance and Number of Bikes with scaling"
   ]
  },
  {
   "cell_type": "code",
   "execution_count": 82,
   "metadata": {},
   "outputs": [],
   "source": [
    "# scaling\n",
    "\n",
    "scaler = MinMaxScaler()\n",
    "average_distance_by_stn_scaled = pd.DataFrame(scaler.fit_transform(average_distance_by_stn), columns=average_distance_by_stn.columns)"
   ]
  },
  {
   "cell_type": "code",
   "execution_count": 83,
   "metadata": {},
   "outputs": [
    {
     "data": {
      "text/html": [
       "<div>\n",
       "<style scoped>\n",
       "    .dataframe tbody tr th:only-of-type {\n",
       "        vertical-align: middle;\n",
       "    }\n",
       "\n",
       "    .dataframe tbody tr th {\n",
       "        vertical-align: top;\n",
       "    }\n",
       "\n",
       "    .dataframe thead th {\n",
       "        text-align: right;\n",
       "    }\n",
       "</style>\n",
       "<table border=\"1\" class=\"dataframe\">\n",
       "  <thead>\n",
       "    <tr style=\"text-align: right;\">\n",
       "      <th></th>\n",
       "      <th>Station Id</th>\n",
       "      <th>Average Distance (m)</th>\n",
       "      <th>Number of Bikes</th>\n",
       "    </tr>\n",
       "  </thead>\n",
       "  <tbody>\n",
       "    <tr>\n",
       "      <th>Station Id</th>\n",
       "      <td>1.000000</td>\n",
       "      <td>0.173002</td>\n",
       "      <td>-0.089310</td>\n",
       "    </tr>\n",
       "    <tr>\n",
       "      <th>Average Distance (m)</th>\n",
       "      <td>0.173002</td>\n",
       "      <td>1.000000</td>\n",
       "      <td>-0.126602</td>\n",
       "    </tr>\n",
       "    <tr>\n",
       "      <th>Number of Bikes</th>\n",
       "      <td>-0.089310</td>\n",
       "      <td>-0.126602</td>\n",
       "      <td>1.000000</td>\n",
       "    </tr>\n",
       "  </tbody>\n",
       "</table>\n",
       "</div>"
      ],
      "text/plain": [
       "                      Station Id  Average Distance (m)  Number of Bikes\n",
       "Station Id              1.000000              0.173002        -0.089310\n",
       "Average Distance (m)    0.173002              1.000000        -0.126602\n",
       "Number of Bikes        -0.089310             -0.126602         1.000000"
      ]
     },
     "execution_count": 83,
     "metadata": {},
     "output_type": "execute_result"
    }
   ],
   "source": [
    "#numbers are exactly the same after scaling\n",
    "\n",
    "average_distance_by_stn_scaled.corr(numeric_only = True)"
   ]
  },
  {
   "cell_type": "code",
   "execution_count": 84,
   "metadata": {},
   "outputs": [
    {
     "data": {
      "text/plain": [
       "0.0008668153236270769"
      ]
     },
     "execution_count": 84,
     "metadata": {},
     "output_type": "execute_result"
    }
   ],
   "source": [
    "stat, p = scipy.stats.pearsonr(average_distance_by_stn_scaled['Average Distance (m)'], average_distance_by_stn_scaled['Number of Bikes'])\n",
    "p"
   ]
  },
  {
   "cell_type": "code",
   "execution_count": 85,
   "metadata": {},
   "outputs": [
    {
     "data": {
      "text/html": [
       "<div>\n",
       "<style scoped>\n",
       "    .dataframe tbody tr th:only-of-type {\n",
       "        vertical-align: middle;\n",
       "    }\n",
       "\n",
       "    .dataframe tbody tr th {\n",
       "        vertical-align: top;\n",
       "    }\n",
       "\n",
       "    .dataframe thead th {\n",
       "        text-align: right;\n",
       "    }\n",
       "</style>\n",
       "<table border=\"1\" class=\"dataframe\">\n",
       "  <thead>\n",
       "    <tr style=\"text-align: right;\">\n",
       "      <th></th>\n",
       "      <th>const</th>\n",
       "      <th>Average Distance (m)</th>\n",
       "    </tr>\n",
       "  </thead>\n",
       "  <tbody>\n",
       "    <tr>\n",
       "      <th>0</th>\n",
       "      <td>1.0</td>\n",
       "      <td>0.620439</td>\n",
       "    </tr>\n",
       "    <tr>\n",
       "      <th>1</th>\n",
       "      <td>1.0</td>\n",
       "      <td>0.280302</td>\n",
       "    </tr>\n",
       "    <tr>\n",
       "      <th>2</th>\n",
       "      <td>1.0</td>\n",
       "      <td>0.583274</td>\n",
       "    </tr>\n",
       "    <tr>\n",
       "      <th>3</th>\n",
       "      <td>1.0</td>\n",
       "      <td>0.577352</td>\n",
       "    </tr>\n",
       "    <tr>\n",
       "      <th>4</th>\n",
       "      <td>1.0</td>\n",
       "      <td>0.481815</td>\n",
       "    </tr>\n",
       "  </tbody>\n",
       "</table>\n",
       "</div>"
      ],
      "text/plain": [
       "   const  Average Distance (m)\n",
       "0    1.0              0.620439\n",
       "1    1.0              0.280302\n",
       "2    1.0              0.583274\n",
       "3    1.0              0.577352\n",
       "4    1.0              0.481815"
      ]
     },
     "execution_count": 85,
     "metadata": {},
     "output_type": "execute_result"
    }
   ],
   "source": [
    "#model set up\n",
    "\n",
    "y = average_distance_by_stn_scaled['Number of Bikes']\n",
    "X = average_distance_by_stn_scaled['Average Distance (m)']\n",
    "X = sm.add_constant(X) #adds a column of 1's so the model will contain an intercept (b value), bias\n",
    "X.head()"
   ]
  },
  {
   "cell_type": "code",
   "execution_count": 86,
   "metadata": {},
   "outputs": [
    {
     "name": "stdout",
     "output_type": "stream",
     "text": [
      "                            OLS Regression Results                            \n",
      "==============================================================================\n",
      "Dep. Variable:        Number of Bikes   R-squared:                       0.016\n",
      "Model:                            OLS   Adj. R-squared:                  0.015\n",
      "Method:                 Least Squares   F-statistic:                     11.19\n",
      "Date:                Wed, 30 Aug 2023   Prob (F-statistic):           0.000867\n",
      "Time:                        23:33:06   Log-Likelihood:                 218.62\n",
      "No. Observations:                 689   AIC:                            -433.2\n",
      "Df Residuals:                     687   BIC:                            -424.2\n",
      "Df Model:                           1                                         \n",
      "Covariance Type:            nonrobust                                         \n",
      "========================================================================================\n",
      "                           coef    std err          t      P>|t|      [0.025      0.975]\n",
      "----------------------------------------------------------------------------------------\n",
      "const                    0.2854      0.019     14.904      0.000       0.248       0.323\n",
      "Average Distance (m)    -0.1116      0.033     -3.345      0.001      -0.177      -0.046\n",
      "==============================================================================\n",
      "Omnibus:                       78.918   Durbin-Watson:                   1.701\n",
      "Prob(Omnibus):                  0.000   Jarque-Bera (JB):              104.532\n",
      "Skew:                           0.889   Prob(JB):                     2.00e-23\n",
      "Kurtosis:                       3.695   Cond. No.                         6.44\n",
      "==============================================================================\n",
      "\n",
      "Notes:\n",
      "[1] Standard Errors assume that the covariance matrix of the errors is correctly specified.\n"
     ]
    }
   ],
   "source": [
    "model = sm.OLS(y, X)\n",
    "results = model.fit()\n",
    "\n",
    "print(results.summary())"
   ]
  },
  {
   "cell_type": "markdown",
   "metadata": {},
   "source": [
    "The numbers in the model after scaling are hardly worth mentioning. The biggest difference I noticed is in the coefficients and the Log-likelihood."
   ]
  },
  {
   "cell_type": "markdown",
   "metadata": {},
   "source": [
    "### Average Rating and Number of Bikes"
   ]
  },
  {
   "cell_type": "code",
   "execution_count": 87,
   "metadata": {},
   "outputs": [
    {
     "data": {
      "text/html": [
       "<div>\n",
       "<style scoped>\n",
       "    .dataframe tbody tr th:only-of-type {\n",
       "        vertical-align: middle;\n",
       "    }\n",
       "\n",
       "    .dataframe tbody tr th {\n",
       "        vertical-align: top;\n",
       "    }\n",
       "\n",
       "    .dataframe thead th {\n",
       "        text-align: right;\n",
       "    }\n",
       "</style>\n",
       "<table border=\"1\" class=\"dataframe\">\n",
       "  <thead>\n",
       "    <tr style=\"text-align: right;\">\n",
       "      <th></th>\n",
       "      <th>Name</th>\n",
       "      <th>Category</th>\n",
       "      <th>Distance (m)</th>\n",
       "      <th>Rating %</th>\n",
       "      <th>Price 1-4</th>\n",
       "      <th>Station Id</th>\n",
       "      <th>Station Name</th>\n",
       "      <th>Number of Bikes</th>\n",
       "    </tr>\n",
       "  </thead>\n",
       "  <tbody>\n",
       "    <tr>\n",
       "      <th>0</th>\n",
       "      <td>Gusto 101</td>\n",
       "      <td>Italian</td>\n",
       "      <td>673.3</td>\n",
       "      <td>80.0</td>\n",
       "      <td>2.0</td>\n",
       "      <td>7000</td>\n",
       "      <td>Fort York  Blvd / Capreol Ct</td>\n",
       "      <td>6</td>\n",
       "    </tr>\n",
       "  </tbody>\n",
       "</table>\n",
       "</div>"
      ],
      "text/plain": [
       "        Name Category  Distance (m)  Rating %  Price 1-4  Station Id  \\\n",
       "0  Gusto 101  Italian         673.3      80.0        2.0        7000   \n",
       "\n",
       "                   Station Name  Number of Bikes  \n",
       "0  Fort York  Blvd / Capreol Ct                6  "
      ]
     },
     "execution_count": 87,
     "metadata": {},
     "output_type": "execute_result"
    }
   ],
   "source": [
    "unique_ven_by_stn.head(1)"
   ]
  },
  {
   "cell_type": "code",
   "execution_count": 88,
   "metadata": {},
   "outputs": [
    {
     "data": {
      "text/html": [
       "<div>\n",
       "<style scoped>\n",
       "    .dataframe tbody tr th:only-of-type {\n",
       "        vertical-align: middle;\n",
       "    }\n",
       "\n",
       "    .dataframe tbody tr th {\n",
       "        vertical-align: top;\n",
       "    }\n",
       "\n",
       "    .dataframe thead th {\n",
       "        text-align: right;\n",
       "    }\n",
       "</style>\n",
       "<table border=\"1\" class=\"dataframe\">\n",
       "  <thead>\n",
       "    <tr style=\"text-align: right;\">\n",
       "      <th></th>\n",
       "      <th>Station Id</th>\n",
       "      <th>Average Rating %</th>\n",
       "      <th>Number of Bikes</th>\n",
       "    </tr>\n",
       "  </thead>\n",
       "  <tbody>\n",
       "    <tr>\n",
       "      <th>Station Id</th>\n",
       "      <td>1.000000</td>\n",
       "      <td>-0.428604</td>\n",
       "      <td>-0.089310</td>\n",
       "    </tr>\n",
       "    <tr>\n",
       "      <th>Average Rating %</th>\n",
       "      <td>-0.428604</td>\n",
       "      <td>1.000000</td>\n",
       "      <td>0.149959</td>\n",
       "    </tr>\n",
       "    <tr>\n",
       "      <th>Number of Bikes</th>\n",
       "      <td>-0.089310</td>\n",
       "      <td>0.149959</td>\n",
       "      <td>1.000000</td>\n",
       "    </tr>\n",
       "  </tbody>\n",
       "</table>\n",
       "</div>"
      ],
      "text/plain": [
       "                  Station Id  Average Rating %  Number of Bikes\n",
       "Station Id          1.000000         -0.428604        -0.089310\n",
       "Average Rating %   -0.428604          1.000000         0.149959\n",
       "Number of Bikes    -0.089310          0.149959         1.000000"
      ]
     },
     "execution_count": 88,
     "metadata": {},
     "output_type": "execute_result"
    }
   ],
   "source": [
    "rating_by_area.corr(numeric_only=True)"
   ]
  },
  {
   "cell_type": "code",
   "execution_count": 89,
   "metadata": {},
   "outputs": [
    {
     "data": {
      "text/plain": [
       "7.767732039494585e-05"
      ]
     },
     "execution_count": 89,
     "metadata": {},
     "output_type": "execute_result"
    }
   ],
   "source": [
    "stat, p = scipy.stats.pearsonr(rating_by_area['Number of Bikes'], rating_by_area['Average Rating %'])\n",
    "p"
   ]
  },
  {
   "cell_type": "code",
   "execution_count": 90,
   "metadata": {},
   "outputs": [
    {
     "data": {
      "text/html": [
       "<div>\n",
       "<style scoped>\n",
       "    .dataframe tbody tr th:only-of-type {\n",
       "        vertical-align: middle;\n",
       "    }\n",
       "\n",
       "    .dataframe tbody tr th {\n",
       "        vertical-align: top;\n",
       "    }\n",
       "\n",
       "    .dataframe thead th {\n",
       "        text-align: right;\n",
       "    }\n",
       "</style>\n",
       "<table border=\"1\" class=\"dataframe\">\n",
       "  <thead>\n",
       "    <tr style=\"text-align: right;\">\n",
       "      <th></th>\n",
       "      <th>const</th>\n",
       "      <th>Average Rating %</th>\n",
       "    </tr>\n",
       "  </thead>\n",
       "  <tbody>\n",
       "    <tr>\n",
       "      <th>0</th>\n",
       "      <td>1.0</td>\n",
       "      <td>81.500000</td>\n",
       "    </tr>\n",
       "    <tr>\n",
       "      <th>82</th>\n",
       "      <td>1.0</td>\n",
       "      <td>80.372340</td>\n",
       "    </tr>\n",
       "    <tr>\n",
       "      <th>176</th>\n",
       "      <td>1.0</td>\n",
       "      <td>79.758621</td>\n",
       "    </tr>\n",
       "    <tr>\n",
       "      <th>263</th>\n",
       "      <td>1.0</td>\n",
       "      <td>79.932584</td>\n",
       "    </tr>\n",
       "    <tr>\n",
       "      <th>352</th>\n",
       "      <td>1.0</td>\n",
       "      <td>80.977011</td>\n",
       "    </tr>\n",
       "  </tbody>\n",
       "</table>\n",
       "</div>"
      ],
      "text/plain": [
       "     const  Average Rating %\n",
       "0      1.0         81.500000\n",
       "82     1.0         80.372340\n",
       "176    1.0         79.758621\n",
       "263    1.0         79.932584\n",
       "352    1.0         80.977011"
      ]
     },
     "execution_count": 90,
     "metadata": {},
     "output_type": "execute_result"
    }
   ],
   "source": [
    "#model set up\n",
    "\n",
    "y = rating_by_area['Number of Bikes']\n",
    "X = rating_by_area['Average Rating %']\n",
    "X = sm.add_constant(X)\n",
    "X.head()"
   ]
  },
  {
   "cell_type": "code",
   "execution_count": 91,
   "metadata": {},
   "outputs": [
    {
     "name": "stdout",
     "output_type": "stream",
     "text": [
      "                            OLS Regression Results                            \n",
      "==============================================================================\n",
      "Dep. Variable:        Number of Bikes   R-squared:                       0.022\n",
      "Model:                            OLS   Adj. R-squared:                  0.021\n",
      "Method:                 Least Squares   F-statistic:                     15.80\n",
      "Date:                Wed, 30 Aug 2023   Prob (F-statistic):           7.77e-05\n",
      "Time:                        23:33:12   Log-Likelihood:                -2248.2\n",
      "No. Observations:                 689   AIC:                             4500.\n",
      "Df Residuals:                     687   BIC:                             4509.\n",
      "Df Model:                           1                                         \n",
      "Covariance Type:            nonrobust                                         \n",
      "====================================================================================\n",
      "                       coef    std err          t      P>|t|      [0.025      0.975]\n",
      "------------------------------------------------------------------------------------\n",
      "const               -6.3103      3.637     -1.735      0.083     -13.451       0.830\n",
      "Average Rating %     0.1852      0.047      3.975      0.000       0.094       0.277\n",
      "==============================================================================\n",
      "Omnibus:                       79.440   Durbin-Watson:                   1.676\n",
      "Prob(Omnibus):                  0.000   Jarque-Bera (JB):              106.442\n",
      "Skew:                           0.878   Prob(JB):                     7.70e-24\n",
      "Kurtosis:                       3.790   Cond. No.                     1.18e+03\n",
      "==============================================================================\n",
      "\n",
      "Notes:\n",
      "[1] Standard Errors assume that the covariance matrix of the errors is correctly specified.\n",
      "[2] The condition number is large, 1.18e+03. This might indicate that there are\n",
      "strong multicollinearity or other numerical problems.\n"
     ]
    }
   ],
   "source": [
    "model = sm.OLS(y, X)\n",
    "results = model.fit()\n",
    "\n",
    "print(results.summary())"
   ]
  },
  {
   "cell_type": "code",
   "execution_count": 92,
   "metadata": {},
   "outputs": [
    {
     "data": {
      "image/png": "[encoded data removed]",
      "text/plain": [
       "<Figure size 640x480 with 1 Axes>"
      ]
     },
     "metadata": {},
     "output_type": "display_data"
    }
   ],
   "source": [
    "residuals = results.resid\n",
    "sns.histplot(residuals)\n",
    "plt.show()"
   ]
  },
  {
   "cell_type": "code",
   "execution_count": 93,
   "metadata": {},
   "outputs": [
    {
     "data": {
      "image/png": "[encoded data removed]",
      "text/plain": [
       "<Figure size 640x480 with 1 Axes>"
      ]
     },
     "metadata": {},
     "output_type": "display_data"
    }
   ],
   "source": [
    "sm.qqplot(residuals, line=\"r\")\n",
    "plt.show()"
   ]
  },
  {
   "cell_type": "code",
   "execution_count": 94,
   "metadata": {},
   "outputs": [
    {
     "data": {
      "text/plain": [
       "ShapiroResult(statistic=0.9450380206108093, pvalue=2.6651309350205323e-15)"
      ]
     },
     "execution_count": 94,
     "metadata": {},
     "output_type": "execute_result"
    }
   ],
   "source": [
    "import scipy\n",
    "scipy.stats.shapiro(residuals)"
   ]
  },
  {
   "cell_type": "code",
   "execution_count": 95,
   "metadata": {},
   "outputs": [
    {
     "data": {
      "text/plain": [
       "<matplotlib.lines.Line2D at 0x23d21886d90>"
      ]
     },
     "execution_count": 95,
     "metadata": {},
     "output_type": "execute_result"
    },
    {
     "data": {
      "image/png": "[encoded data removed]",
      "text/plain": [
       "<Figure size 640x480 with 1 Axes>"
      ]
     },
     "metadata": {},
     "output_type": "display_data"
    }
   ],
   "source": [
    "ax = sns.scatterplot(x=rating_by_area['Average Rating %'], y=residuals)\n",
    "ax.axhline(0) #horizontal line at 0"
   ]
  },
  {
   "cell_type": "code",
   "execution_count": 96,
   "metadata": {},
   "outputs": [
    {
     "name": "stdout",
     "output_type": "stream",
     "text": [
      "0.0010256846007119574 0.0010006107762688345\n"
     ]
    }
   ],
   "source": [
    "#hypothesis test to check homoscedasticity breusch pagan\n",
    "\n",
    "stat, p, f_stat, f_p = sm.stats.diagnostic.het_breuschpagan(residuals,results.model.exog)\n",
    "print(p,f_p) #actually performs two tests, so it returns two p-value"
   ]
  },
  {
   "cell_type": "markdown",
   "metadata": {},
   "source": [
    "Scaling"
   ]
  },
  {
   "cell_type": "code",
   "execution_count": 97,
   "metadata": {},
   "outputs": [
    {
     "data": {
      "text/html": [
       "<div>\n",
       "<style scoped>\n",
       "    .dataframe tbody tr th:only-of-type {\n",
       "        vertical-align: middle;\n",
       "    }\n",
       "\n",
       "    .dataframe tbody tr th {\n",
       "        vertical-align: top;\n",
       "    }\n",
       "\n",
       "    .dataframe thead th {\n",
       "        text-align: right;\n",
       "    }\n",
       "</style>\n",
       "<table border=\"1\" class=\"dataframe\">\n",
       "  <thead>\n",
       "    <tr style=\"text-align: right;\">\n",
       "      <th></th>\n",
       "      <th>Station Id</th>\n",
       "      <th>Average Rating %</th>\n",
       "      <th>Station Name</th>\n",
       "      <th>Number of Bikes</th>\n",
       "    </tr>\n",
       "  </thead>\n",
       "  <tbody>\n",
       "    <tr>\n",
       "      <th>0</th>\n",
       "      <td>7000</td>\n",
       "      <td>81.500000</td>\n",
       "      <td>Fort York  Blvd / Capreol Ct</td>\n",
       "      <td>6</td>\n",
       "    </tr>\n",
       "    <tr>\n",
       "      <th>82</th>\n",
       "      <td>7001</td>\n",
       "      <td>80.372340</td>\n",
       "      <td>Wellesley Station Green P</td>\n",
       "      <td>11</td>\n",
       "    </tr>\n",
       "    <tr>\n",
       "      <th>176</th>\n",
       "      <td>7002</td>\n",
       "      <td>79.758621</td>\n",
       "      <td>St. George St / Bloor St W</td>\n",
       "      <td>9</td>\n",
       "    </tr>\n",
       "    <tr>\n",
       "      <th>263</th>\n",
       "      <td>7003</td>\n",
       "      <td>79.932584</td>\n",
       "      <td>Madison Ave / Bloor St W</td>\n",
       "      <td>2</td>\n",
       "    </tr>\n",
       "    <tr>\n",
       "      <th>352</th>\n",
       "      <td>7004</td>\n",
       "      <td>80.977011</td>\n",
       "      <td>University Ave / Elm St</td>\n",
       "      <td>6</td>\n",
       "    </tr>\n",
       "  </tbody>\n",
       "</table>\n",
       "</div>"
      ],
      "text/plain": [
       "     Station Id  Average Rating %                  Station Name  \\\n",
       "0          7000         81.500000  Fort York  Blvd / Capreol Ct   \n",
       "82         7001         80.372340     Wellesley Station Green P   \n",
       "176        7002         79.758621    St. George St / Bloor St W   \n",
       "263        7003         79.932584      Madison Ave / Bloor St W   \n",
       "352        7004         80.977011       University Ave / Elm St   \n",
       "\n",
       "     Number of Bikes  \n",
       "0                  6  \n",
       "82                11  \n",
       "176                9  \n",
       "263                2  \n",
       "352                6  "
      ]
     },
     "execution_count": 97,
     "metadata": {},
     "output_type": "execute_result"
    }
   ],
   "source": [
    "rating_by_area.head()"
   ]
  },
  {
   "cell_type": "code",
   "execution_count": 98,
   "metadata": {},
   "outputs": [
    {
     "data": {
      "text/html": [
       "<div>\n",
       "<style scoped>\n",
       "    .dataframe tbody tr th:only-of-type {\n",
       "        vertical-align: middle;\n",
       "    }\n",
       "\n",
       "    .dataframe tbody tr th {\n",
       "        vertical-align: top;\n",
       "    }\n",
       "\n",
       "    .dataframe thead th {\n",
       "        text-align: right;\n",
       "    }\n",
       "</style>\n",
       "<table border=\"1\" class=\"dataframe\">\n",
       "  <thead>\n",
       "    <tr style=\"text-align: right;\">\n",
       "      <th></th>\n",
       "      <th>Average Rating %</th>\n",
       "      <th>Number of Bikes</th>\n",
       "    </tr>\n",
       "  </thead>\n",
       "  <tbody>\n",
       "    <tr>\n",
       "      <th>0</th>\n",
       "      <td>81.500000</td>\n",
       "      <td>6</td>\n",
       "    </tr>\n",
       "    <tr>\n",
       "      <th>82</th>\n",
       "      <td>80.372340</td>\n",
       "      <td>11</td>\n",
       "    </tr>\n",
       "    <tr>\n",
       "      <th>176</th>\n",
       "      <td>79.758621</td>\n",
       "      <td>9</td>\n",
       "    </tr>\n",
       "    <tr>\n",
       "      <th>263</th>\n",
       "      <td>79.932584</td>\n",
       "      <td>2</td>\n",
       "    </tr>\n",
       "    <tr>\n",
       "      <th>352</th>\n",
       "      <td>80.977011</td>\n",
       "      <td>6</td>\n",
       "    </tr>\n",
       "    <tr>\n",
       "      <th>...</th>\n",
       "      <td>...</td>\n",
       "      <td>...</td>\n",
       "    </tr>\n",
       "    <tr>\n",
       "      <th>44553</th>\n",
       "      <td>81.318681</td>\n",
       "      <td>11</td>\n",
       "    </tr>\n",
       "    <tr>\n",
       "      <th>44644</th>\n",
       "      <td>82.108434</td>\n",
       "      <td>18</td>\n",
       "    </tr>\n",
       "    <tr>\n",
       "      <th>44727</th>\n",
       "      <td>76.779070</td>\n",
       "      <td>8</td>\n",
       "    </tr>\n",
       "    <tr>\n",
       "      <th>44813</th>\n",
       "      <td>77.040000</td>\n",
       "      <td>0</td>\n",
       "    </tr>\n",
       "    <tr>\n",
       "      <th>44863</th>\n",
       "      <td>79.132075</td>\n",
       "      <td>8</td>\n",
       "    </tr>\n",
       "  </tbody>\n",
       "</table>\n",
       "<p>689 rows × 2 columns</p>\n",
       "</div>"
      ],
      "text/plain": [
       "       Average Rating %  Number of Bikes\n",
       "0             81.500000                6\n",
       "82            80.372340               11\n",
       "176           79.758621                9\n",
       "263           79.932584                2\n",
       "352           80.977011                6\n",
       "...                 ...              ...\n",
       "44553         81.318681               11\n",
       "44644         82.108434               18\n",
       "44727         76.779070                8\n",
       "44813         77.040000                0\n",
       "44863         79.132075                8\n",
       "\n",
       "[689 rows x 2 columns]"
      ]
     },
     "execution_count": 98,
     "metadata": {},
     "output_type": "execute_result"
    }
   ],
   "source": [
    "rating_by_area_numeric = rating_by_area[['Average Rating %', 'Number of Bikes']]\n",
    "rating_by_area_numeric"
   ]
  },
  {
   "cell_type": "markdown",
   "metadata": {},
   "source": [
    "### Average Rating and Number of Bikes with completely unnecessary scaling"
   ]
  },
  {
   "cell_type": "code",
   "execution_count": 99,
   "metadata": {},
   "outputs": [],
   "source": [
    "scaler = MinMaxScaler()\n",
    "rating_by_area_scaled = pd.DataFrame(scaler.fit_transform(rating_by_area_numeric), columns=rating_by_area_numeric.columns)"
   ]
  },
  {
   "cell_type": "code",
   "execution_count": 100,
   "metadata": {},
   "outputs": [
    {
     "data": {
      "text/html": [
       "<div>\n",
       "<style scoped>\n",
       "    .dataframe tbody tr th:only-of-type {\n",
       "        vertical-align: middle;\n",
       "    }\n",
       "\n",
       "    .dataframe tbody tr th {\n",
       "        vertical-align: top;\n",
       "    }\n",
       "\n",
       "    .dataframe thead th {\n",
       "        text-align: right;\n",
       "    }\n",
       "</style>\n",
       "<table border=\"1\" class=\"dataframe\">\n",
       "  <thead>\n",
       "    <tr style=\"text-align: right;\">\n",
       "      <th></th>\n",
       "      <th>Average Rating %</th>\n",
       "      <th>Number of Bikes</th>\n",
       "    </tr>\n",
       "  </thead>\n",
       "  <tbody>\n",
       "    <tr>\n",
       "      <th>0</th>\n",
       "      <td>0.851852</td>\n",
       "      <td>0.166667</td>\n",
       "    </tr>\n",
       "    <tr>\n",
       "      <th>1</th>\n",
       "      <td>0.818440</td>\n",
       "      <td>0.305556</td>\n",
       "    </tr>\n",
       "    <tr>\n",
       "      <th>2</th>\n",
       "      <td>0.800255</td>\n",
       "      <td>0.250000</td>\n",
       "    </tr>\n",
       "    <tr>\n",
       "      <th>3</th>\n",
       "      <td>0.805410</td>\n",
       "      <td>0.055556</td>\n",
       "    </tr>\n",
       "    <tr>\n",
       "      <th>4</th>\n",
       "      <td>0.836356</td>\n",
       "      <td>0.166667</td>\n",
       "    </tr>\n",
       "  </tbody>\n",
       "</table>\n",
       "</div>"
      ],
      "text/plain": [
       "   Average Rating %  Number of Bikes\n",
       "0          0.851852         0.166667\n",
       "1          0.818440         0.305556\n",
       "2          0.800255         0.250000\n",
       "3          0.805410         0.055556\n",
       "4          0.836356         0.166667"
      ]
     },
     "execution_count": 100,
     "metadata": {},
     "output_type": "execute_result"
    }
   ],
   "source": [
    "rating_by_area_scaled.head()"
   ]
  },
  {
   "cell_type": "code",
   "execution_count": 101,
   "metadata": {},
   "outputs": [
    {
     "data": {
      "text/html": [
       "<div>\n",
       "<style scoped>\n",
       "    .dataframe tbody tr th:only-of-type {\n",
       "        vertical-align: middle;\n",
       "    }\n",
       "\n",
       "    .dataframe tbody tr th {\n",
       "        vertical-align: top;\n",
       "    }\n",
       "\n",
       "    .dataframe thead th {\n",
       "        text-align: right;\n",
       "    }\n",
       "</style>\n",
       "<table border=\"1\" class=\"dataframe\">\n",
       "  <thead>\n",
       "    <tr style=\"text-align: right;\">\n",
       "      <th></th>\n",
       "      <th>Average Rating %</th>\n",
       "      <th>Number of Bikes</th>\n",
       "    </tr>\n",
       "  </thead>\n",
       "  <tbody>\n",
       "    <tr>\n",
       "      <th>Average Rating %</th>\n",
       "      <td>1.000000</td>\n",
       "      <td>0.149959</td>\n",
       "    </tr>\n",
       "    <tr>\n",
       "      <th>Number of Bikes</th>\n",
       "      <td>0.149959</td>\n",
       "      <td>1.000000</td>\n",
       "    </tr>\n",
       "  </tbody>\n",
       "</table>\n",
       "</div>"
      ],
      "text/plain": [
       "                  Average Rating %  Number of Bikes\n",
       "Average Rating %          1.000000         0.149959\n",
       "Number of Bikes           0.149959         1.000000"
      ]
     },
     "execution_count": 101,
     "metadata": {},
     "output_type": "execute_result"
    }
   ],
   "source": [
    "rating_by_area_scaled.corr(numeric_only = True)"
   ]
  },
  {
   "cell_type": "code",
   "execution_count": 102,
   "metadata": {},
   "outputs": [
    {
     "data": {
      "text/plain": [
       "7.767732039494585e-05"
      ]
     },
     "execution_count": 102,
     "metadata": {},
     "output_type": "execute_result"
    }
   ],
   "source": [
    "stat, p = scipy.stats.pearsonr(rating_by_area_scaled['Average Rating %'], rating_by_area_scaled['Number of Bikes'])\n",
    "p"
   ]
  },
  {
   "cell_type": "code",
   "execution_count": 103,
   "metadata": {},
   "outputs": [
    {
     "data": {
      "text/html": [
       "<div>\n",
       "<style scoped>\n",
       "    .dataframe tbody tr th:only-of-type {\n",
       "        vertical-align: middle;\n",
       "    }\n",
       "\n",
       "    .dataframe tbody tr th {\n",
       "        vertical-align: top;\n",
       "    }\n",
       "\n",
       "    .dataframe thead th {\n",
       "        text-align: right;\n",
       "    }\n",
       "</style>\n",
       "<table border=\"1\" class=\"dataframe\">\n",
       "  <thead>\n",
       "    <tr style=\"text-align: right;\">\n",
       "      <th></th>\n",
       "      <th>const</th>\n",
       "      <th>Average Rating %</th>\n",
       "    </tr>\n",
       "  </thead>\n",
       "  <tbody>\n",
       "    <tr>\n",
       "      <th>0</th>\n",
       "      <td>1.0</td>\n",
       "      <td>0.851852</td>\n",
       "    </tr>\n",
       "    <tr>\n",
       "      <th>1</th>\n",
       "      <td>1.0</td>\n",
       "      <td>0.818440</td>\n",
       "    </tr>\n",
       "    <tr>\n",
       "      <th>2</th>\n",
       "      <td>1.0</td>\n",
       "      <td>0.800255</td>\n",
       "    </tr>\n",
       "    <tr>\n",
       "      <th>3</th>\n",
       "      <td>1.0</td>\n",
       "      <td>0.805410</td>\n",
       "    </tr>\n",
       "    <tr>\n",
       "      <th>4</th>\n",
       "      <td>1.0</td>\n",
       "      <td>0.836356</td>\n",
       "    </tr>\n",
       "  </tbody>\n",
       "</table>\n",
       "</div>"
      ],
      "text/plain": [
       "   const  Average Rating %\n",
       "0    1.0          0.851852\n",
       "1    1.0          0.818440\n",
       "2    1.0          0.800255\n",
       "3    1.0          0.805410\n",
       "4    1.0          0.836356"
      ]
     },
     "execution_count": 103,
     "metadata": {},
     "output_type": "execute_result"
    }
   ],
   "source": [
    "#model set up\n",
    "\n",
    "y = rating_by_area_scaled['Number of Bikes']\n",
    "X = rating_by_area_scaled['Average Rating %']\n",
    "X = sm.add_constant(X) #adds a column of 1's so the model will contain an intercept (b value), bias\n",
    "X.head()"
   ]
  },
  {
   "cell_type": "code",
   "execution_count": 104,
   "metadata": {},
   "outputs": [
    {
     "name": "stdout",
     "output_type": "stream",
     "text": [
      "                            OLS Regression Results                            \n",
      "==============================================================================\n",
      "Dep. Variable:        Number of Bikes   R-squared:                       0.022\n",
      "Model:                            OLS   Adj. R-squared:                  0.021\n",
      "Method:                 Least Squares   F-statistic:                     15.80\n",
      "Date:                Wed, 30 Aug 2023   Prob (F-statistic):           7.77e-05\n",
      "Time:                        23:33:27   Log-Likelihood:                 220.89\n",
      "No. Observations:                 689   AIC:                            -437.8\n",
      "Df Residuals:                     687   BIC:                            -428.7\n",
      "Df Model:                           1                                         \n",
      "Covariance Type:            nonrobust                                         \n",
      "====================================================================================\n",
      "                       coef    std err          t      P>|t|      [0.025      0.975]\n",
      "------------------------------------------------------------------------------------\n",
      "const                0.0961      0.033      2.890      0.004       0.031       0.161\n",
      "Average Rating %     0.1736      0.044      3.975      0.000       0.088       0.259\n",
      "==============================================================================\n",
      "Omnibus:                       79.440   Durbin-Watson:                   1.676\n",
      "Prob(Omnibus):                  0.000   Jarque-Bera (JB):              106.442\n",
      "Skew:                           0.878   Prob(JB):                     7.70e-24\n",
      "Kurtosis:                       3.790   Cond. No.                         10.2\n",
      "==============================================================================\n",
      "\n",
      "Notes:\n",
      "[1] Standard Errors assume that the covariance matrix of the errors is correctly specified.\n"
     ]
    }
   ],
   "source": [
    "model = sm.OLS(y, X) # called instantiating a model, making a class\n",
    "results = model.fit() #.fit the model (this is where OLS is actually being run)\n",
    "\n",
    "print(results.summary())"
   ]
  },
  {
   "cell_type": "markdown",
   "metadata": {},
   "source": [
    "### Number of Restaurants in the area/ Number of Bikes"
   ]
  },
  {
   "cell_type": "code",
   "execution_count": 105,
   "metadata": {},
   "outputs": [
    {
     "data": {
      "text/plain": [
       "(53974, 13)"
      ]
     },
     "execution_count": 105,
     "metadata": {},
     "output_type": "execute_result"
    }
   ],
   "source": [
    "yelp_fs_citybike_df.shape"
   ]
  },
  {
   "cell_type": "code",
   "execution_count": 106,
   "metadata": {},
   "outputs": [],
   "source": [
    "#removing non-restaurant venues from df\n",
    "\n",
    "cat_to_exclude = ['Cafes', 'Cafe' 'Coffee','Tea','Bakeries','Bakery','Libraries','Spas','Spa','Desserts','Lounges','Trucks', 'Breweries','Galleries','Salons','Arcades','Ice Cream', 'Frozen Yogurt','Caterers','Hair','Delivery','Grocery','Landmarks','Skin Care','Museums','Butcher','Cheese Shops','Venues','Juice Bars & Smoothies','Framing','Event Photography','Shops','Home','Shopping','Bowling','Art','Botanical Gardens','Virtual Reality','Beer', 'Wine & Spirits','Donuts','Bubble Tea','Stores','Art Supplies','Street Vendors','Nurseries & Gardening','Pool Halls','Massage','Schools','School','Waxing','Farmers Market','Clothing','Hookah Bars','Classes','Health','Go Karts','Parks','Park', 'Cooking Classes','Tennis','Food Stands International', 'Grocery', 'Church',  'Sporting', 'Organization', 'Store', 'Soccer']\n",
    "\n",
    "df_restaurants = yelp_fs_citybike_df[~yelp_fs_citybike_df['Category'].str.contains('|'.join(cat_to_exclude))]"
   ]
  },
  {
   "cell_type": "code",
   "execution_count": 107,
   "metadata": {},
   "outputs": [
    {
     "data": {
      "text/html": [
       "<div>\n",
       "<style scoped>\n",
       "    .dataframe tbody tr th:only-of-type {\n",
       "        vertical-align: middle;\n",
       "    }\n",
       "\n",
       "    .dataframe tbody tr th {\n",
       "        vertical-align: top;\n",
       "    }\n",
       "\n",
       "    .dataframe thead th {\n",
       "        text-align: right;\n",
       "    }\n",
       "</style>\n",
       "<table border=\"1\" class=\"dataframe\">\n",
       "  <thead>\n",
       "    <tr style=\"text-align: right;\">\n",
       "      <th></th>\n",
       "      <th>Name</th>\n",
       "      <th>Category</th>\n",
       "      <th>Distance (m)</th>\n",
       "      <th>Rating</th>\n",
       "      <th>Rating %</th>\n",
       "      <th>Number of Reviews</th>\n",
       "      <th>Price 1-4</th>\n",
       "      <th>Station Id</th>\n",
       "      <th>Station Name</th>\n",
       "      <th>Latitude</th>\n",
       "      <th>Longitude</th>\n",
       "      <th>Number of Bikes</th>\n",
       "      <th>Site</th>\n",
       "    </tr>\n",
       "  </thead>\n",
       "  <tbody>\n",
       "    <tr>\n",
       "      <th>0</th>\n",
       "      <td>Gusto 101</td>\n",
       "      <td>Italian</td>\n",
       "      <td>673.3</td>\n",
       "      <td>4.0</td>\n",
       "      <td>80.0</td>\n",
       "      <td>1151.0</td>\n",
       "      <td>2.0</td>\n",
       "      <td>7000</td>\n",
       "      <td>Fort York  Blvd / Capreol Ct</td>\n",
       "      <td>43.639832</td>\n",
       "      <td>-79.395954</td>\n",
       "      <td>6</td>\n",
       "      <td>yelp</td>\n",
       "    </tr>\n",
       "  </tbody>\n",
       "</table>\n",
       "</div>"
      ],
      "text/plain": [
       "        Name Category  Distance (m)  Rating  Rating %  Number of Reviews  \\\n",
       "0  Gusto 101  Italian         673.3     4.0      80.0             1151.0   \n",
       "\n",
       "   Price 1-4  Station Id                  Station Name   Latitude  Longitude  \\\n",
       "0        2.0        7000  Fort York  Blvd / Capreol Ct  43.639832 -79.395954   \n",
       "\n",
       "   Number of Bikes  Site  \n",
       "0                6  yelp  "
      ]
     },
     "execution_count": 107,
     "metadata": {},
     "output_type": "execute_result"
    }
   ],
   "source": [
    "df_restaurants.head(1)"
   ]
  },
  {
   "cell_type": "code",
   "execution_count": 108,
   "metadata": {},
   "outputs": [
    {
     "data": {
      "text/plain": [
       "Station Id\n",
       "7000    84\n",
       "7001    84\n",
       "7002    73\n",
       "7003    75\n",
       "7004    77\n",
       "Name: Name, dtype: int64"
      ]
     },
     "execution_count": 108,
     "metadata": {},
     "output_type": "execute_result"
    }
   ],
   "source": [
    "number_of_restaurants = df_restaurants.groupby('Station Id')['Name'].count()\n",
    "number_of_restaurants.head()"
   ]
  },
  {
   "cell_type": "code",
   "execution_count": 109,
   "metadata": {},
   "outputs": [],
   "source": [
    "restaurants_by_area = pd.DataFrame({\n",
    "    'Station Id': number_of_restaurants.index,\n",
    "    'Number of Restaurants': number_of_restaurants.values})"
   ]
  },
  {
   "cell_type": "code",
   "execution_count": 110,
   "metadata": {},
   "outputs": [],
   "source": [
    "restaurants_by_area = restaurants_by_area.merge(df_restaurants[['Station Id', 'Station Name', 'Number of Bikes']],\n",
    "    on='Station Id', how='left')"
   ]
  },
  {
   "cell_type": "code",
   "execution_count": 111,
   "metadata": {},
   "outputs": [
    {
     "data": {
      "text/html": [
       "<div>\n",
       "<style scoped>\n",
       "    .dataframe tbody tr th:only-of-type {\n",
       "        vertical-align: middle;\n",
       "    }\n",
       "\n",
       "    .dataframe tbody tr th {\n",
       "        vertical-align: top;\n",
       "    }\n",
       "\n",
       "    .dataframe thead th {\n",
       "        text-align: right;\n",
       "    }\n",
       "</style>\n",
       "<table border=\"1\" class=\"dataframe\">\n",
       "  <thead>\n",
       "    <tr style=\"text-align: right;\">\n",
       "      <th></th>\n",
       "      <th>Station Id</th>\n",
       "      <th>Number of Restaurants</th>\n",
       "      <th>Station Name</th>\n",
       "      <th>Number of Bikes</th>\n",
       "    </tr>\n",
       "  </thead>\n",
       "  <tbody>\n",
       "    <tr>\n",
       "      <th>0</th>\n",
       "      <td>7000</td>\n",
       "      <td>84</td>\n",
       "      <td>Fort York  Blvd / Capreol Ct</td>\n",
       "      <td>6</td>\n",
       "    </tr>\n",
       "    <tr>\n",
       "      <th>84</th>\n",
       "      <td>7001</td>\n",
       "      <td>84</td>\n",
       "      <td>Wellesley Station Green P</td>\n",
       "      <td>11</td>\n",
       "    </tr>\n",
       "    <tr>\n",
       "      <th>168</th>\n",
       "      <td>7002</td>\n",
       "      <td>73</td>\n",
       "      <td>St. George St / Bloor St W</td>\n",
       "      <td>9</td>\n",
       "    </tr>\n",
       "    <tr>\n",
       "      <th>241</th>\n",
       "      <td>7003</td>\n",
       "      <td>75</td>\n",
       "      <td>Madison Ave / Bloor St W</td>\n",
       "      <td>2</td>\n",
       "    </tr>\n",
       "    <tr>\n",
       "      <th>316</th>\n",
       "      <td>7004</td>\n",
       "      <td>77</td>\n",
       "      <td>University Ave / Elm St</td>\n",
       "      <td>6</td>\n",
       "    </tr>\n",
       "  </tbody>\n",
       "</table>\n",
       "</div>"
      ],
      "text/plain": [
       "     Station Id  Number of Restaurants                  Station Name  \\\n",
       "0          7000                     84  Fort York  Blvd / Capreol Ct   \n",
       "84         7001                     84     Wellesley Station Green P   \n",
       "168        7002                     73    St. George St / Bloor St W   \n",
       "241        7003                     75      Madison Ave / Bloor St W   \n",
       "316        7004                     77       University Ave / Elm St   \n",
       "\n",
       "     Number of Bikes  \n",
       "0                  6  \n",
       "84                11  \n",
       "168                9  \n",
       "241                2  \n",
       "316                6  "
      ]
     },
     "execution_count": 111,
     "metadata": {},
     "output_type": "execute_result"
    }
   ],
   "source": [
    "restaurants_by_area=restaurants_by_area.groupby('Station Id').head(1)\n",
    "restaurants_by_area.head()"
   ]
  },
  {
   "cell_type": "code",
   "execution_count": 112,
   "metadata": {},
   "outputs": [
    {
     "data": {
      "text/html": [
       "<div>\n",
       "<style scoped>\n",
       "    .dataframe tbody tr th:only-of-type {\n",
       "        vertical-align: middle;\n",
       "    }\n",
       "\n",
       "    .dataframe tbody tr th {\n",
       "        vertical-align: top;\n",
       "    }\n",
       "\n",
       "    .dataframe thead th {\n",
       "        text-align: right;\n",
       "    }\n",
       "</style>\n",
       "<table border=\"1\" class=\"dataframe\">\n",
       "  <thead>\n",
       "    <tr style=\"text-align: right;\">\n",
       "      <th></th>\n",
       "      <th>Station Id</th>\n",
       "      <th>Number of Restaurants</th>\n",
       "      <th>Number of Bikes</th>\n",
       "    </tr>\n",
       "  </thead>\n",
       "  <tbody>\n",
       "    <tr>\n",
       "      <th>Station Id</th>\n",
       "      <td>1.000000</td>\n",
       "      <td>-0.388007</td>\n",
       "      <td>-0.089310</td>\n",
       "    </tr>\n",
       "    <tr>\n",
       "      <th>Number of Restaurants</th>\n",
       "      <td>-0.388007</td>\n",
       "      <td>1.000000</td>\n",
       "      <td>0.148949</td>\n",
       "    </tr>\n",
       "    <tr>\n",
       "      <th>Number of Bikes</th>\n",
       "      <td>-0.089310</td>\n",
       "      <td>0.148949</td>\n",
       "      <td>1.000000</td>\n",
       "    </tr>\n",
       "  </tbody>\n",
       "</table>\n",
       "</div>"
      ],
      "text/plain": [
       "                       Station Id  Number of Restaurants  Number of Bikes\n",
       "Station Id               1.000000              -0.388007        -0.089310\n",
       "Number of Restaurants   -0.388007               1.000000         0.148949\n",
       "Number of Bikes         -0.089310               0.148949         1.000000"
      ]
     },
     "execution_count": 112,
     "metadata": {},
     "output_type": "execute_result"
    }
   ],
   "source": [
    "restaurants_by_area.corr(numeric_only = True)"
   ]
  },
  {
   "cell_type": "code",
   "execution_count": 113,
   "metadata": {},
   "outputs": [
    {
     "data": {
      "text/plain": [
       "8.688869987340089e-05"
      ]
     },
     "execution_count": 113,
     "metadata": {},
     "output_type": "execute_result"
    }
   ],
   "source": [
    "stat, p = scipy.stats.pearsonr(restaurants_by_area['Number of Restaurants'], restaurants_by_area['Number of Bikes'])\n",
    "p"
   ]
  },
  {
   "cell_type": "code",
   "execution_count": 114,
   "metadata": {},
   "outputs": [
    {
     "data": {
      "text/html": [
       "<div>\n",
       "<style scoped>\n",
       "    .dataframe tbody tr th:only-of-type {\n",
       "        vertical-align: middle;\n",
       "    }\n",
       "\n",
       "    .dataframe tbody tr th {\n",
       "        vertical-align: top;\n",
       "    }\n",
       "\n",
       "    .dataframe thead th {\n",
       "        text-align: right;\n",
       "    }\n",
       "</style>\n",
       "<table border=\"1\" class=\"dataframe\">\n",
       "  <thead>\n",
       "    <tr style=\"text-align: right;\">\n",
       "      <th></th>\n",
       "      <th>const</th>\n",
       "      <th>Number of Restaurants</th>\n",
       "    </tr>\n",
       "  </thead>\n",
       "  <tbody>\n",
       "    <tr>\n",
       "      <th>0</th>\n",
       "      <td>1.0</td>\n",
       "      <td>84</td>\n",
       "    </tr>\n",
       "    <tr>\n",
       "      <th>84</th>\n",
       "      <td>1.0</td>\n",
       "      <td>84</td>\n",
       "    </tr>\n",
       "    <tr>\n",
       "      <th>168</th>\n",
       "      <td>1.0</td>\n",
       "      <td>73</td>\n",
       "    </tr>\n",
       "    <tr>\n",
       "      <th>241</th>\n",
       "      <td>1.0</td>\n",
       "      <td>75</td>\n",
       "    </tr>\n",
       "    <tr>\n",
       "      <th>316</th>\n",
       "      <td>1.0</td>\n",
       "      <td>77</td>\n",
       "    </tr>\n",
       "  </tbody>\n",
       "</table>\n",
       "</div>"
      ],
      "text/plain": [
       "     const  Number of Restaurants\n",
       "0      1.0                     84\n",
       "84     1.0                     84\n",
       "168    1.0                     73\n",
       "241    1.0                     75\n",
       "316    1.0                     77"
      ]
     },
     "execution_count": 114,
     "metadata": {},
     "output_type": "execute_result"
    }
   ],
   "source": [
    "y = restaurants_by_area['Number of Bikes']\n",
    "X = restaurants_by_area['Number of Restaurants']\n",
    "X = sm.add_constant(X)\n",
    "X.head()"
   ]
  },
  {
   "cell_type": "code",
   "execution_count": 115,
   "metadata": {},
   "outputs": [
    {
     "name": "stdout",
     "output_type": "stream",
     "text": [
      "                            OLS Regression Results                            \n",
      "==============================================================================\n",
      "Dep. Variable:        Number of Bikes   R-squared:                       0.022\n",
      "Model:                            OLS   Adj. R-squared:                  0.021\n",
      "Method:                 Least Squares   F-statistic:                     15.59\n",
      "Date:                Wed, 30 Aug 2023   Prob (F-statistic):           8.69e-05\n",
      "Time:                        23:33:35   Log-Likelihood:                -2248.3\n",
      "No. Observations:                 689   AIC:                             4501.\n",
      "Df Residuals:                     687   BIC:                             4510.\n",
      "Df Model:                           1                                         \n",
      "Covariance Type:            nonrobust                                         \n",
      "=========================================================================================\n",
      "                            coef    std err          t      P>|t|      [0.025      0.975]\n",
      "-----------------------------------------------------------------------------------------\n",
      "const                     5.1416      0.791      6.500      0.000       3.588       6.695\n",
      "Number of Restaurants     0.0473      0.012      3.948      0.000       0.024       0.071\n",
      "==============================================================================\n",
      "Omnibus:                       74.922   Durbin-Watson:                   1.686\n",
      "Prob(Omnibus):                  0.000   Jarque-Bera (JB):               97.775\n",
      "Skew:                           0.861   Prob(JB):                     5.87e-22\n",
      "Kurtosis:                       3.666   Cond. No.                         216.\n",
      "==============================================================================\n",
      "\n",
      "Notes:\n",
      "[1] Standard Errors assume that the covariance matrix of the errors is correctly specified.\n"
     ]
    }
   ],
   "source": [
    "model = sm.OLS(y, X) \n",
    "results = model.fit()\n",
    "\n",
    "print(results.summary())"
   ]
  },
  {
   "cell_type": "markdown",
   "metadata": {},
   "source": [
    "Scaled"
   ]
  },
  {
   "cell_type": "code",
   "execution_count": 116,
   "metadata": {},
   "outputs": [],
   "source": [
    "restaurants_by_area_numeric =restaurants_by_area[['Number of Restaurants', 'Number of Bikes']]"
   ]
  },
  {
   "cell_type": "markdown",
   "metadata": {},
   "source": [
    "### Number of not Restaurants"
   ]
  },
  {
   "cell_type": "code",
   "execution_count": 117,
   "metadata": {},
   "outputs": [],
   "source": [
    "cat_to_keep = ['Cafes', 'Cafe' 'Coffee','Tea','Bakeries','Bakery','Libraries','Spas','Spa','Desserts','Lounges','Trucks', 'Breweries','Galleries','Salons','Arcades','Ice Cream', 'Frozen Yogurt','Caterers','Hair','Delivery','Grocery','Landmarks','Skin Care','Museums','Butcher','Cheese Shops','Venues','Juice Bars & Smoothies','Framing','Event Photography','Shops','Home','Shopping','Bowling','Art','Botanical Gardens','Virtual Reality','Beer', 'Wine & Spirits','Donuts','Bubble Tea','Stores','Art Supplies','Street Vendors','Nurseries & Gardening','Pool Halls','Massage','Schools','School','Waxing','Farmers Market','Clothing','Hookah Bars','Classes','Health','Go Karts','Parks','Park', 'Cooking Classes','Tennis','Food Stands International', 'Grocery', 'Church',  'Sporting', 'Organization', 'Store', 'Soccer']\n",
    "\n",
    "df_not_restaurants = yelp_fs_citybike_df[yelp_fs_citybike_df['Category'].str.contains('|'.join(cat_to_keep))]"
   ]
  },
  {
   "cell_type": "code",
   "execution_count": 118,
   "metadata": {},
   "outputs": [],
   "source": [
    "number_of_not_restaurants = df_not_restaurants.groupby('Station Id')['Name'].count()"
   ]
  },
  {
   "cell_type": "code",
   "execution_count": 119,
   "metadata": {},
   "outputs": [],
   "source": [
    "not_restaurants_by_area = pd.DataFrame({\n",
    "    'Station Id': number_of_not_restaurants.index,\n",
    "    'Number of not Restaurants': number_of_not_restaurants.values})"
   ]
  },
  {
   "cell_type": "code",
   "execution_count": 120,
   "metadata": {},
   "outputs": [],
   "source": [
    "non_restaurants_by_area = not_restaurants_by_area.merge(df_not_restaurants[['Station Id', 'Station Name', 'Number of Bikes']],\n",
    "    on='Station Id', how='left')"
   ]
  },
  {
   "cell_type": "code",
   "execution_count": 121,
   "metadata": {},
   "outputs": [],
   "source": [
    "non_restaurants_by_area=non_restaurants_by_area.groupby('Station Id').head(1)"
   ]
  },
  {
   "cell_type": "code",
   "execution_count": 122,
   "metadata": {},
   "outputs": [
    {
     "data": {
      "text/html": [
       "<div>\n",
       "<style scoped>\n",
       "    .dataframe tbody tr th:only-of-type {\n",
       "        vertical-align: middle;\n",
       "    }\n",
       "\n",
       "    .dataframe tbody tr th {\n",
       "        vertical-align: top;\n",
       "    }\n",
       "\n",
       "    .dataframe thead th {\n",
       "        text-align: right;\n",
       "    }\n",
       "</style>\n",
       "<table border=\"1\" class=\"dataframe\">\n",
       "  <thead>\n",
       "    <tr style=\"text-align: right;\">\n",
       "      <th></th>\n",
       "      <th>Station Id</th>\n",
       "      <th>Number of not Restaurants</th>\n",
       "      <th>Station Name</th>\n",
       "      <th>Number of Bikes</th>\n",
       "    </tr>\n",
       "  </thead>\n",
       "  <tbody>\n",
       "    <tr>\n",
       "      <th>0</th>\n",
       "      <td>7000</td>\n",
       "      <td>9</td>\n",
       "      <td>Fort York  Blvd / Capreol Ct</td>\n",
       "      <td>6</td>\n",
       "    </tr>\n",
       "    <tr>\n",
       "      <th>9</th>\n",
       "      <td>7001</td>\n",
       "      <td>16</td>\n",
       "      <td>Wellesley Station Green P</td>\n",
       "      <td>11</td>\n",
       "    </tr>\n",
       "    <tr>\n",
       "      <th>25</th>\n",
       "      <td>7002</td>\n",
       "      <td>22</td>\n",
       "      <td>St. George St / Bloor St W</td>\n",
       "      <td>9</td>\n",
       "    </tr>\n",
       "    <tr>\n",
       "      <th>47</th>\n",
       "      <td>7003</td>\n",
       "      <td>21</td>\n",
       "      <td>Madison Ave / Bloor St W</td>\n",
       "      <td>2</td>\n",
       "    </tr>\n",
       "    <tr>\n",
       "      <th>68</th>\n",
       "      <td>7004</td>\n",
       "      <td>17</td>\n",
       "      <td>University Ave / Elm St</td>\n",
       "      <td>6</td>\n",
       "    </tr>\n",
       "  </tbody>\n",
       "</table>\n",
       "</div>"
      ],
      "text/plain": [
       "    Station Id  Number of not Restaurants                  Station Name  \\\n",
       "0         7000                          9  Fort York  Blvd / Capreol Ct   \n",
       "9         7001                         16     Wellesley Station Green P   \n",
       "25        7002                         22    St. George St / Bloor St W   \n",
       "47        7003                         21      Madison Ave / Bloor St W   \n",
       "68        7004                         17       University Ave / Elm St   \n",
       "\n",
       "    Number of Bikes  \n",
       "0                 6  \n",
       "9                11  \n",
       "25                9  \n",
       "47                2  \n",
       "68                6  "
      ]
     },
     "execution_count": 122,
     "metadata": {},
     "output_type": "execute_result"
    }
   ],
   "source": [
    "non_restaurants_by_area.head()"
   ]
  },
  {
   "cell_type": "code",
   "execution_count": 123,
   "metadata": {},
   "outputs": [
    {
     "data": {
      "text/html": [
       "<div>\n",
       "<style scoped>\n",
       "    .dataframe tbody tr th:only-of-type {\n",
       "        vertical-align: middle;\n",
       "    }\n",
       "\n",
       "    .dataframe tbody tr th {\n",
       "        vertical-align: top;\n",
       "    }\n",
       "\n",
       "    .dataframe thead th {\n",
       "        text-align: right;\n",
       "    }\n",
       "</style>\n",
       "<table border=\"1\" class=\"dataframe\">\n",
       "  <thead>\n",
       "    <tr style=\"text-align: right;\">\n",
       "      <th></th>\n",
       "      <th>Station Id</th>\n",
       "      <th>Number of not Restaurants</th>\n",
       "      <th>Number of Bikes</th>\n",
       "    </tr>\n",
       "  </thead>\n",
       "  <tbody>\n",
       "    <tr>\n",
       "      <th>Station Id</th>\n",
       "      <td>1.000000</td>\n",
       "      <td>-0.081656</td>\n",
       "      <td>-0.089310</td>\n",
       "    </tr>\n",
       "    <tr>\n",
       "      <th>Number of not Restaurants</th>\n",
       "      <td>-0.081656</td>\n",
       "      <td>1.000000</td>\n",
       "      <td>-0.067524</td>\n",
       "    </tr>\n",
       "    <tr>\n",
       "      <th>Number of Bikes</th>\n",
       "      <td>-0.089310</td>\n",
       "      <td>-0.067524</td>\n",
       "      <td>1.000000</td>\n",
       "    </tr>\n",
       "  </tbody>\n",
       "</table>\n",
       "</div>"
      ],
      "text/plain": [
       "                           Station Id  Number of not Restaurants  \\\n",
       "Station Id                   1.000000                  -0.081656   \n",
       "Number of not Restaurants   -0.081656                   1.000000   \n",
       "Number of Bikes             -0.089310                  -0.067524   \n",
       "\n",
       "                           Number of Bikes  \n",
       "Station Id                       -0.089310  \n",
       "Number of not Restaurants        -0.067524  \n",
       "Number of Bikes                   1.000000  "
      ]
     },
     "execution_count": 123,
     "metadata": {},
     "output_type": "execute_result"
    }
   ],
   "source": [
    "non_restaurants_by_area.corr(numeric_only=True)"
   ]
  },
  {
   "cell_type": "code",
   "execution_count": 124,
   "metadata": {},
   "outputs": [
    {
     "data": {
      "text/plain": [
       "8.688869987340089e-05"
      ]
     },
     "execution_count": 124,
     "metadata": {},
     "output_type": "execute_result"
    }
   ],
   "source": [
    "stat, p1 = scipy.stats.pearsonr(non_restaurants_by_area['Number of not Restaurants'], non_restaurants_by_area['Number of Bikes'])\n",
    "p"
   ]
  },
  {
   "cell_type": "code",
   "execution_count": 125,
   "metadata": {},
   "outputs": [
    {
     "data": {
      "text/html": [
       "<div>\n",
       "<style scoped>\n",
       "    .dataframe tbody tr th:only-of-type {\n",
       "        vertical-align: middle;\n",
       "    }\n",
       "\n",
       "    .dataframe tbody tr th {\n",
       "        vertical-align: top;\n",
       "    }\n",
       "\n",
       "    .dataframe thead th {\n",
       "        text-align: right;\n",
       "    }\n",
       "</style>\n",
       "<table border=\"1\" class=\"dataframe\">\n",
       "  <thead>\n",
       "    <tr style=\"text-align: right;\">\n",
       "      <th></th>\n",
       "      <th>const</th>\n",
       "      <th>Number of not Restaurants</th>\n",
       "    </tr>\n",
       "  </thead>\n",
       "  <tbody>\n",
       "    <tr>\n",
       "      <th>0</th>\n",
       "      <td>1.0</td>\n",
       "      <td>9</td>\n",
       "    </tr>\n",
       "    <tr>\n",
       "      <th>9</th>\n",
       "      <td>1.0</td>\n",
       "      <td>16</td>\n",
       "    </tr>\n",
       "    <tr>\n",
       "      <th>25</th>\n",
       "      <td>1.0</td>\n",
       "      <td>22</td>\n",
       "    </tr>\n",
       "    <tr>\n",
       "      <th>47</th>\n",
       "      <td>1.0</td>\n",
       "      <td>21</td>\n",
       "    </tr>\n",
       "    <tr>\n",
       "      <th>68</th>\n",
       "      <td>1.0</td>\n",
       "      <td>17</td>\n",
       "    </tr>\n",
       "  </tbody>\n",
       "</table>\n",
       "</div>"
      ],
      "text/plain": [
       "    const  Number of not Restaurants\n",
       "0     1.0                          9\n",
       "9     1.0                         16\n",
       "25    1.0                         22\n",
       "47    1.0                         21\n",
       "68    1.0                         17"
      ]
     },
     "execution_count": 125,
     "metadata": {},
     "output_type": "execute_result"
    }
   ],
   "source": [
    "y = non_restaurants_by_area['Number of Bikes']\n",
    "X = non_restaurants_by_area['Number of not Restaurants']\n",
    "X = sm.add_constant(X)\n",
    "X.head()"
   ]
  },
  {
   "cell_type": "code",
   "execution_count": 126,
   "metadata": {},
   "outputs": [
    {
     "name": "stdout",
     "output_type": "stream",
     "text": [
      "                            OLS Regression Results                            \n",
      "==============================================================================\n",
      "Dep. Variable:        Number of Bikes   R-squared:                       0.005\n",
      "Model:                            OLS   Adj. R-squared:                  0.003\n",
      "Method:                 Least Squares   F-statistic:                     3.147\n",
      "Date:                Wed, 30 Aug 2023   Prob (F-statistic):             0.0765\n",
      "Time:                        23:33:42   Log-Likelihood:                -2254.4\n",
      "No. Observations:                 689   AIC:                             4513.\n",
      "Df Residuals:                     687   BIC:                             4522.\n",
      "Df Model:                           1                                         \n",
      "Covariance Type:            nonrobust                                         \n",
      "=============================================================================================\n",
      "                                coef    std err          t      P>|t|      [0.025      0.975]\n",
      "---------------------------------------------------------------------------------------------\n",
      "const                         9.4109      0.769     12.231      0.000       7.900      10.922\n",
      "Number of not Restaurants    -0.0837      0.047     -1.774      0.077      -0.176       0.009\n",
      "==============================================================================\n",
      "Omnibus:                       84.746   Durbin-Watson:                   1.690\n",
      "Prob(Omnibus):                  0.000   Jarque-Bera (JB):              115.652\n",
      "Skew:                           0.916   Prob(JB):                     7.70e-26\n",
      "Kurtosis:                       3.819   Cond. No.                         51.7\n",
      "==============================================================================\n",
      "\n",
      "Notes:\n",
      "[1] Standard Errors assume that the covariance matrix of the errors is correctly specified.\n"
     ]
    }
   ],
   "source": [
    "model = sm.OLS(y, X)\n",
    "results = model.fit()\n",
    "\n",
    "print(results.summary())"
   ]
  },
  {
   "cell_type": "markdown",
   "metadata": {},
   "source": [
    "# Stretch"
   ]
  },
  {
   "cell_type": "markdown",
   "metadata": {},
   "source": [
    "#### How can you turn the regression model into a classification model?"
   ]
  },
  {
   "cell_type": "markdown",
   "metadata": {},
   "source": [
    "You could turn the above regression problem into classification one by converting the numeric values into categorical ones. The number of bikes could be sorted into low, medium, or high capcities based on how many bicycles there are at the station at the time of data retrieval. There was also a differntiation in the CityBikes information between regular bikes and e-bikes, perhaps that could also be a route to follow.\n",
    "\n",
    "Exploratory data analysis can still involve various visualization techniques like histograms and bar plots. For deeper analysis, hypothesis testing methods such as crosstab and Chi-square tests can be employed to assess the potential independence between variables. Additionally, T-tests or Paired T-tests can be used to compare means among two or more categories respectively.\n",
    "\n",
    "Once the preliminary analysis is complete, you might progress to utilizing a logistic regression model. This model is used when your target variable is categorical and involves predicting the likelihood of a categorical outcome based on the characteristics of the data."
   ]
  }
 ],
 "metadata": {
  "kernelspec": {
   "display_name": "LHL_python_environment",
   "language": "python",
   "name": "lhl_python_environment"
  },
  "language_info": {
   "codemirror_mode": {
    "name": "ipython",
    "version": 3
   },
   "file_extension": ".py",
   "mimetype": "text/x-python",
   "name": "python",
   "nbconvert_exporter": "python",
   "pygments_lexer": "ipython3",
   "version": "3.9.17"
  }
 },
 "nbformat": 4,
 "nbformat_minor": 4
}
